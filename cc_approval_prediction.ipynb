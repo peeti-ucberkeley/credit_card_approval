{
 "cells": [
  {
   "cell_type": "code",
   "execution_count": 1,
   "id": "6a90aa1f",
   "metadata": {},
   "outputs": [],
   "source": [
    "import numpy as np\n",
    "import pandas as pd\n",
    "import seaborn as sns\n",
    "import os, re, joblib\n",
    "from pathlib import Path\n",
    "\n",
    "import warnings\n",
    "warnings.filterwarnings(\"ignore\")\n",
    "import matplotlib.pyplot as plt\n",
    "\n",
    "%matplotlib inline"
   ]
  },
  {
   "cell_type": "markdown",
   "id": "b2e21047",
   "metadata": {},
   "source": [
    "# Load Data"
   ]
  },
  {
   "cell_type": "code",
   "execution_count": 2,
   "id": "fcdb0166",
   "metadata": {},
   "outputs": [
    {
     "name": "stdout",
     "output_type": "stream",
     "text": [
      "(438557, 18)\n",
      "(1048575, 3)\n"
     ]
    }
   ],
   "source": [
    "full_data = pd.read_csv('dataset/application_record.csv')\n",
    "status_data = pd.read_csv('dataset/credit_record.csv')\n",
    "\n",
    "print(full_data.shape)\n",
    "print(status_data.shape)"
   ]
  },
  {
   "cell_type": "code",
   "execution_count": 3,
   "id": "21136942",
   "metadata": {},
   "outputs": [
    {
     "data": {
      "text/html": [
       "<div>\n",
       "<style scoped>\n",
       "    .dataframe tbody tr th:only-of-type {\n",
       "        vertical-align: middle;\n",
       "    }\n",
       "\n",
       "    .dataframe tbody tr th {\n",
       "        vertical-align: top;\n",
       "    }\n",
       "\n",
       "    .dataframe thead th {\n",
       "        text-align: right;\n",
       "    }\n",
       "</style>\n",
       "<table border=\"1\" class=\"dataframe\">\n",
       "  <thead>\n",
       "    <tr style=\"text-align: right;\">\n",
       "      <th></th>\n",
       "      <th>ID</th>\n",
       "      <th>CODE_GENDER</th>\n",
       "      <th>FLAG_OWN_CAR</th>\n",
       "      <th>FLAG_OWN_REALTY</th>\n",
       "      <th>CNT_CHILDREN</th>\n",
       "      <th>AMT_INCOME_TOTAL</th>\n",
       "      <th>NAME_INCOME_TYPE</th>\n",
       "      <th>NAME_EDUCATION_TYPE</th>\n",
       "      <th>NAME_FAMILY_STATUS</th>\n",
       "      <th>NAME_HOUSING_TYPE</th>\n",
       "      <th>DAYS_BIRTH</th>\n",
       "      <th>DAYS_EMPLOYED</th>\n",
       "      <th>FLAG_MOBIL</th>\n",
       "      <th>FLAG_WORK_PHONE</th>\n",
       "      <th>FLAG_PHONE</th>\n",
       "      <th>FLAG_EMAIL</th>\n",
       "      <th>OCCUPATION_TYPE</th>\n",
       "      <th>CNT_FAM_MEMBERS</th>\n",
       "    </tr>\n",
       "  </thead>\n",
       "  <tbody>\n",
       "    <tr>\n",
       "      <th>0</th>\n",
       "      <td>5008804</td>\n",
       "      <td>M</td>\n",
       "      <td>Y</td>\n",
       "      <td>Y</td>\n",
       "      <td>0</td>\n",
       "      <td>427500.0</td>\n",
       "      <td>Working</td>\n",
       "      <td>Higher education</td>\n",
       "      <td>Civil marriage</td>\n",
       "      <td>Rented apartment</td>\n",
       "      <td>-12005</td>\n",
       "      <td>-4542</td>\n",
       "      <td>1</td>\n",
       "      <td>1</td>\n",
       "      <td>0</td>\n",
       "      <td>0</td>\n",
       "      <td>NaN</td>\n",
       "      <td>2.0</td>\n",
       "    </tr>\n",
       "    <tr>\n",
       "      <th>1</th>\n",
       "      <td>5008805</td>\n",
       "      <td>M</td>\n",
       "      <td>Y</td>\n",
       "      <td>Y</td>\n",
       "      <td>0</td>\n",
       "      <td>427500.0</td>\n",
       "      <td>Working</td>\n",
       "      <td>Higher education</td>\n",
       "      <td>Civil marriage</td>\n",
       "      <td>Rented apartment</td>\n",
       "      <td>-12005</td>\n",
       "      <td>-4542</td>\n",
       "      <td>1</td>\n",
       "      <td>1</td>\n",
       "      <td>0</td>\n",
       "      <td>0</td>\n",
       "      <td>NaN</td>\n",
       "      <td>2.0</td>\n",
       "    </tr>\n",
       "    <tr>\n",
       "      <th>2</th>\n",
       "      <td>5008806</td>\n",
       "      <td>M</td>\n",
       "      <td>Y</td>\n",
       "      <td>Y</td>\n",
       "      <td>0</td>\n",
       "      <td>112500.0</td>\n",
       "      <td>Working</td>\n",
       "      <td>Secondary / secondary special</td>\n",
       "      <td>Married</td>\n",
       "      <td>House / apartment</td>\n",
       "      <td>-21474</td>\n",
       "      <td>-1134</td>\n",
       "      <td>1</td>\n",
       "      <td>0</td>\n",
       "      <td>0</td>\n",
       "      <td>0</td>\n",
       "      <td>Security staff</td>\n",
       "      <td>2.0</td>\n",
       "    </tr>\n",
       "    <tr>\n",
       "      <th>3</th>\n",
       "      <td>5008808</td>\n",
       "      <td>F</td>\n",
       "      <td>N</td>\n",
       "      <td>Y</td>\n",
       "      <td>0</td>\n",
       "      <td>270000.0</td>\n",
       "      <td>Commercial associate</td>\n",
       "      <td>Secondary / secondary special</td>\n",
       "      <td>Single / not married</td>\n",
       "      <td>House / apartment</td>\n",
       "      <td>-19110</td>\n",
       "      <td>-3051</td>\n",
       "      <td>1</td>\n",
       "      <td>0</td>\n",
       "      <td>1</td>\n",
       "      <td>1</td>\n",
       "      <td>Sales staff</td>\n",
       "      <td>1.0</td>\n",
       "    </tr>\n",
       "    <tr>\n",
       "      <th>4</th>\n",
       "      <td>5008809</td>\n",
       "      <td>F</td>\n",
       "      <td>N</td>\n",
       "      <td>Y</td>\n",
       "      <td>0</td>\n",
       "      <td>270000.0</td>\n",
       "      <td>Commercial associate</td>\n",
       "      <td>Secondary / secondary special</td>\n",
       "      <td>Single / not married</td>\n",
       "      <td>House / apartment</td>\n",
       "      <td>-19110</td>\n",
       "      <td>-3051</td>\n",
       "      <td>1</td>\n",
       "      <td>0</td>\n",
       "      <td>1</td>\n",
       "      <td>1</td>\n",
       "      <td>Sales staff</td>\n",
       "      <td>1.0</td>\n",
       "    </tr>\n",
       "  </tbody>\n",
       "</table>\n",
       "</div>"
      ],
      "text/plain": [
       "        ID CODE_GENDER FLAG_OWN_CAR FLAG_OWN_REALTY  CNT_CHILDREN  \\\n",
       "0  5008804           M            Y               Y             0   \n",
       "1  5008805           M            Y               Y             0   \n",
       "2  5008806           M            Y               Y             0   \n",
       "3  5008808           F            N               Y             0   \n",
       "4  5008809           F            N               Y             0   \n",
       "\n",
       "   AMT_INCOME_TOTAL      NAME_INCOME_TYPE            NAME_EDUCATION_TYPE  \\\n",
       "0          427500.0               Working               Higher education   \n",
       "1          427500.0               Working               Higher education   \n",
       "2          112500.0               Working  Secondary / secondary special   \n",
       "3          270000.0  Commercial associate  Secondary / secondary special   \n",
       "4          270000.0  Commercial associate  Secondary / secondary special   \n",
       "\n",
       "     NAME_FAMILY_STATUS  NAME_HOUSING_TYPE  DAYS_BIRTH  DAYS_EMPLOYED  \\\n",
       "0        Civil marriage   Rented apartment      -12005          -4542   \n",
       "1        Civil marriage   Rented apartment      -12005          -4542   \n",
       "2               Married  House / apartment      -21474          -1134   \n",
       "3  Single / not married  House / apartment      -19110          -3051   \n",
       "4  Single / not married  House / apartment      -19110          -3051   \n",
       "\n",
       "   FLAG_MOBIL  FLAG_WORK_PHONE  FLAG_PHONE  FLAG_EMAIL OCCUPATION_TYPE  \\\n",
       "0           1                1           0           0             NaN   \n",
       "1           1                1           0           0             NaN   \n",
       "2           1                0           0           0  Security staff   \n",
       "3           1                0           1           1     Sales staff   \n",
       "4           1                0           1           1     Sales staff   \n",
       "\n",
       "   CNT_FAM_MEMBERS  \n",
       "0              2.0  \n",
       "1              2.0  \n",
       "2              2.0  \n",
       "3              1.0  \n",
       "4              1.0  "
      ]
     },
     "execution_count": 3,
     "metadata": {},
     "output_type": "execute_result"
    }
   ],
   "source": [
    "full_data.head()"
   ]
  },
  {
   "cell_type": "code",
   "execution_count": 4,
   "id": "b1e57f84",
   "metadata": {},
   "outputs": [
    {
     "data": {
      "text/html": [
       "<div>\n",
       "<style scoped>\n",
       "    .dataframe tbody tr th:only-of-type {\n",
       "        vertical-align: middle;\n",
       "    }\n",
       "\n",
       "    .dataframe tbody tr th {\n",
       "        vertical-align: top;\n",
       "    }\n",
       "\n",
       "    .dataframe thead th {\n",
       "        text-align: right;\n",
       "    }\n",
       "</style>\n",
       "<table border=\"1\" class=\"dataframe\">\n",
       "  <thead>\n",
       "    <tr style=\"text-align: right;\">\n",
       "      <th></th>\n",
       "      <th>ID</th>\n",
       "      <th>MONTHS_BALANCE</th>\n",
       "      <th>STATUS</th>\n",
       "    </tr>\n",
       "  </thead>\n",
       "  <tbody>\n",
       "    <tr>\n",
       "      <th>0</th>\n",
       "      <td>5001711</td>\n",
       "      <td>0</td>\n",
       "      <td>X</td>\n",
       "    </tr>\n",
       "    <tr>\n",
       "      <th>1</th>\n",
       "      <td>5001711</td>\n",
       "      <td>-1</td>\n",
       "      <td>0</td>\n",
       "    </tr>\n",
       "    <tr>\n",
       "      <th>2</th>\n",
       "      <td>5001711</td>\n",
       "      <td>-2</td>\n",
       "      <td>0</td>\n",
       "    </tr>\n",
       "    <tr>\n",
       "      <th>3</th>\n",
       "      <td>5001711</td>\n",
       "      <td>-3</td>\n",
       "      <td>0</td>\n",
       "    </tr>\n",
       "    <tr>\n",
       "      <th>4</th>\n",
       "      <td>5001712</td>\n",
       "      <td>0</td>\n",
       "      <td>C</td>\n",
       "    </tr>\n",
       "  </tbody>\n",
       "</table>\n",
       "</div>"
      ],
      "text/plain": [
       "        ID  MONTHS_BALANCE STATUS\n",
       "0  5001711               0      X\n",
       "1  5001711              -1      0\n",
       "2  5001711              -2      0\n",
       "3  5001711              -3      0\n",
       "4  5001712               0      C"
      ]
     },
     "execution_count": 4,
     "metadata": {},
     "output_type": "execute_result"
    }
   ],
   "source": [
    "status_data.head()"
   ]
  },
  {
   "cell_type": "markdown",
   "id": "668ef8da",
   "metadata": {},
   "source": [
    "**MONTHS_BALANCE**\tRecord month\tThe month of the extracted data is the starting point, backwards, 0 is the current month, -1 is the previous month, and so on\n",
    "\n",
    "<br>\n",
    "\n",
    "**STATUS**\tStatus\t0: 1-29 days past due 1: 30-59 days past due 2: 60-89 days overdue 3: 90-119 days overdue 4: 120-149 days overdue 5: Overdue or bad debts, write-offs for more than 150 days C: paid off that month X: No loan for the month"
   ]
  },
  {
   "cell_type": "markdown",
   "id": "ddffc2c7",
   "metadata": {},
   "source": [
    "# Create the target variable"
   ]
  },
  {
   "cell_type": "code",
   "execution_count": 5,
   "id": "2517916c",
   "metadata": {},
   "outputs": [
    {
     "data": {
      "text/html": [
       "<div>\n",
       "<style scoped>\n",
       "    .dataframe tbody tr th:only-of-type {\n",
       "        vertical-align: middle;\n",
       "    }\n",
       "\n",
       "    .dataframe tbody tr th {\n",
       "        vertical-align: top;\n",
       "    }\n",
       "\n",
       "    .dataframe thead th {\n",
       "        text-align: right;\n",
       "    }\n",
       "</style>\n",
       "<table border=\"1\" class=\"dataframe\">\n",
       "  <thead>\n",
       "    <tr style=\"text-align: right;\">\n",
       "      <th></th>\n",
       "      <th>ID</th>\n",
       "      <th>ACCT_AGE</th>\n",
       "    </tr>\n",
       "  </thead>\n",
       "  <tbody>\n",
       "    <tr>\n",
       "      <th>0</th>\n",
       "      <td>5001711</td>\n",
       "      <td>-3</td>\n",
       "    </tr>\n",
       "    <tr>\n",
       "      <th>1</th>\n",
       "      <td>5001712</td>\n",
       "      <td>-18</td>\n",
       "    </tr>\n",
       "    <tr>\n",
       "      <th>2</th>\n",
       "      <td>5001713</td>\n",
       "      <td>-21</td>\n",
       "    </tr>\n",
       "    <tr>\n",
       "      <th>3</th>\n",
       "      <td>5001714</td>\n",
       "      <td>-14</td>\n",
       "    </tr>\n",
       "    <tr>\n",
       "      <th>4</th>\n",
       "      <td>5001715</td>\n",
       "      <td>-59</td>\n",
       "    </tr>\n",
       "  </tbody>\n",
       "</table>\n",
       "</div>"
      ],
      "text/plain": [
       "        ID  ACCT_AGE\n",
       "0  5001711        -3\n",
       "1  5001712       -18\n",
       "2  5001713       -21\n",
       "3  5001714       -14\n",
       "4  5001715       -59"
      ]
     },
     "execution_count": 5,
     "metadata": {},
     "output_type": "execute_result"
    }
   ],
   "source": [
    "month_begin = status_data.groupby(['ID'])['MONTHS_BALANCE'].min().reset_index()\n",
    "month_begin = month_begin.rename(columns={'MONTHS_BALANCE':'ACCT_AGE'})\n",
    "month_begin.head()"
   ]
  },
  {
   "cell_type": "code",
   "execution_count": 6,
   "id": "0b076052",
   "metadata": {},
   "outputs": [
    {
     "name": "stdout",
     "output_type": "stream",
     "text": [
      "(438557, 19)\n"
     ]
    },
    {
     "data": {
      "text/html": [
       "<div>\n",
       "<style scoped>\n",
       "    .dataframe tbody tr th:only-of-type {\n",
       "        vertical-align: middle;\n",
       "    }\n",
       "\n",
       "    .dataframe tbody tr th {\n",
       "        vertical-align: top;\n",
       "    }\n",
       "\n",
       "    .dataframe thead th {\n",
       "        text-align: right;\n",
       "    }\n",
       "</style>\n",
       "<table border=\"1\" class=\"dataframe\">\n",
       "  <thead>\n",
       "    <tr style=\"text-align: right;\">\n",
       "      <th></th>\n",
       "      <th>ID</th>\n",
       "      <th>CODE_GENDER</th>\n",
       "      <th>FLAG_OWN_CAR</th>\n",
       "      <th>FLAG_OWN_REALTY</th>\n",
       "      <th>CNT_CHILDREN</th>\n",
       "      <th>AMT_INCOME_TOTAL</th>\n",
       "      <th>NAME_INCOME_TYPE</th>\n",
       "      <th>NAME_EDUCATION_TYPE</th>\n",
       "      <th>NAME_FAMILY_STATUS</th>\n",
       "      <th>NAME_HOUSING_TYPE</th>\n",
       "      <th>DAYS_BIRTH</th>\n",
       "      <th>DAYS_EMPLOYED</th>\n",
       "      <th>FLAG_MOBIL</th>\n",
       "      <th>FLAG_WORK_PHONE</th>\n",
       "      <th>FLAG_PHONE</th>\n",
       "      <th>FLAG_EMAIL</th>\n",
       "      <th>OCCUPATION_TYPE</th>\n",
       "      <th>CNT_FAM_MEMBERS</th>\n",
       "      <th>ACCT_AGE</th>\n",
       "    </tr>\n",
       "  </thead>\n",
       "  <tbody>\n",
       "    <tr>\n",
       "      <th>0</th>\n",
       "      <td>5008804</td>\n",
       "      <td>M</td>\n",
       "      <td>Y</td>\n",
       "      <td>Y</td>\n",
       "      <td>0</td>\n",
       "      <td>427500.0</td>\n",
       "      <td>Working</td>\n",
       "      <td>Higher education</td>\n",
       "      <td>Civil marriage</td>\n",
       "      <td>Rented apartment</td>\n",
       "      <td>-12005</td>\n",
       "      <td>-4542</td>\n",
       "      <td>1</td>\n",
       "      <td>1</td>\n",
       "      <td>0</td>\n",
       "      <td>0</td>\n",
       "      <td>NaN</td>\n",
       "      <td>2.0</td>\n",
       "      <td>-15.0</td>\n",
       "    </tr>\n",
       "    <tr>\n",
       "      <th>1</th>\n",
       "      <td>5008805</td>\n",
       "      <td>M</td>\n",
       "      <td>Y</td>\n",
       "      <td>Y</td>\n",
       "      <td>0</td>\n",
       "      <td>427500.0</td>\n",
       "      <td>Working</td>\n",
       "      <td>Higher education</td>\n",
       "      <td>Civil marriage</td>\n",
       "      <td>Rented apartment</td>\n",
       "      <td>-12005</td>\n",
       "      <td>-4542</td>\n",
       "      <td>1</td>\n",
       "      <td>1</td>\n",
       "      <td>0</td>\n",
       "      <td>0</td>\n",
       "      <td>NaN</td>\n",
       "      <td>2.0</td>\n",
       "      <td>-14.0</td>\n",
       "    </tr>\n",
       "    <tr>\n",
       "      <th>2</th>\n",
       "      <td>5008806</td>\n",
       "      <td>M</td>\n",
       "      <td>Y</td>\n",
       "      <td>Y</td>\n",
       "      <td>0</td>\n",
       "      <td>112500.0</td>\n",
       "      <td>Working</td>\n",
       "      <td>Secondary / secondary special</td>\n",
       "      <td>Married</td>\n",
       "      <td>House / apartment</td>\n",
       "      <td>-21474</td>\n",
       "      <td>-1134</td>\n",
       "      <td>1</td>\n",
       "      <td>0</td>\n",
       "      <td>0</td>\n",
       "      <td>0</td>\n",
       "      <td>Security staff</td>\n",
       "      <td>2.0</td>\n",
       "      <td>-29.0</td>\n",
       "    </tr>\n",
       "    <tr>\n",
       "      <th>3</th>\n",
       "      <td>5008808</td>\n",
       "      <td>F</td>\n",
       "      <td>N</td>\n",
       "      <td>Y</td>\n",
       "      <td>0</td>\n",
       "      <td>270000.0</td>\n",
       "      <td>Commercial associate</td>\n",
       "      <td>Secondary / secondary special</td>\n",
       "      <td>Single / not married</td>\n",
       "      <td>House / apartment</td>\n",
       "      <td>-19110</td>\n",
       "      <td>-3051</td>\n",
       "      <td>1</td>\n",
       "      <td>0</td>\n",
       "      <td>1</td>\n",
       "      <td>1</td>\n",
       "      <td>Sales staff</td>\n",
       "      <td>1.0</td>\n",
       "      <td>-4.0</td>\n",
       "    </tr>\n",
       "    <tr>\n",
       "      <th>4</th>\n",
       "      <td>5008809</td>\n",
       "      <td>F</td>\n",
       "      <td>N</td>\n",
       "      <td>Y</td>\n",
       "      <td>0</td>\n",
       "      <td>270000.0</td>\n",
       "      <td>Commercial associate</td>\n",
       "      <td>Secondary / secondary special</td>\n",
       "      <td>Single / not married</td>\n",
       "      <td>House / apartment</td>\n",
       "      <td>-19110</td>\n",
       "      <td>-3051</td>\n",
       "      <td>1</td>\n",
       "      <td>0</td>\n",
       "      <td>1</td>\n",
       "      <td>1</td>\n",
       "      <td>Sales staff</td>\n",
       "      <td>1.0</td>\n",
       "      <td>-26.0</td>\n",
       "    </tr>\n",
       "  </tbody>\n",
       "</table>\n",
       "</div>"
      ],
      "text/plain": [
       "        ID CODE_GENDER FLAG_OWN_CAR FLAG_OWN_REALTY  CNT_CHILDREN  \\\n",
       "0  5008804           M            Y               Y             0   \n",
       "1  5008805           M            Y               Y             0   \n",
       "2  5008806           M            Y               Y             0   \n",
       "3  5008808           F            N               Y             0   \n",
       "4  5008809           F            N               Y             0   \n",
       "\n",
       "   AMT_INCOME_TOTAL      NAME_INCOME_TYPE            NAME_EDUCATION_TYPE  \\\n",
       "0          427500.0               Working               Higher education   \n",
       "1          427500.0               Working               Higher education   \n",
       "2          112500.0               Working  Secondary / secondary special   \n",
       "3          270000.0  Commercial associate  Secondary / secondary special   \n",
       "4          270000.0  Commercial associate  Secondary / secondary special   \n",
       "\n",
       "     NAME_FAMILY_STATUS  NAME_HOUSING_TYPE  DAYS_BIRTH  DAYS_EMPLOYED  \\\n",
       "0        Civil marriage   Rented apartment      -12005          -4542   \n",
       "1        Civil marriage   Rented apartment      -12005          -4542   \n",
       "2               Married  House / apartment      -21474          -1134   \n",
       "3  Single / not married  House / apartment      -19110          -3051   \n",
       "4  Single / not married  House / apartment      -19110          -3051   \n",
       "\n",
       "   FLAG_MOBIL  FLAG_WORK_PHONE  FLAG_PHONE  FLAG_EMAIL OCCUPATION_TYPE  \\\n",
       "0           1                1           0           0             NaN   \n",
       "1           1                1           0           0             NaN   \n",
       "2           1                0           0           0  Security staff   \n",
       "3           1                0           1           1     Sales staff   \n",
       "4           1                0           1           1     Sales staff   \n",
       "\n",
       "   CNT_FAM_MEMBERS  ACCT_AGE  \n",
       "0              2.0     -15.0  \n",
       "1              2.0     -14.0  \n",
       "2              2.0     -29.0  \n",
       "3              1.0      -4.0  \n",
       "4              1.0     -26.0  "
      ]
     },
     "execution_count": 6,
     "metadata": {},
     "output_type": "execute_result"
    }
   ],
   "source": [
    "full_data_merge_age = full_data.merge(month_begin, on = 'ID', how = 'left')\n",
    "print(full_data_merge_age.shape)\n",
    "full_data_merge_age.head()"
   ]
  },
  {
   "cell_type": "code",
   "execution_count": 7,
   "id": "380a9a02",
   "metadata": {},
   "outputs": [
    {
     "data": {
      "text/plain": [
       "array(['X', '0', 'C', '1', '2', '3', '4', '5'], dtype=object)"
      ]
     },
     "execution_count": 7,
     "metadata": {},
     "output_type": "execute_result"
    }
   ],
   "source": [
    "status_data.STATUS.unique()"
   ]
  },
  {
   "cell_type": "code",
   "execution_count": 8,
   "id": "e1db4df7",
   "metadata": {},
   "outputs": [
    {
     "data": {
      "text/plain": [
       "array([None, 'Y'], dtype=object)"
      ]
     },
     "execution_count": 8,
     "metadata": {},
     "output_type": "execute_result"
    }
   ],
   "source": [
    "# if status is not (X or C,0,1), it is past due\n",
    "# if x and c is not high risk else yes\n",
    "\n",
    "status_data['dep_value'] = status_data.STATUS.apply(lambda x: None if x == 'X' or x == 'C' or x == '0' or x == '1'else 'Y')\n",
    "status_data['dep_value'].unique()"
   ]
  },
  {
   "cell_type": "code",
   "execution_count": 9,
   "id": "e13a89c5",
   "metadata": {},
   "outputs": [
    {
     "data": {
      "text/html": [
       "<div>\n",
       "<style scoped>\n",
       "    .dataframe tbody tr th:only-of-type {\n",
       "        vertical-align: middle;\n",
       "    }\n",
       "\n",
       "    .dataframe tbody tr th {\n",
       "        vertical-align: top;\n",
       "    }\n",
       "\n",
       "    .dataframe thead th {\n",
       "        text-align: right;\n",
       "    }\n",
       "</style>\n",
       "<table border=\"1\" class=\"dataframe\">\n",
       "  <thead>\n",
       "    <tr style=\"text-align: right;\">\n",
       "      <th></th>\n",
       "      <th>ID</th>\n",
       "      <th>MONTHS_BALANCE</th>\n",
       "      <th>STATUS</th>\n",
       "      <th>HIGH_RISK</th>\n",
       "    </tr>\n",
       "  </thead>\n",
       "  <tbody>\n",
       "    <tr>\n",
       "      <th>0</th>\n",
       "      <td>5001711</td>\n",
       "      <td>4</td>\n",
       "      <td>4</td>\n",
       "      <td>0</td>\n",
       "    </tr>\n",
       "    <tr>\n",
       "      <th>1</th>\n",
       "      <td>5001712</td>\n",
       "      <td>19</td>\n",
       "      <td>19</td>\n",
       "      <td>0</td>\n",
       "    </tr>\n",
       "    <tr>\n",
       "      <th>2</th>\n",
       "      <td>5001713</td>\n",
       "      <td>22</td>\n",
       "      <td>22</td>\n",
       "      <td>0</td>\n",
       "    </tr>\n",
       "    <tr>\n",
       "      <th>3</th>\n",
       "      <td>5001714</td>\n",
       "      <td>15</td>\n",
       "      <td>15</td>\n",
       "      <td>0</td>\n",
       "    </tr>\n",
       "    <tr>\n",
       "      <th>4</th>\n",
       "      <td>5001715</td>\n",
       "      <td>60</td>\n",
       "      <td>60</td>\n",
       "      <td>0</td>\n",
       "    </tr>\n",
       "  </tbody>\n",
       "</table>\n",
       "</div>"
      ],
      "text/plain": [
       "        ID  MONTHS_BALANCE  STATUS  HIGH_RISK\n",
       "0  5001711               4       4          0\n",
       "1  5001712              19      19          0\n",
       "2  5001713              22      22          0\n",
       "3  5001714              15      15          0\n",
       "4  5001715              60      60          0"
      ]
     },
     "execution_count": 9,
     "metadata": {},
     "output_type": "execute_result"
    }
   ],
   "source": [
    "target_df = status_data.groupby(['ID']).count().reset_index()\n",
    "target_df = target_df.rename(columns = {'dep_value':'HIGH_RISK'})\n",
    "target_df['HIGH_RISK'] = target_df.HIGH_RISK.apply(lambda x: 0 if x == 0 else 1)\n",
    "target_df.head()\n"
   ]
  },
  {
   "cell_type": "code",
   "execution_count": 10,
   "id": "2ac36d56",
   "metadata": {},
   "outputs": [
    {
     "data": {
      "text/html": [
       "<div>\n",
       "<style scoped>\n",
       "    .dataframe tbody tr th:only-of-type {\n",
       "        vertical-align: middle;\n",
       "    }\n",
       "\n",
       "    .dataframe tbody tr th {\n",
       "        vertical-align: top;\n",
       "    }\n",
       "\n",
       "    .dataframe thead th {\n",
       "        text-align: right;\n",
       "    }\n",
       "</style>\n",
       "<table border=\"1\" class=\"dataframe\">\n",
       "  <thead>\n",
       "    <tr style=\"text-align: right;\">\n",
       "      <th></th>\n",
       "      <th>ID</th>\n",
       "      <th>CODE_GENDER</th>\n",
       "      <th>FLAG_OWN_CAR</th>\n",
       "      <th>FLAG_OWN_REALTY</th>\n",
       "      <th>CNT_CHILDREN</th>\n",
       "      <th>AMT_INCOME_TOTAL</th>\n",
       "      <th>NAME_INCOME_TYPE</th>\n",
       "      <th>NAME_EDUCATION_TYPE</th>\n",
       "      <th>NAME_FAMILY_STATUS</th>\n",
       "      <th>NAME_HOUSING_TYPE</th>\n",
       "      <th>DAYS_BIRTH</th>\n",
       "      <th>DAYS_EMPLOYED</th>\n",
       "      <th>FLAG_MOBIL</th>\n",
       "      <th>FLAG_WORK_PHONE</th>\n",
       "      <th>FLAG_PHONE</th>\n",
       "      <th>FLAG_EMAIL</th>\n",
       "      <th>OCCUPATION_TYPE</th>\n",
       "      <th>CNT_FAM_MEMBERS</th>\n",
       "      <th>ACCT_AGE</th>\n",
       "      <th>HIGH_RISK</th>\n",
       "    </tr>\n",
       "  </thead>\n",
       "  <tbody>\n",
       "    <tr>\n",
       "      <th>0</th>\n",
       "      <td>5008804</td>\n",
       "      <td>M</td>\n",
       "      <td>Y</td>\n",
       "      <td>Y</td>\n",
       "      <td>0</td>\n",
       "      <td>427500.0</td>\n",
       "      <td>Working</td>\n",
       "      <td>Higher education</td>\n",
       "      <td>Civil marriage</td>\n",
       "      <td>Rented apartment</td>\n",
       "      <td>-12005</td>\n",
       "      <td>-4542</td>\n",
       "      <td>1</td>\n",
       "      <td>1</td>\n",
       "      <td>0</td>\n",
       "      <td>0</td>\n",
       "      <td>NaN</td>\n",
       "      <td>2.0</td>\n",
       "      <td>-15.0</td>\n",
       "      <td>0</td>\n",
       "    </tr>\n",
       "    <tr>\n",
       "      <th>1</th>\n",
       "      <td>5008805</td>\n",
       "      <td>M</td>\n",
       "      <td>Y</td>\n",
       "      <td>Y</td>\n",
       "      <td>0</td>\n",
       "      <td>427500.0</td>\n",
       "      <td>Working</td>\n",
       "      <td>Higher education</td>\n",
       "      <td>Civil marriage</td>\n",
       "      <td>Rented apartment</td>\n",
       "      <td>-12005</td>\n",
       "      <td>-4542</td>\n",
       "      <td>1</td>\n",
       "      <td>1</td>\n",
       "      <td>0</td>\n",
       "      <td>0</td>\n",
       "      <td>NaN</td>\n",
       "      <td>2.0</td>\n",
       "      <td>-14.0</td>\n",
       "      <td>0</td>\n",
       "    </tr>\n",
       "    <tr>\n",
       "      <th>2</th>\n",
       "      <td>5008806</td>\n",
       "      <td>M</td>\n",
       "      <td>Y</td>\n",
       "      <td>Y</td>\n",
       "      <td>0</td>\n",
       "      <td>112500.0</td>\n",
       "      <td>Working</td>\n",
       "      <td>Secondary / secondary special</td>\n",
       "      <td>Married</td>\n",
       "      <td>House / apartment</td>\n",
       "      <td>-21474</td>\n",
       "      <td>-1134</td>\n",
       "      <td>1</td>\n",
       "      <td>0</td>\n",
       "      <td>0</td>\n",
       "      <td>0</td>\n",
       "      <td>Security staff</td>\n",
       "      <td>2.0</td>\n",
       "      <td>-29.0</td>\n",
       "      <td>0</td>\n",
       "    </tr>\n",
       "    <tr>\n",
       "      <th>3</th>\n",
       "      <td>5008808</td>\n",
       "      <td>F</td>\n",
       "      <td>N</td>\n",
       "      <td>Y</td>\n",
       "      <td>0</td>\n",
       "      <td>270000.0</td>\n",
       "      <td>Commercial associate</td>\n",
       "      <td>Secondary / secondary special</td>\n",
       "      <td>Single / not married</td>\n",
       "      <td>House / apartment</td>\n",
       "      <td>-19110</td>\n",
       "      <td>-3051</td>\n",
       "      <td>1</td>\n",
       "      <td>0</td>\n",
       "      <td>1</td>\n",
       "      <td>1</td>\n",
       "      <td>Sales staff</td>\n",
       "      <td>1.0</td>\n",
       "      <td>-4.0</td>\n",
       "      <td>0</td>\n",
       "    </tr>\n",
       "    <tr>\n",
       "      <th>4</th>\n",
       "      <td>5008809</td>\n",
       "      <td>F</td>\n",
       "      <td>N</td>\n",
       "      <td>Y</td>\n",
       "      <td>0</td>\n",
       "      <td>270000.0</td>\n",
       "      <td>Commercial associate</td>\n",
       "      <td>Secondary / secondary special</td>\n",
       "      <td>Single / not married</td>\n",
       "      <td>House / apartment</td>\n",
       "      <td>-19110</td>\n",
       "      <td>-3051</td>\n",
       "      <td>1</td>\n",
       "      <td>0</td>\n",
       "      <td>1</td>\n",
       "      <td>1</td>\n",
       "      <td>Sales staff</td>\n",
       "      <td>1.0</td>\n",
       "      <td>-26.0</td>\n",
       "      <td>0</td>\n",
       "    </tr>\n",
       "  </tbody>\n",
       "</table>\n",
       "</div>"
      ],
      "text/plain": [
       "        ID CODE_GENDER FLAG_OWN_CAR FLAG_OWN_REALTY  CNT_CHILDREN  \\\n",
       "0  5008804           M            Y               Y             0   \n",
       "1  5008805           M            Y               Y             0   \n",
       "2  5008806           M            Y               Y             0   \n",
       "3  5008808           F            N               Y             0   \n",
       "4  5008809           F            N               Y             0   \n",
       "\n",
       "   AMT_INCOME_TOTAL      NAME_INCOME_TYPE            NAME_EDUCATION_TYPE  \\\n",
       "0          427500.0               Working               Higher education   \n",
       "1          427500.0               Working               Higher education   \n",
       "2          112500.0               Working  Secondary / secondary special   \n",
       "3          270000.0  Commercial associate  Secondary / secondary special   \n",
       "4          270000.0  Commercial associate  Secondary / secondary special   \n",
       "\n",
       "     NAME_FAMILY_STATUS  NAME_HOUSING_TYPE  DAYS_BIRTH  DAYS_EMPLOYED  \\\n",
       "0        Civil marriage   Rented apartment      -12005          -4542   \n",
       "1        Civil marriage   Rented apartment      -12005          -4542   \n",
       "2               Married  House / apartment      -21474          -1134   \n",
       "3  Single / not married  House / apartment      -19110          -3051   \n",
       "4  Single / not married  House / apartment      -19110          -3051   \n",
       "\n",
       "   FLAG_MOBIL  FLAG_WORK_PHONE  FLAG_PHONE  FLAG_EMAIL OCCUPATION_TYPE  \\\n",
       "0           1                1           0           0             NaN   \n",
       "1           1                1           0           0             NaN   \n",
       "2           1                0           0           0  Security staff   \n",
       "3           1                0           1           1     Sales staff   \n",
       "4           1                0           1           1     Sales staff   \n",
       "\n",
       "   CNT_FAM_MEMBERS  ACCT_AGE  HIGH_RISK  \n",
       "0              2.0     -15.0          0  \n",
       "1              2.0     -14.0          0  \n",
       "2              2.0     -29.0          0  \n",
       "3              1.0      -4.0          0  \n",
       "4              1.0     -26.0          0  "
      ]
     },
     "execution_count": 10,
     "metadata": {},
     "output_type": "execute_result"
    }
   ],
   "source": [
    "full_data_merge_age_risk = full_data_merge_age.merge(target_df[['ID','HIGH_RISK']], how = 'inner', on = 'ID')\n",
    "full_data_merge_age_risk.head()"
   ]
  },
  {
   "cell_type": "markdown",
   "id": "2250b232",
   "metadata": {},
   "source": [
    "# EDA"
   ]
  },
  {
   "cell_type": "code",
   "execution_count": 11,
   "id": "37e7895b",
   "metadata": {},
   "outputs": [
    {
     "data": {
      "text/html": [
       "<div>\n",
       "<style scoped>\n",
       "    .dataframe tbody tr th:only-of-type {\n",
       "        vertical-align: middle;\n",
       "    }\n",
       "\n",
       "    .dataframe tbody tr th {\n",
       "        vertical-align: top;\n",
       "    }\n",
       "\n",
       "    .dataframe thead th {\n",
       "        text-align: right;\n",
       "    }\n",
       "</style>\n",
       "<table border=\"1\" class=\"dataframe\">\n",
       "  <thead>\n",
       "    <tr style=\"text-align: right;\">\n",
       "      <th></th>\n",
       "      <th>CNT_CHILDREN</th>\n",
       "      <th>AMT_INCOME_TOTAL</th>\n",
       "      <th>DAYS_BIRTH</th>\n",
       "      <th>DAYS_EMPLOYED</th>\n",
       "      <th>FLAG_MOBIL</th>\n",
       "      <th>FLAG_WORK_PHONE</th>\n",
       "      <th>FLAG_PHONE</th>\n",
       "      <th>FLAG_EMAIL</th>\n",
       "      <th>CNT_FAM_MEMBERS</th>\n",
       "      <th>ACCT_AGE</th>\n",
       "      <th>HIGH_RISK</th>\n",
       "    </tr>\n",
       "  </thead>\n",
       "  <tbody>\n",
       "    <tr>\n",
       "      <th>count</th>\n",
       "      <td>36457.000000</td>\n",
       "      <td>3.645700e+04</td>\n",
       "      <td>36457.000000</td>\n",
       "      <td>36457.000000</td>\n",
       "      <td>36457.0</td>\n",
       "      <td>36457.000000</td>\n",
       "      <td>36457.000000</td>\n",
       "      <td>36457.000000</td>\n",
       "      <td>36457.000000</td>\n",
       "      <td>36457.000000</td>\n",
       "      <td>36457.000000</td>\n",
       "    </tr>\n",
       "    <tr>\n",
       "      <th>mean</th>\n",
       "      <td>0.430315</td>\n",
       "      <td>1.866857e+05</td>\n",
       "      <td>-15975.173382</td>\n",
       "      <td>59262.935568</td>\n",
       "      <td>1.0</td>\n",
       "      <td>0.225526</td>\n",
       "      <td>0.294813</td>\n",
       "      <td>0.089722</td>\n",
       "      <td>2.198453</td>\n",
       "      <td>-26.164193</td>\n",
       "      <td>0.016897</td>\n",
       "    </tr>\n",
       "    <tr>\n",
       "      <th>std</th>\n",
       "      <td>0.742367</td>\n",
       "      <td>1.017892e+05</td>\n",
       "      <td>4200.549944</td>\n",
       "      <td>137651.334859</td>\n",
       "      <td>0.0</td>\n",
       "      <td>0.417934</td>\n",
       "      <td>0.455965</td>\n",
       "      <td>0.285787</td>\n",
       "      <td>0.911686</td>\n",
       "      <td>16.501854</td>\n",
       "      <td>0.128886</td>\n",
       "    </tr>\n",
       "    <tr>\n",
       "      <th>min</th>\n",
       "      <td>0.000000</td>\n",
       "      <td>2.700000e+04</td>\n",
       "      <td>-25152.000000</td>\n",
       "      <td>-15713.000000</td>\n",
       "      <td>1.0</td>\n",
       "      <td>0.000000</td>\n",
       "      <td>0.000000</td>\n",
       "      <td>0.000000</td>\n",
       "      <td>1.000000</td>\n",
       "      <td>-60.000000</td>\n",
       "      <td>0.000000</td>\n",
       "    </tr>\n",
       "    <tr>\n",
       "      <th>25%</th>\n",
       "      <td>0.000000</td>\n",
       "      <td>1.215000e+05</td>\n",
       "      <td>-19438.000000</td>\n",
       "      <td>-3153.000000</td>\n",
       "      <td>1.0</td>\n",
       "      <td>0.000000</td>\n",
       "      <td>0.000000</td>\n",
       "      <td>0.000000</td>\n",
       "      <td>2.000000</td>\n",
       "      <td>-39.000000</td>\n",
       "      <td>0.000000</td>\n",
       "    </tr>\n",
       "    <tr>\n",
       "      <th>50%</th>\n",
       "      <td>0.000000</td>\n",
       "      <td>1.575000e+05</td>\n",
       "      <td>-15563.000000</td>\n",
       "      <td>-1552.000000</td>\n",
       "      <td>1.0</td>\n",
       "      <td>0.000000</td>\n",
       "      <td>0.000000</td>\n",
       "      <td>0.000000</td>\n",
       "      <td>2.000000</td>\n",
       "      <td>-24.000000</td>\n",
       "      <td>0.000000</td>\n",
       "    </tr>\n",
       "    <tr>\n",
       "      <th>75%</th>\n",
       "      <td>1.000000</td>\n",
       "      <td>2.250000e+05</td>\n",
       "      <td>-12462.000000</td>\n",
       "      <td>-408.000000</td>\n",
       "      <td>1.0</td>\n",
       "      <td>0.000000</td>\n",
       "      <td>1.000000</td>\n",
       "      <td>0.000000</td>\n",
       "      <td>3.000000</td>\n",
       "      <td>-12.000000</td>\n",
       "      <td>0.000000</td>\n",
       "    </tr>\n",
       "    <tr>\n",
       "      <th>max</th>\n",
       "      <td>19.000000</td>\n",
       "      <td>1.575000e+06</td>\n",
       "      <td>-7489.000000</td>\n",
       "      <td>365243.000000</td>\n",
       "      <td>1.0</td>\n",
       "      <td>1.000000</td>\n",
       "      <td>1.000000</td>\n",
       "      <td>1.000000</td>\n",
       "      <td>20.000000</td>\n",
       "      <td>0.000000</td>\n",
       "      <td>1.000000</td>\n",
       "    </tr>\n",
       "  </tbody>\n",
       "</table>\n",
       "</div>"
      ],
      "text/plain": [
       "       CNT_CHILDREN  AMT_INCOME_TOTAL    DAYS_BIRTH  DAYS_EMPLOYED  \\\n",
       "count  36457.000000      3.645700e+04  36457.000000   36457.000000   \n",
       "mean       0.430315      1.866857e+05 -15975.173382   59262.935568   \n",
       "std        0.742367      1.017892e+05   4200.549944  137651.334859   \n",
       "min        0.000000      2.700000e+04 -25152.000000  -15713.000000   \n",
       "25%        0.000000      1.215000e+05 -19438.000000   -3153.000000   \n",
       "50%        0.000000      1.575000e+05 -15563.000000   -1552.000000   \n",
       "75%        1.000000      2.250000e+05 -12462.000000    -408.000000   \n",
       "max       19.000000      1.575000e+06  -7489.000000  365243.000000   \n",
       "\n",
       "       FLAG_MOBIL  FLAG_WORK_PHONE    FLAG_PHONE    FLAG_EMAIL  \\\n",
       "count     36457.0     36457.000000  36457.000000  36457.000000   \n",
       "mean          1.0         0.225526      0.294813      0.089722   \n",
       "std           0.0         0.417934      0.455965      0.285787   \n",
       "min           1.0         0.000000      0.000000      0.000000   \n",
       "25%           1.0         0.000000      0.000000      0.000000   \n",
       "50%           1.0         0.000000      0.000000      0.000000   \n",
       "75%           1.0         0.000000      1.000000      0.000000   \n",
       "max           1.0         1.000000      1.000000      1.000000   \n",
       "\n",
       "       CNT_FAM_MEMBERS      ACCT_AGE     HIGH_RISK  \n",
       "count     36457.000000  36457.000000  36457.000000  \n",
       "mean          2.198453    -26.164193      0.016897  \n",
       "std           0.911686     16.501854      0.128886  \n",
       "min           1.000000    -60.000000      0.000000  \n",
       "25%           2.000000    -39.000000      0.000000  \n",
       "50%           2.000000    -24.000000      0.000000  \n",
       "75%           3.000000    -12.000000      0.000000  \n",
       "max          20.000000      0.000000      1.000000  "
      ]
     },
     "execution_count": 11,
     "metadata": {},
     "output_type": "execute_result"
    }
   ],
   "source": [
    "full_data_merge_age_risk.iloc[:,1:].describe()"
   ]
  },
  {
   "cell_type": "markdown",
   "id": "849487ec",
   "metadata": {},
   "source": [
    "## value counts nd frequency of each observation within a feature"
   ]
  },
  {
   "cell_type": "code",
   "execution_count": 12,
   "id": "694b2692",
   "metadata": {},
   "outputs": [],
   "source": [
    "def value_cnt_norm(df,feature):\n",
    "    \n",
    "    fv_cnt = df[feature].value_counts()\n",
    "    fv_cnt_norm = df[feature].value_counts(normalize=True)*100\n",
    "    fv_cnt_df = pd.concat([fv_cnt,fv_cnt_norm], axis = 1)\n",
    "\n",
    "    fv_cnt_df.columns = [f'{feature}_CNT','FREQUENCY']\n",
    "    return fv_cnt_df"
   ]
  },
  {
   "cell_type": "code",
   "execution_count": 13,
   "id": "2e743b0e",
   "metadata": {},
   "outputs": [
    {
     "data": {
      "text/plain": [
       "[   CODE_GENDER_CNT  FREQUENCY\n",
       " F            24430  67.010451\n",
       " M            12027  32.989549,\n",
       "    FLAG_OWN_CAR_CNT  FREQUENCY\n",
       " N             22614   62.02924\n",
       " Y             13843   37.97076,\n",
       "    FLAG_OWN_REALTY_CNT  FREQUENCY\n",
       " Y                24506  67.218915\n",
       " N                11951  32.781085,\n",
       "     CNT_CHILDREN_CNT  FREQUENCY\n",
       " 0              25201  69.125271\n",
       " 1               7492  20.550237\n",
       " 2               3256   8.931069\n",
       " 3                419   1.149299\n",
       " 4                 63   0.172806\n",
       " 5                 20   0.054859\n",
       " 14                 3   0.008229\n",
       " 7                  2   0.005486\n",
       " 19                 1   0.002743,\n",
       "           AMT_INCOME_TOTAL_CNT  FREQUENCY\n",
       " 135000.0                  4309  11.819404\n",
       " 180000.0                  3097   8.494939\n",
       " 157500.0                  3089   8.472996\n",
       " 112500.0                  2956   8.108182\n",
       " 225000.0                  2926   8.025894\n",
       " ...                        ...        ...\n",
       " 177750.0                     1   0.002743\n",
       " 594000.0                     1   0.002743\n",
       " 164250.0                     1   0.002743\n",
       " 124200.0                     1   0.002743\n",
       " 179271.0                     1   0.002743\n",
       " \n",
       " [265 rows x 2 columns],\n",
       "                       NAME_INCOME_TYPE_CNT  FREQUENCY\n",
       " Working                              18819  51.619716\n",
       " Commercial associate                  8490  23.287709\n",
       " Pensioner                             6152  16.874674\n",
       " State servant                         2985   8.187728\n",
       " Student                                 11   0.030173,\n",
       "                                NAME_EDUCATION_TYPE_CNT  FREQUENCY\n",
       " Secondary / secondary special                    24777  67.962257\n",
       " Higher education                                  9864  27.056532\n",
       " Incomplete higher                                 1410   3.867570\n",
       " Lower secondary                                    374   1.025866\n",
       " Academic degree                                     32   0.087775,\n",
       "                       NAME_FAMILY_STATUS_CNT  FREQUENCY\n",
       " Married                                25048  68.705598\n",
       " Single / not married                    4829  13.245742\n",
       " Civil marriage                          2945   8.078010\n",
       " Separated                               2103   5.768440\n",
       " Widow                                   1532   4.202211,\n",
       "                      NAME_HOUSING_TYPE_CNT  FREQUENCY\n",
       " House / apartment                    32548  89.277779\n",
       " With parents                          1776   4.871492\n",
       " Municipal apartment                   1128   3.094056\n",
       " Rented apartment                       575   1.577201\n",
       " Office apartment                       262   0.718655\n",
       " Co-op apartment                        168   0.460817,\n",
       "         DAYS_BIRTH_CNT  FREQUENCY\n",
       " -12676              54   0.148120\n",
       " -15519              54   0.148120\n",
       " -16896              38   0.104232\n",
       " -14667              37   0.101489\n",
       " -15140              32   0.087775\n",
       " ...                ...        ...\n",
       " -16528               1   0.002743\n",
       " -23345               1   0.002743\n",
       " -21672               1   0.002743\n",
       " -14196               1   0.002743\n",
       " -9188                1   0.002743\n",
       " \n",
       " [7183 rows x 2 columns],\n",
       "          DAYS_EMPLOYED_CNT  FREQUENCY\n",
       "  365243               6135  16.828044\n",
       " -401                    78   0.213951\n",
       " -1539                   64   0.175549\n",
       " -200                    63   0.172806\n",
       " -1678                   61   0.167320\n",
       " ...                    ...        ...\n",
       " -4686                    1   0.002743\n",
       " -2160                    1   0.002743\n",
       " -2007                    1   0.002743\n",
       " -758                     1   0.002743\n",
       " -11272                   1   0.002743\n",
       " \n",
       " [3640 rows x 2 columns],\n",
       "    FLAG_MOBIL_CNT  FREQUENCY\n",
       " 1           36457      100.0,\n",
       "    FLAG_WORK_PHONE_CNT  FREQUENCY\n",
       " 0                28235  77.447404\n",
       " 1                 8222  22.552596,\n",
       "    FLAG_PHONE_CNT  FREQUENCY\n",
       " 0           25709  70.518693\n",
       " 1           10748  29.481307,\n",
       "    FLAG_EMAIL_CNT  FREQUENCY\n",
       " 0           33186  91.027786\n",
       " 1            3271   8.972214,\n",
       "                        OCCUPATION_TYPE_CNT  FREQUENCY\n",
       " Laborers                              6211  24.711546\n",
       " Core staff                            3591  14.287419\n",
       " Sales staff                           3485  13.865680\n",
       " Managers                              3012  11.983767\n",
       " Drivers                               2138   8.506406\n",
       " High skill tech staff                 1383   5.502507\n",
       " Accountants                           1241   4.937535\n",
       " Medicine staff                        1207   4.802260\n",
       " Cooking staff                          655   2.606032\n",
       " Security staff                         592   2.355375\n",
       " Cleaning staff                         551   2.192250\n",
       " Private service staff                  344   1.368664\n",
       " Low-skill Laborers                     175   0.696268\n",
       " Waiters/barmen staff                   174   0.692289\n",
       " Secretaries                            151   0.600780\n",
       " HR staff                                85   0.338187\n",
       " Realty agents                           79   0.314315\n",
       " IT staff                                60   0.238720,\n",
       "       CNT_FAM_MEMBERS_CNT  FREQUENCY\n",
       " 2.0                 19463  53.386181\n",
       " 1.0                  6987  19.165044\n",
       " 3.0                  6421  17.612530\n",
       " 4.0                  3106   8.519626\n",
       " 5.0                   397   1.088954\n",
       " 6.0                    58   0.159092\n",
       " 7.0                    19   0.052116\n",
       " 15.0                    3   0.008229\n",
       " 9.0                     2   0.005486\n",
       " 20.0                    1   0.002743,\n",
       "        ACCT_AGE_CNT  FREQUENCY\n",
       " -7.0            889   2.438489\n",
       " -11.0           828   2.271169\n",
       " -6.0            824   2.260197\n",
       " -8.0            820   2.249225\n",
       " -5.0            816   2.238253\n",
       " ...             ...        ...\n",
       " -58.0           333   0.913405\n",
       " -60.0           321   0.880489\n",
       "  0.0            315   0.864032\n",
       " -59.0           307   0.842088\n",
       " -57.0           304   0.833859\n",
       " \n",
       " [61 rows x 2 columns],\n",
       "    HIGH_RISK_CNT  FREQUENCY\n",
       " 0          35841  98.310338\n",
       " 1            616   1.689662]"
      ]
     },
     "execution_count": 13,
     "metadata": {},
     "output_type": "execute_result"
    }
   ],
   "source": [
    "[value_cnt_norm(full_data_merge_age_risk,i) for i in full_data_merge_age_risk.columns if i != 'ID' ]"
   ]
  },
  {
   "cell_type": "markdown",
   "id": "7f945d21",
   "metadata": {},
   "source": [
    "<h1 style=\"color:darkred\">NOTE</h1>\n",
    "\n",
    "<ul>\n",
    "    <li> DAYS_BIRTH\tBirthday\tCount backwards from current day (0), -1 means yesterday</li>\n",
    "    <li>DAYS_EMPLOYED\tStart date of employment\tCount backwards from current day(0). If positive, it means the person currently unemployed.</li>\n",
    " </ul>"
   ]
  },
  {
   "cell_type": "code",
   "execution_count": 14,
   "id": "d6761f07",
   "metadata": {},
   "outputs": [
    {
     "data": {
      "text/plain": [
       "0    12.435318\n",
       "1    12.435318\n",
       "2     3.104723\n",
       "3     8.353183\n",
       "4     8.353183\n",
       "Name: DAYS_EMPLOYED, dtype: float64"
      ]
     },
     "execution_count": 14,
     "metadata": {},
     "output_type": "execute_result"
    }
   ],
   "source": [
    "full_data_merge_age_risk['DAYS_EMPLOYED'] = full_data_merge_age_risk['DAYS_EMPLOYED'].apply(lambda x: np.abs(x)/365.25 if x < 0 else 0)\n",
    "full_data_merge_age_risk['DAYS_EMPLOYED'].head()"
   ]
  },
  {
   "cell_type": "markdown",
   "id": "11fcf68b",
   "metadata": {},
   "source": [
    "# create an employment distribution but ignore retired and unemployed client"
   ]
  },
  {
   "cell_type": "code",
   "execution_count": 15,
   "id": "c7e2e268",
   "metadata": {},
   "outputs": [
    {
     "data": {
      "text/plain": [
       "Text(0.5, 1.0, 'Days Employment Distribution')"
      ]
     },
     "execution_count": 15,
     "metadata": {},
     "output_type": "execute_result"
    },
    {
     "data": {
      "image/png": "[encoded data removed]",
      "text/plain": [
       "<Figure size 1296x720 with 1 Axes>"
      ]
     },
     "metadata": {
      "needs_background": "light"
     },
     "output_type": "display_data"
    }
   ],
   "source": [
    "fig, ax = plt.subplots(figsize=(18,10))\n",
    "sns.histplot(np.abs(full_data_merge_age_risk[full_data_merge_age_risk['DAYS_EMPLOYED'] > 0]['DAYS_EMPLOYED']),bins = 50, kde = True)\n",
    "plt.title('Days Employment Distribution')"
   ]
  },
  {
   "cell_type": "code",
   "execution_count": 16,
   "id": "fca05628",
   "metadata": {},
   "outputs": [
    {
     "data": {
      "image/png": "[encoded data removed]",
      "text/plain": [
       "<Figure size 360x576 with 1 Axes>"
      ]
     },
     "metadata": {
      "needs_background": "light"
     },
     "output_type": "display_data"
    }
   ],
   "source": [
    "fig, ax = plt.subplots(figsize=(5,8))\n",
    "sns.boxplot(y=full_data_merge_age_risk[full_data_merge_age_risk['DAYS_EMPLOYED'] > 0]['DAYS_EMPLOYED'],\\\n",
    "            x=full_data_merge_age_risk[full_data_merge_age_risk['DAYS_EMPLOYED'] > 0]['HIGH_RISK'])\n",
    "plt.xticks(ticks=[0,1], labels=['no','yes'])\n",
    "plt.title('High VS LOW risk group by Day of Employment')\n",
    "plt.show()"
   ]
  },
  {
   "cell_type": "code",
   "execution_count": 17,
   "id": "3586d309",
   "metadata": {},
   "outputs": [
    {
     "data": {
      "text/plain": [
       "0    32.867899\n",
       "1    32.867899\n",
       "2    58.792608\n",
       "3    52.320329\n",
       "4    52.320329\n",
       "Name: DAYS_BIRTH, dtype: float64"
      ]
     },
     "execution_count": 17,
     "metadata": {},
     "output_type": "execute_result"
    }
   ],
   "source": [
    "full_data_merge_age_risk['DAYS_BIRTH'] = full_data_merge_age_risk['DAYS_BIRTH'].apply(lambda x: np.abs(x)/365.25)\n",
    "full_data_merge_age_risk['DAYS_BIRTH'].head()"
   ]
  },
  {
   "cell_type": "markdown",
   "id": "83001ad3",
   "metadata": {},
   "source": [
    "# Age"
   ]
  },
  {
   "cell_type": "code",
   "execution_count": 18,
   "id": "2a2c4a16",
   "metadata": {},
   "outputs": [
    {
     "data": {
      "text/plain": [
       "Text(0.5, 1.0, 'Age Distribution')"
      ]
     },
     "execution_count": 18,
     "metadata": {},
     "output_type": "execute_result"
    },
    {
     "data": {
      "image/png": "[encoded data removed]",
      "text/plain": [
       "<Figure size 1296x720 with 1 Axes>"
      ]
     },
     "metadata": {
      "needs_background": "light"
     },
     "output_type": "display_data"
    }
   ],
   "source": [
    "fig, ax = plt.subplots(figsize=(18,10))\n",
    "sns.histplot(np.abs(full_data_merge_age_risk['DAYS_BIRTH']),bins = 50, kde = True)\n",
    "plt.title('Age Distribution')"
   ]
  },
  {
   "cell_type": "code",
   "execution_count": 19,
   "id": "53a8acba",
   "metadata": {},
   "outputs": [
    {
     "data": {
      "image/png": "[encoded data removed]",
      "text/plain": [
       "<Figure size 360x576 with 1 Axes>"
      ]
     },
     "metadata": {
      "needs_background": "light"
     },
     "output_type": "display_data"
    }
   ],
   "source": [
    "fig, ax = plt.subplots(figsize=(5,8))\n",
    "sns.boxplot(y=full_data_merge_age_risk['DAYS_BIRTH'],\\\n",
    "            x=full_data_merge_age_risk['HIGH_RISK'])\n",
    "plt.xticks(ticks=[0,1], labels=['no','yes'])\n",
    "plt.title('High VS LOW risk group by Age')\n",
    "plt.show()"
   ]
  },
  {
   "cell_type": "markdown",
   "id": "94fc57ad",
   "metadata": {},
   "source": [
    "# Income "
   ]
  },
  {
   "cell_type": "code",
   "execution_count": 20,
   "id": "dc0ff531",
   "metadata": {},
   "outputs": [
    {
     "data": {
      "text/plain": [
       "Text(0.5, 1.0, 'Income Distribution')"
      ]
     },
     "execution_count": 20,
     "metadata": {},
     "output_type": "execute_result"
    },
    {
     "data": {
      "image/png": "[encoded data removed]",
      "text/plain": [
       "<Figure size 1296x720 with 1 Axes>"
      ]
     },
     "metadata": {
      "needs_background": "light"
     },
     "output_type": "display_data"
    }
   ],
   "source": [
    "import matplotlib\n",
    "fig, ax = plt.subplots(figsize=(18,10))\n",
    "sns.histplot(np.abs(full_data_merge_age_risk['AMT_INCOME_TOTAL']),bins = 50, kde = True)\n",
    "#scientific notation\n",
    "ax.get_xaxis().set_major_formatter(matplotlib.ticker.FuncFormatter(lambda x, p: format(int(x),',')))\n",
    "plt.title('Income Distribution')"
   ]
  },
  {
   "cell_type": "code",
   "execution_count": 21,
   "id": "17688a4e",
   "metadata": {},
   "outputs": [
    {
     "data": {
      "image/png": "[encoded data removed]",
      "text/plain": [
       "<Figure size 360x576 with 1 Axes>"
      ]
     },
     "metadata": {
      "needs_background": "light"
     },
     "output_type": "display_data"
    }
   ],
   "source": [
    "fig, ax = plt.subplots(figsize=(5,8))\n",
    "sns.boxplot(y=full_data_merge_age_risk['AMT_INCOME_TOTAL'],\\\n",
    "            x=full_data_merge_age_risk['HIGH_RISK'])\n",
    "plt.xticks(ticks=[0,1], labels=['no','yes'])\n",
    "ax.get_yaxis().set_major_formatter(matplotlib.ticker.FuncFormatter(lambda x, p: format(int(x),',')))\n",
    "\n",
    "plt.title('High VS LOW risk group by Income')\n",
    "plt.show()"
   ]
  },
  {
   "cell_type": "markdown",
   "id": "b1783034",
   "metadata": {},
   "source": [
    "# account tenture"
   ]
  },
  {
   "cell_type": "code",
   "execution_count": 22,
   "id": "17137e82",
   "metadata": {},
   "outputs": [
    {
     "data": {
      "text/plain": [
       "Text(0.5, 1.0, 'Account Tenture Distribution')"
      ]
     },
     "execution_count": 22,
     "metadata": {},
     "output_type": "execute_result"
    },
    {
     "data": {
      "image/png": "[encoded data removed]",
      "text/plain": [
       "<Figure size 1296x720 with 1 Axes>"
      ]
     },
     "metadata": {
      "needs_background": "light"
     },
     "output_type": "display_data"
    }
   ],
   "source": [
    "fig, ax = plt.subplots(figsize=(18,10))\n",
    "sns.histplot(np.abs(full_data_merge_age_risk['ACCT_AGE']),bins = 30, kde = True)\n",
    "plt.title('Account Tenture Distribution')"
   ]
  },
  {
   "cell_type": "code",
   "execution_count": 23,
   "id": "a1d989e3",
   "metadata": {},
   "outputs": [
    {
     "data": {
      "image/png": "[encoded data removed]",
      "text/plain": [
       "<Figure size 360x576 with 1 Axes>"
      ]
     },
     "metadata": {
      "needs_background": "light"
     },
     "output_type": "display_data"
    }
   ],
   "source": [
    "fig, ax = plt.subplots(figsize=(5,8))\n",
    "sns.boxplot(y=np.abs(full_data_merge_age_risk['ACCT_AGE']),\\\n",
    "            x=full_data_merge_age_risk['HIGH_RISK'])\n",
    "plt.xticks(ticks=[0,1], labels=['no','yes'])\n",
    "plt.title('High VS LOW risk group by Account Tenture')\n",
    "plt.show()"
   ]
  },
  {
   "cell_type": "markdown",
   "id": "840b3aec",
   "metadata": {},
   "source": [
    "# Correlation Analysis\n",
    "\n",
    "### method :\n",
    "<ul>\n",
    "    <li> <b>pearson:</b> standard correlation coefficient</li>\n",
    "    <li> <b>kendall:</b> Kendall Tau correlation coefficient </li>\n",
    "    <li> <b>spearman:</b> Spearman rank correlation</li>\n",
    "</ul>    "
   ]
  },
  {
   "cell_type": "code",
   "execution_count": 24,
   "id": "583fd4b9",
   "metadata": {},
   "outputs": [
    {
     "data": {
      "image/png": "[encoded data removed]",
      "text/plain": [
       "<Figure size 1296x720 with 2 Axes>"
      ]
     },
     "metadata": {
      "needs_background": "light"
     },
     "output_type": "display_data"
    }
   ],
   "source": [
    "#get only lower triangle of the correlation matrix\n",
    "#generate a mask for upper triangle\n",
    "mask = np.zeros_like(full_data_merge_age_risk.drop(['FLAG_MOBIL'],axis =1).corr(), dtype='bool')\n",
    "mask[np.triu_indices_from(mask)] = True\n",
    "\n",
    "fig, ax = plt.subplots(figsize=(18,10))\n",
    "sns.heatmap(full_data_merge_age_risk.drop(['FLAG_MOBIL'],axis =1).corr(method='kendall'), annot = True, cmap='flare',\\\n",
    "           mask=mask, linewidths = .5)\n",
    "plt.show()"
   ]
  },
  {
   "cell_type": "code",
   "execution_count": null,
   "id": "695c69c6",
   "metadata": {},
   "outputs": [],
   "source": []
  },
  {
   "cell_type": "markdown",
   "id": "9694db65",
   "metadata": {},
   "source": [
    "# Bracket AMT income\n"
   ]
  },
  {
   "cell_type": "code",
   "execution_count": 25,
   "id": "f8fd407f",
   "metadata": {},
   "outputs": [
    {
     "name": "stdout",
     "output_type": "stream",
     "text": [
      "\u001b[93m\n",
      "The lowest income: $27000.0\n",
      "The median income: $186685.73666236937\n",
      "The highest income: $1575000.0\n"
     ]
    }
   ],
   "source": [
    "print('\\033[93m')\n",
    "print('The lowest income: ${}\\nThe median income: ${}\\nThe highest income: ${}'\\\n",
    "      .format(full_data_merge_age_risk['AMT_INCOME_TOTAL'].min(),\\\n",
    "             full_data_merge_age_risk['AMT_INCOME_TOTAL'].mean(),\\\n",
    "             full_data_merge_age_risk['AMT_INCOME_TOTAL'].max()))"
   ]
  },
  {
   "cell_type": "code",
   "execution_count": 26,
   "id": "eea4e85e",
   "metadata": {},
   "outputs": [
    {
     "name": "stdout",
     "output_type": "stream",
     "text": [
      "\u001b[92m\n",
      "I decide to bracket the amt income into 4 brackets:\u001b[93m \n",
      "\u001b[1m1st bracket:\u001b[0m \u001b[93m5086 records which is the group of customer who earned income from $27000.0 to $100,000\n",
      "\u001b[1m2nd bracket:\u001b[0m \u001b[93m17897 records which is the group of customer who earned income from $100,000 to $200,000\n",
      "\u001b[1m3rd bracket:\u001b[0m \u001b[93m12169 records which is the group of customer who earned income from $200,000 to $400,000\n",
      "\u001b[1m4th bracket:\u001b[0m \u001b[93m1305 records which is the group of customer who earned income more than $400,000\n"
     ]
    }
   ],
   "source": [
    "print('\\033[92m')\n",
    "\n",
    "print('''I decide to bracket the amt income into 4 brackets:\\033[93m \\n\\033[1m1st bracket:\\033[0m \\033[93m{} records which is the group of customer who earned income from ${} to $100,000\\n\\033[1m2nd bracket:\\033[0m \\033[93m{} records which is the group of customer who earned income from $100,000 to $200,000\\n\\033[1m3rd bracket:\\033[0m \\033[93m{} records which is the group of customer who earned income from $200,000 to $400,000\\n\\033[1m4th bracket:\\033[0m \\033[93m{} records which is the group of customer who earned income more than $400,000'''\\\n",
    "      .format(full_data_merge_age_risk[full_data_merge_age_risk['AMT_INCOME_TOTAL'] < 100000].shape[0],\n",
    "              full_data_merge_age_risk['AMT_INCOME_TOTAL'].min(),\n",
    "              full_data_merge_age_risk.query('AMT_INCOME_TOTAL >= 100000 & AMT_INCOME_TOTAL < 200000').shape[0],\n",
    "              full_data_merge_age_risk.query('AMT_INCOME_TOTAL >= 200000 & AMT_INCOME_TOTAL < 400000').shape[0],\n",
    "              full_data_merge_age_risk.query('AMT_INCOME_TOTAL >= 400000').shape[0]))"
   ]
  },
  {
   "cell_type": "code",
   "execution_count": 27,
   "id": "c1c98e62",
   "metadata": {},
   "outputs": [],
   "source": [
    "full_data_merge_age_risk['AMT_INCOME_TOTAL'] = np.where(full_data_merge_age_risk['AMT_INCOME_TOTAL'] < 100000,1,\\\n",
    "         np.where((full_data_merge_age_risk['AMT_INCOME_TOTAL'] >= 100000)& \\\n",
    "                  (full_data_merge_age_risk['AMT_INCOME_TOTAL'] < 200000),2,\\\n",
    "                  np.where((full_data_merge_age_risk['AMT_INCOME_TOTAL'] >= 200000)& \\\n",
    "                  (full_data_merge_age_risk['AMT_INCOME_TOTAL'] < 400000),3,4)))"
   ]
  },
  {
   "cell_type": "code",
   "execution_count": 28,
   "id": "b0916cf5",
   "metadata": {},
   "outputs": [
    {
     "data": {
      "text/plain": [
       "2    17897\n",
       "3    12169\n",
       "1     5086\n",
       "4     1305\n",
       "Name: AMT_INCOME_TOTAL, dtype: int64"
      ]
     },
     "execution_count": 28,
     "metadata": {},
     "output_type": "execute_result"
    }
   ],
   "source": [
    "full_data_merge_age_risk['AMT_INCOME_TOTAL'].value_counts()"
   ]
  },
  {
   "cell_type": "code",
   "execution_count": 29,
   "id": "0a4550ea",
   "metadata": {},
   "outputs": [
    {
     "data": {
      "text/html": [
       "<div>\n",
       "<style scoped>\n",
       "    .dataframe tbody tr th:only-of-type {\n",
       "        vertical-align: middle;\n",
       "    }\n",
       "\n",
       "    .dataframe tbody tr th {\n",
       "        vertical-align: top;\n",
       "    }\n",
       "\n",
       "    .dataframe thead th {\n",
       "        text-align: right;\n",
       "    }\n",
       "</style>\n",
       "<table border=\"1\" class=\"dataframe\">\n",
       "  <thead>\n",
       "    <tr style=\"text-align: right;\">\n",
       "      <th></th>\n",
       "      <th>AMT_INCOME_TOTAL_CNT</th>\n",
       "      <th>FREQUENCY</th>\n",
       "    </tr>\n",
       "  </thead>\n",
       "  <tbody>\n",
       "    <tr>\n",
       "      <th>2</th>\n",
       "      <td>17897</td>\n",
       "      <td>49.090710</td>\n",
       "    </tr>\n",
       "    <tr>\n",
       "      <th>3</th>\n",
       "      <td>12169</td>\n",
       "      <td>33.379049</td>\n",
       "    </tr>\n",
       "    <tr>\n",
       "      <th>1</th>\n",
       "      <td>5086</td>\n",
       "      <td>13.950682</td>\n",
       "    </tr>\n",
       "    <tr>\n",
       "      <th>4</th>\n",
       "      <td>1305</td>\n",
       "      <td>3.579559</td>\n",
       "    </tr>\n",
       "  </tbody>\n",
       "</table>\n",
       "</div>"
      ],
      "text/plain": [
       "   AMT_INCOME_TOTAL_CNT  FREQUENCY\n",
       "2                 17897  49.090710\n",
       "3                 12169  33.379049\n",
       "1                  5086  13.950682\n",
       "4                  1305   3.579559"
      ]
     },
     "execution_count": 29,
     "metadata": {},
     "output_type": "execute_result"
    }
   ],
   "source": [
    "value_cnt_norm(full_data_merge_age_risk,'AMT_INCOME_TOTAL')"
   ]
  },
  {
   "cell_type": "code",
   "execution_count": 30,
   "id": "7e955916",
   "metadata": {},
   "outputs": [],
   "source": [
    "#Birthdate"
   ]
  },
  {
   "cell_type": "code",
   "execution_count": 31,
   "id": "6defca48",
   "metadata": {},
   "outputs": [],
   "source": [
    "# day employ"
   ]
  },
  {
   "cell_type": "markdown",
   "id": "439ab73a",
   "metadata": {},
   "source": [
    "# convert value of these columns to categorical \n",
    "\n",
    "\n",
    "CODE_GENDER_CNT  FREQUENCY\n",
    " F            24430  67.010451\n",
    " M            12027  32.989549,\n",
    "    FLAG_OWN_CAR_CNT  FREQUENCY\n",
    " N             22614   62.02924\n",
    " Y             13843   37.97076,\n",
    "    FLAG_OWN_REALTY_CNT  FREQUENCY\n",
    " Y                24506  67.218915\n",
    " N                11951  32.7"
   ]
  },
  {
   "cell_type": "code",
   "execution_count": 32,
   "id": "ff7c683c",
   "metadata": {},
   "outputs": [],
   "source": [
    "full_data_merge_age_risk['CODE_GENDER'] = full_data_merge_age_risk['CODE_GENDER'].apply(lambda x: 1 if x == 'F' else 0)\n",
    "full_data_merge_age_risk['FLAG_OWN_CAR'] = full_data_merge_age_risk['FLAG_OWN_CAR'].apply(lambda x: 1 if x == 'Y' else 0)\n",
    "\n",
    "full_data_merge_age_risk['FLAG_OWN_REALTY'] = full_data_merge_age_risk['FLAG_OWN_REALTY'].apply(lambda x: 1 if x == 'Y' else 0)\n"
   ]
  },
  {
   "cell_type": "markdown",
   "id": "eec337b8",
   "metadata": {},
   "source": [
    "### Change NAME_EDUCATION_TYPE\tobject\tto ordinal\n"
   ]
  },
  {
   "cell_type": "code",
   "execution_count": 33,
   "id": "54b9956c",
   "metadata": {},
   "outputs": [
    {
     "name": "stdout",
     "output_type": "stream",
     "text": [
      "Secondary / secondary special    24777\n",
      "Higher education                  9864\n",
      "Incomplete higher                 1410\n",
      "Lower secondary                    374\n",
      "Academic degree                     32\n",
      "Name: NAME_EDUCATION_TYPE, dtype: int64\n"
     ]
    }
   ],
   "source": [
    "print(full_data_merge_age_risk['NAME_EDUCATION_TYPE'].value_counts())"
   ]
  },
  {
   "cell_type": "code",
   "execution_count": 34,
   "id": "2cdb5a5b",
   "metadata": {},
   "outputs": [
    {
     "name": "stdout",
     "output_type": "stream",
     "text": [
      "1    24777\n",
      "4     9896\n",
      "2     1410\n",
      "0      374\n",
      "Name: NAME_EDUCATION_TYPE, dtype: int64\n"
     ]
    }
   ],
   "source": [
    "full_data_merge_age_risk['NAME_EDUCATION_TYPE'] = np.where(full_data_merge_age_risk['NAME_EDUCATION_TYPE'] == \"Lower secondary\",0,\\\n",
    "        np.where(full_data_merge_age_risk['NAME_EDUCATION_TYPE'] == \"Secondary / secondary special\",1,\\\n",
    "                np.where(full_data_merge_age_risk['NAME_EDUCATION_TYPE'] == \"Incomplete higher\",2,4)))\n",
    "\n",
    "print(full_data_merge_age_risk['NAME_EDUCATION_TYPE'].value_counts())"
   ]
  },
  {
   "cell_type": "markdown",
   "id": "db8a38f1",
   "metadata": {},
   "source": [
    "NAME_INCOME_TYPE\tobject\t36457\t5\t0\t0.00\n"
   ]
  },
  {
   "cell_type": "code",
   "execution_count": 35,
   "id": "61b8ec97",
   "metadata": {},
   "outputs": [
    {
     "name": "stdout",
     "output_type": "stream",
     "text": [
      "Working                 18819\n",
      "Commercial associate     8490\n",
      "Pensioner                6152\n",
      "State servant            2985\n",
      "Student                    11\n",
      "Name: NAME_INCOME_TYPE, dtype: int64\n"
     ]
    }
   ],
   "source": [
    "print(full_data_merge_age_risk['NAME_INCOME_TYPE'].value_counts())"
   ]
  },
  {
   "cell_type": "markdown",
   "id": "2f845eef",
   "metadata": {},
   "source": [
    "8\tNAME_FAMILY_STATUS\tobject\t36457\t5\t0\t0.00\n"
   ]
  },
  {
   "cell_type": "code",
   "execution_count": 36,
   "id": "f8b0db33",
   "metadata": {},
   "outputs": [
    {
     "name": "stdout",
     "output_type": "stream",
     "text": [
      "Married                 25048\n",
      "Single / not married     4829\n",
      "Civil marriage           2945\n",
      "Separated                2103\n",
      "Widow                    1532\n",
      "Name: NAME_FAMILY_STATUS, dtype: int64\n"
     ]
    }
   ],
   "source": [
    "print(full_data_merge_age_risk['NAME_FAMILY_STATUS'].value_counts())"
   ]
  },
  {
   "cell_type": "markdown",
   "id": "f2a15350",
   "metadata": {},
   "source": [
    "9\tNAME_HOUSING_TYPE"
   ]
  },
  {
   "cell_type": "code",
   "execution_count": 37,
   "id": "6c824c3f",
   "metadata": {},
   "outputs": [
    {
     "name": "stdout",
     "output_type": "stream",
     "text": [
      "House / apartment      32548\n",
      "With parents            1776\n",
      "Municipal apartment     1128\n",
      "Rented apartment         575\n",
      "Office apartment         262\n",
      "Co-op apartment          168\n",
      "Name: NAME_HOUSING_TYPE, dtype: int64\n"
     ]
    }
   ],
   "source": [
    "print(full_data_merge_age_risk['NAME_HOUSING_TYPE'].value_counts())"
   ]
  },
  {
   "cell_type": "markdown",
   "id": "fe94a055",
   "metadata": {},
   "source": [
    "## convert these cols to categorical \n",
    "\n",
    "['NAME_INCOME_TYPE','NAME_HOUSING_TYPE','NAME_FAMILY_STATUS']"
   ]
  },
  {
   "cell_type": "code",
   "execution_count": 38,
   "id": "a7b3a6e9",
   "metadata": {},
   "outputs": [
    {
     "data": {
      "text/html": [
       "<div>\n",
       "<style scoped>\n",
       "    .dataframe tbody tr th:only-of-type {\n",
       "        vertical-align: middle;\n",
       "    }\n",
       "\n",
       "    .dataframe tbody tr th {\n",
       "        vertical-align: top;\n",
       "    }\n",
       "\n",
       "    .dataframe thead th {\n",
       "        text-align: right;\n",
       "    }\n",
       "</style>\n",
       "<table border=\"1\" class=\"dataframe\">\n",
       "  <thead>\n",
       "    <tr style=\"text-align: right;\">\n",
       "      <th></th>\n",
       "      <th>ID</th>\n",
       "      <th>CODE_GENDER</th>\n",
       "      <th>FLAG_OWN_CAR</th>\n",
       "      <th>FLAG_OWN_REALTY</th>\n",
       "      <th>CNT_CHILDREN</th>\n",
       "      <th>AMT_INCOME_TOTAL</th>\n",
       "      <th>NAME_EDUCATION_TYPE</th>\n",
       "      <th>DAYS_BIRTH</th>\n",
       "      <th>DAYS_EMPLOYED</th>\n",
       "      <th>FLAG_MOBIL</th>\n",
       "      <th>...</th>\n",
       "      <th>NAME_HOUSING_TYPE_House / apartment</th>\n",
       "      <th>NAME_HOUSING_TYPE_Municipal apartment</th>\n",
       "      <th>NAME_HOUSING_TYPE_Office apartment</th>\n",
       "      <th>NAME_HOUSING_TYPE_Rented apartment</th>\n",
       "      <th>NAME_HOUSING_TYPE_With parents</th>\n",
       "      <th>NAME_FAMILY_STATUS_Civil marriage</th>\n",
       "      <th>NAME_FAMILY_STATUS_Married</th>\n",
       "      <th>NAME_FAMILY_STATUS_Separated</th>\n",
       "      <th>NAME_FAMILY_STATUS_Single / not married</th>\n",
       "      <th>NAME_FAMILY_STATUS_Widow</th>\n",
       "    </tr>\n",
       "  </thead>\n",
       "  <tbody>\n",
       "    <tr>\n",
       "      <th>0</th>\n",
       "      <td>5008804</td>\n",
       "      <td>0</td>\n",
       "      <td>1</td>\n",
       "      <td>1</td>\n",
       "      <td>0</td>\n",
       "      <td>4</td>\n",
       "      <td>4</td>\n",
       "      <td>32.867899</td>\n",
       "      <td>12.435318</td>\n",
       "      <td>1</td>\n",
       "      <td>...</td>\n",
       "      <td>0</td>\n",
       "      <td>0</td>\n",
       "      <td>0</td>\n",
       "      <td>1</td>\n",
       "      <td>0</td>\n",
       "      <td>1</td>\n",
       "      <td>0</td>\n",
       "      <td>0</td>\n",
       "      <td>0</td>\n",
       "      <td>0</td>\n",
       "    </tr>\n",
       "    <tr>\n",
       "      <th>1</th>\n",
       "      <td>5008805</td>\n",
       "      <td>0</td>\n",
       "      <td>1</td>\n",
       "      <td>1</td>\n",
       "      <td>0</td>\n",
       "      <td>4</td>\n",
       "      <td>4</td>\n",
       "      <td>32.867899</td>\n",
       "      <td>12.435318</td>\n",
       "      <td>1</td>\n",
       "      <td>...</td>\n",
       "      <td>0</td>\n",
       "      <td>0</td>\n",
       "      <td>0</td>\n",
       "      <td>1</td>\n",
       "      <td>0</td>\n",
       "      <td>1</td>\n",
       "      <td>0</td>\n",
       "      <td>0</td>\n",
       "      <td>0</td>\n",
       "      <td>0</td>\n",
       "    </tr>\n",
       "    <tr>\n",
       "      <th>2</th>\n",
       "      <td>5008806</td>\n",
       "      <td>0</td>\n",
       "      <td>1</td>\n",
       "      <td>1</td>\n",
       "      <td>0</td>\n",
       "      <td>2</td>\n",
       "      <td>1</td>\n",
       "      <td>58.792608</td>\n",
       "      <td>3.104723</td>\n",
       "      <td>1</td>\n",
       "      <td>...</td>\n",
       "      <td>1</td>\n",
       "      <td>0</td>\n",
       "      <td>0</td>\n",
       "      <td>0</td>\n",
       "      <td>0</td>\n",
       "      <td>0</td>\n",
       "      <td>1</td>\n",
       "      <td>0</td>\n",
       "      <td>0</td>\n",
       "      <td>0</td>\n",
       "    </tr>\n",
       "    <tr>\n",
       "      <th>3</th>\n",
       "      <td>5008808</td>\n",
       "      <td>1</td>\n",
       "      <td>0</td>\n",
       "      <td>1</td>\n",
       "      <td>0</td>\n",
       "      <td>3</td>\n",
       "      <td>1</td>\n",
       "      <td>52.320329</td>\n",
       "      <td>8.353183</td>\n",
       "      <td>1</td>\n",
       "      <td>...</td>\n",
       "      <td>1</td>\n",
       "      <td>0</td>\n",
       "      <td>0</td>\n",
       "      <td>0</td>\n",
       "      <td>0</td>\n",
       "      <td>0</td>\n",
       "      <td>0</td>\n",
       "      <td>0</td>\n",
       "      <td>1</td>\n",
       "      <td>0</td>\n",
       "    </tr>\n",
       "    <tr>\n",
       "      <th>4</th>\n",
       "      <td>5008809</td>\n",
       "      <td>1</td>\n",
       "      <td>0</td>\n",
       "      <td>1</td>\n",
       "      <td>0</td>\n",
       "      <td>3</td>\n",
       "      <td>1</td>\n",
       "      <td>52.320329</td>\n",
       "      <td>8.353183</td>\n",
       "      <td>1</td>\n",
       "      <td>...</td>\n",
       "      <td>1</td>\n",
       "      <td>0</td>\n",
       "      <td>0</td>\n",
       "      <td>0</td>\n",
       "      <td>0</td>\n",
       "      <td>0</td>\n",
       "      <td>0</td>\n",
       "      <td>0</td>\n",
       "      <td>1</td>\n",
       "      <td>0</td>\n",
       "    </tr>\n",
       "  </tbody>\n",
       "</table>\n",
       "<p>5 rows × 33 columns</p>\n",
       "</div>"
      ],
      "text/plain": [
       "        ID  CODE_GENDER  FLAG_OWN_CAR  FLAG_OWN_REALTY  CNT_CHILDREN  \\\n",
       "0  5008804            0             1                1             0   \n",
       "1  5008805            0             1                1             0   \n",
       "2  5008806            0             1                1             0   \n",
       "3  5008808            1             0                1             0   \n",
       "4  5008809            1             0                1             0   \n",
       "\n",
       "   AMT_INCOME_TOTAL  NAME_EDUCATION_TYPE  DAYS_BIRTH  DAYS_EMPLOYED  \\\n",
       "0                 4                    4   32.867899      12.435318   \n",
       "1                 4                    4   32.867899      12.435318   \n",
       "2                 2                    1   58.792608       3.104723   \n",
       "3                 3                    1   52.320329       8.353183   \n",
       "4                 3                    1   52.320329       8.353183   \n",
       "\n",
       "   FLAG_MOBIL  ...  NAME_HOUSING_TYPE_House / apartment  \\\n",
       "0           1  ...                                    0   \n",
       "1           1  ...                                    0   \n",
       "2           1  ...                                    1   \n",
       "3           1  ...                                    1   \n",
       "4           1  ...                                    1   \n",
       "\n",
       "   NAME_HOUSING_TYPE_Municipal apartment  NAME_HOUSING_TYPE_Office apartment  \\\n",
       "0                                      0                                   0   \n",
       "1                                      0                                   0   \n",
       "2                                      0                                   0   \n",
       "3                                      0                                   0   \n",
       "4                                      0                                   0   \n",
       "\n",
       "  NAME_HOUSING_TYPE_Rented apartment  NAME_HOUSING_TYPE_With parents  \\\n",
       "0                                  1                               0   \n",
       "1                                  1                               0   \n",
       "2                                  0                               0   \n",
       "3                                  0                               0   \n",
       "4                                  0                               0   \n",
       "\n",
       "   NAME_FAMILY_STATUS_Civil marriage  NAME_FAMILY_STATUS_Married  \\\n",
       "0                                  1                           0   \n",
       "1                                  1                           0   \n",
       "2                                  0                           1   \n",
       "3                                  0                           0   \n",
       "4                                  0                           0   \n",
       "\n",
       "   NAME_FAMILY_STATUS_Separated  NAME_FAMILY_STATUS_Single / not married  \\\n",
       "0                             0                                        0   \n",
       "1                             0                                        0   \n",
       "2                             0                                        0   \n",
       "3                             0                                        1   \n",
       "4                             0                                        1   \n",
       "\n",
       "   NAME_FAMILY_STATUS_Widow  \n",
       "0                         0  \n",
       "1                         0  \n",
       "2                         0  \n",
       "3                         0  \n",
       "4                         0  \n",
       "\n",
       "[5 rows x 33 columns]"
      ]
     },
     "execution_count": 38,
     "metadata": {},
     "output_type": "execute_result"
    }
   ],
   "source": [
    "oh_col = ['NAME_INCOME_TYPE','NAME_HOUSING_TYPE','NAME_FAMILY_STATUS']\n",
    "\n",
    "one_hot_df = pd.get_dummies(full_data_merge_age_risk, columns = oh_col)\n",
    "one_hot_df.head()"
   ]
  },
  {
   "cell_type": "markdown",
   "id": "e7b449d3",
   "metadata": {},
   "source": [
    "\n",
    "# check if there are any missing values"
   ]
  },
  {
   "cell_type": "code",
   "execution_count": 39,
   "id": "1feeaaf9",
   "metadata": {},
   "outputs": [
    {
     "data": {
      "text/html": [
       "<div>\n",
       "<style scoped>\n",
       "    .dataframe tbody tr th:only-of-type {\n",
       "        vertical-align: middle;\n",
       "    }\n",
       "\n",
       "    .dataframe tbody tr th {\n",
       "        vertical-align: top;\n",
       "    }\n",
       "\n",
       "    .dataframe thead th {\n",
       "        text-align: right;\n",
       "    }\n",
       "</style>\n",
       "<table border=\"1\" class=\"dataframe\">\n",
       "  <thead>\n",
       "    <tr style=\"text-align: right;\">\n",
       "      <th></th>\n",
       "      <th>variable</th>\n",
       "      <th>dtype</th>\n",
       "      <th>count</th>\n",
       "      <th>unique</th>\n",
       "      <th>missing</th>\n",
       "      <th>pc_missing</th>\n",
       "    </tr>\n",
       "  </thead>\n",
       "  <tbody>\n",
       "    <tr>\n",
       "      <th>0</th>\n",
       "      <td>ID</td>\n",
       "      <td>int64</td>\n",
       "      <td>36457</td>\n",
       "      <td>36457</td>\n",
       "      <td>0</td>\n",
       "      <td>0.00</td>\n",
       "    </tr>\n",
       "    <tr>\n",
       "      <th>1</th>\n",
       "      <td>CODE_GENDER</td>\n",
       "      <td>int64</td>\n",
       "      <td>36457</td>\n",
       "      <td>2</td>\n",
       "      <td>0</td>\n",
       "      <td>0.00</td>\n",
       "    </tr>\n",
       "    <tr>\n",
       "      <th>2</th>\n",
       "      <td>FLAG_OWN_CAR</td>\n",
       "      <td>int64</td>\n",
       "      <td>36457</td>\n",
       "      <td>2</td>\n",
       "      <td>0</td>\n",
       "      <td>0.00</td>\n",
       "    </tr>\n",
       "    <tr>\n",
       "      <th>3</th>\n",
       "      <td>FLAG_OWN_REALTY</td>\n",
       "      <td>int64</td>\n",
       "      <td>36457</td>\n",
       "      <td>2</td>\n",
       "      <td>0</td>\n",
       "      <td>0.00</td>\n",
       "    </tr>\n",
       "    <tr>\n",
       "      <th>4</th>\n",
       "      <td>CNT_CHILDREN</td>\n",
       "      <td>int64</td>\n",
       "      <td>36457</td>\n",
       "      <td>9</td>\n",
       "      <td>0</td>\n",
       "      <td>0.00</td>\n",
       "    </tr>\n",
       "    <tr>\n",
       "      <th>5</th>\n",
       "      <td>AMT_INCOME_TOTAL</td>\n",
       "      <td>int64</td>\n",
       "      <td>36457</td>\n",
       "      <td>4</td>\n",
       "      <td>0</td>\n",
       "      <td>0.00</td>\n",
       "    </tr>\n",
       "    <tr>\n",
       "      <th>6</th>\n",
       "      <td>NAME_INCOME_TYPE</td>\n",
       "      <td>object</td>\n",
       "      <td>36457</td>\n",
       "      <td>5</td>\n",
       "      <td>0</td>\n",
       "      <td>0.00</td>\n",
       "    </tr>\n",
       "    <tr>\n",
       "      <th>7</th>\n",
       "      <td>NAME_EDUCATION_TYPE</td>\n",
       "      <td>int64</td>\n",
       "      <td>36457</td>\n",
       "      <td>4</td>\n",
       "      <td>0</td>\n",
       "      <td>0.00</td>\n",
       "    </tr>\n",
       "    <tr>\n",
       "      <th>8</th>\n",
       "      <td>NAME_FAMILY_STATUS</td>\n",
       "      <td>object</td>\n",
       "      <td>36457</td>\n",
       "      <td>5</td>\n",
       "      <td>0</td>\n",
       "      <td>0.00</td>\n",
       "    </tr>\n",
       "    <tr>\n",
       "      <th>9</th>\n",
       "      <td>NAME_HOUSING_TYPE</td>\n",
       "      <td>object</td>\n",
       "      <td>36457</td>\n",
       "      <td>6</td>\n",
       "      <td>0</td>\n",
       "      <td>0.00</td>\n",
       "    </tr>\n",
       "    <tr>\n",
       "      <th>10</th>\n",
       "      <td>DAYS_BIRTH</td>\n",
       "      <td>float64</td>\n",
       "      <td>36457</td>\n",
       "      <td>7183</td>\n",
       "      <td>0</td>\n",
       "      <td>0.00</td>\n",
       "    </tr>\n",
       "    <tr>\n",
       "      <th>11</th>\n",
       "      <td>DAYS_EMPLOYED</td>\n",
       "      <td>float64</td>\n",
       "      <td>36457</td>\n",
       "      <td>3640</td>\n",
       "      <td>0</td>\n",
       "      <td>0.00</td>\n",
       "    </tr>\n",
       "    <tr>\n",
       "      <th>12</th>\n",
       "      <td>FLAG_MOBIL</td>\n",
       "      <td>int64</td>\n",
       "      <td>36457</td>\n",
       "      <td>1</td>\n",
       "      <td>0</td>\n",
       "      <td>0.00</td>\n",
       "    </tr>\n",
       "    <tr>\n",
       "      <th>13</th>\n",
       "      <td>FLAG_WORK_PHONE</td>\n",
       "      <td>int64</td>\n",
       "      <td>36457</td>\n",
       "      <td>2</td>\n",
       "      <td>0</td>\n",
       "      <td>0.00</td>\n",
       "    </tr>\n",
       "    <tr>\n",
       "      <th>14</th>\n",
       "      <td>FLAG_PHONE</td>\n",
       "      <td>int64</td>\n",
       "      <td>36457</td>\n",
       "      <td>2</td>\n",
       "      <td>0</td>\n",
       "      <td>0.00</td>\n",
       "    </tr>\n",
       "    <tr>\n",
       "      <th>15</th>\n",
       "      <td>FLAG_EMAIL</td>\n",
       "      <td>int64</td>\n",
       "      <td>36457</td>\n",
       "      <td>2</td>\n",
       "      <td>0</td>\n",
       "      <td>0.00</td>\n",
       "    </tr>\n",
       "    <tr>\n",
       "      <th>16</th>\n",
       "      <td>OCCUPATION_TYPE</td>\n",
       "      <td>object</td>\n",
       "      <td>36457</td>\n",
       "      <td>19</td>\n",
       "      <td>11323</td>\n",
       "      <td>31.06</td>\n",
       "    </tr>\n",
       "    <tr>\n",
       "      <th>17</th>\n",
       "      <td>CNT_FAM_MEMBERS</td>\n",
       "      <td>float64</td>\n",
       "      <td>36457</td>\n",
       "      <td>10</td>\n",
       "      <td>0</td>\n",
       "      <td>0.00</td>\n",
       "    </tr>\n",
       "    <tr>\n",
       "      <th>18</th>\n",
       "      <td>ACCT_AGE</td>\n",
       "      <td>float64</td>\n",
       "      <td>36457</td>\n",
       "      <td>61</td>\n",
       "      <td>0</td>\n",
       "      <td>0.00</td>\n",
       "    </tr>\n",
       "    <tr>\n",
       "      <th>19</th>\n",
       "      <td>HIGH_RISK</td>\n",
       "      <td>int64</td>\n",
       "      <td>36457</td>\n",
       "      <td>2</td>\n",
       "      <td>0</td>\n",
       "      <td>0.00</td>\n",
       "    </tr>\n",
       "  </tbody>\n",
       "</table>\n",
       "</div>"
      ],
      "text/plain": [
       "               variable    dtype  count  unique  missing  pc_missing\n",
       "0                    ID    int64  36457   36457        0        0.00\n",
       "1           CODE_GENDER    int64  36457       2        0        0.00\n",
       "2          FLAG_OWN_CAR    int64  36457       2        0        0.00\n",
       "3       FLAG_OWN_REALTY    int64  36457       2        0        0.00\n",
       "4          CNT_CHILDREN    int64  36457       9        0        0.00\n",
       "5      AMT_INCOME_TOTAL    int64  36457       4        0        0.00\n",
       "6      NAME_INCOME_TYPE   object  36457       5        0        0.00\n",
       "7   NAME_EDUCATION_TYPE    int64  36457       4        0        0.00\n",
       "8    NAME_FAMILY_STATUS   object  36457       5        0        0.00\n",
       "9     NAME_HOUSING_TYPE   object  36457       6        0        0.00\n",
       "10           DAYS_BIRTH  float64  36457    7183        0        0.00\n",
       "11        DAYS_EMPLOYED  float64  36457    3640        0        0.00\n",
       "12           FLAG_MOBIL    int64  36457       1        0        0.00\n",
       "13      FLAG_WORK_PHONE    int64  36457       2        0        0.00\n",
       "14           FLAG_PHONE    int64  36457       2        0        0.00\n",
       "15           FLAG_EMAIL    int64  36457       2        0        0.00\n",
       "16      OCCUPATION_TYPE   object  36457      19    11323       31.06\n",
       "17      CNT_FAM_MEMBERS  float64  36457      10        0        0.00\n",
       "18             ACCT_AGE  float64  36457      61        0        0.00\n",
       "19            HIGH_RISK    int64  36457       2        0        0.00"
      ]
     },
     "execution_count": 39,
     "metadata": {},
     "output_type": "execute_result"
    }
   ],
   "source": [
    "def show_missing(df):\n",
    "    \"\"\"Return a Pandas dataframe describing the contents of a source dataframe including missing values.\"\"\"\n",
    "    \n",
    "    variables = []\n",
    "    dtypes = []\n",
    "    count = []\n",
    "    unique = []\n",
    "    missing = []\n",
    "    pc_missing = []\n",
    "    \n",
    "    for item in df.columns:\n",
    "        variables.append(item)\n",
    "        dtypes.append(df[item].dtype)\n",
    "        count.append(len(df[item]))\n",
    "        unique.append(len(df[item].unique()))\n",
    "        missing.append(df[item].isna().sum())\n",
    "        pc_missing.append(round((df[item].isna().sum() / len(df[item])) * 100, 2))\n",
    "\n",
    "    output = pd.DataFrame({\n",
    "        'variable': variables, \n",
    "        'dtype': dtypes,\n",
    "        'count': count,\n",
    "        'unique': unique,\n",
    "        'missing': missing, \n",
    "        'pc_missing': pc_missing\n",
    "    })    \n",
    "        \n",
    "    return output\n",
    "\n",
    "show_missing(full_data_merge_age_risk)"
   ]
  },
  {
   "cell_type": "code",
   "execution_count": 40,
   "id": "a1e1781f",
   "metadata": {},
   "outputs": [
    {
     "data": {
      "text/plain": [
       "Laborers                 6211\n",
       "Core staff               3591\n",
       "Sales staff              3485\n",
       "Managers                 3012\n",
       "Drivers                  2138\n",
       "High skill tech staff    1383\n",
       "Accountants              1241\n",
       "Medicine staff           1207\n",
       "Cooking staff             655\n",
       "Security staff            592\n",
       "Cleaning staff            551\n",
       "Private service staff     344\n",
       "Low-skill Laborers        175\n",
       "Waiters/barmen staff      174\n",
       "Secretaries               151\n",
       "HR staff                   85\n",
       "Realty agents              79\n",
       "IT staff                   60\n",
       "Name: OCCUPATION_TYPE, dtype: int64"
      ]
     },
     "execution_count": 40,
     "metadata": {},
     "output_type": "execute_result"
    }
   ],
   "source": [
    "full_data_merge_age_risk.OCCUPATION_TYPE.value_counts()\n"
   ]
  },
  {
   "cell_type": "markdown",
   "id": "3befb2fa",
   "metadata": {},
   "source": [
    "## Outliers handling"
   ]
  },
  {
   "cell_type": "code",
   "execution_count": 41,
   "id": "412cd6e3",
   "metadata": {},
   "outputs": [],
   "source": [
    "from sklearn.base import BaseEstimator, TransformerMixin \n",
    "from sklearn.preprocessing import MinMaxScaler\n",
    "from imblearn.over_sampling import SMOTE"
   ]
  },
  {
   "cell_type": "code",
   "execution_count": 42,
   "id": "f73a6c97",
   "metadata": {},
   "outputs": [
    {
     "data": {
      "text/html": [
       "<div>\n",
       "<style scoped>\n",
       "    .dataframe tbody tr th:only-of-type {\n",
       "        vertical-align: middle;\n",
       "    }\n",
       "\n",
       "    .dataframe tbody tr th {\n",
       "        vertical-align: top;\n",
       "    }\n",
       "\n",
       "    .dataframe thead th {\n",
       "        text-align: right;\n",
       "    }\n",
       "</style>\n",
       "<table border=\"1\" class=\"dataframe\">\n",
       "  <thead>\n",
       "    <tr style=\"text-align: right;\">\n",
       "      <th></th>\n",
       "      <th>DAYS_EMPLOYED</th>\n",
       "      <th>AMT_INCOME_TOTAL</th>\n",
       "      <th>CNT_CHILDREN</th>\n",
       "      <th>CNT_FAM_MEMBERS</th>\n",
       "    </tr>\n",
       "  </thead>\n",
       "  <tbody>\n",
       "    <tr>\n",
       "      <th>0</th>\n",
       "      <td>12.435318</td>\n",
       "      <td>4</td>\n",
       "      <td>0</td>\n",
       "      <td>2.0</td>\n",
       "    </tr>\n",
       "    <tr>\n",
       "      <th>1</th>\n",
       "      <td>12.435318</td>\n",
       "      <td>4</td>\n",
       "      <td>0</td>\n",
       "      <td>2.0</td>\n",
       "    </tr>\n",
       "    <tr>\n",
       "      <th>2</th>\n",
       "      <td>3.104723</td>\n",
       "      <td>2</td>\n",
       "      <td>0</td>\n",
       "      <td>2.0</td>\n",
       "    </tr>\n",
       "    <tr>\n",
       "      <th>3</th>\n",
       "      <td>8.353183</td>\n",
       "      <td>3</td>\n",
       "      <td>0</td>\n",
       "      <td>1.0</td>\n",
       "    </tr>\n",
       "    <tr>\n",
       "      <th>4</th>\n",
       "      <td>8.353183</td>\n",
       "      <td>3</td>\n",
       "      <td>0</td>\n",
       "      <td>1.0</td>\n",
       "    </tr>\n",
       "  </tbody>\n",
       "</table>\n",
       "</div>"
      ],
      "text/plain": [
       "   DAYS_EMPLOYED  AMT_INCOME_TOTAL  CNT_CHILDREN  CNT_FAM_MEMBERS\n",
       "0      12.435318                 4             0              2.0\n",
       "1      12.435318                 4             0              2.0\n",
       "2       3.104723                 2             0              2.0\n",
       "3       8.353183                 3             0              1.0\n",
       "4       8.353183                 3             0              1.0"
      ]
     },
     "execution_count": 42,
     "metadata": {},
     "output_type": "execute_result"
    }
   ],
   "source": [
    "outlier_feat = ['DAYS_EMPLOYED','AMT_INCOME_TOTAL','CNT_CHILDREN','CNT_FAM_MEMBERS']\n",
    "full_data_merge_age_risk[outlier_feat].head()"
   ]
  },
  {
   "cell_type": "code",
   "execution_count": 43,
   "id": "47362e44",
   "metadata": {},
   "outputs": [],
   "source": [
    "class OutlierRemover(BaseEstimator, TransformerMixin):\n",
    "    def __init__(self, outlier_feat = ['DAYS_EMPLOYED','AMT_INCOME_TOTAL','CNT_CHILDREN','CNT_FAM_MEMBERS']):\n",
    "        self.outlier_feat = outlier_feat\n",
    "    def fit(self,df):\n",
    "        return(self)\n",
    "    def transform(self,df):\n",
    "        if (set(self.outlier_feat).issubset(df.columns)):\n",
    "            #25 quantile\n",
    "            Q1 = df[self.outlier_feat].quantile(.25)\n",
    "            #75 quantile\n",
    "            Q3 = df[self.outlier_feat].quantile(.75)\n",
    "            IQR = Q3 - Q1\n",
    "            # remove outlier any records that are greater than Q3\n",
    "            df = df[~((df[self.outlier_feat] < (Q1 - 3 * IQR)) | (df[self.outlier_feat] > (Q3 + 3 * IQR))).any(axis = 1)]\n",
    "            return df\n",
    "        else:\n",
    "            print(\"One or more features are not in the dataframe\")\n",
    "            return df"
   ]
  },
  {
   "cell_type": "markdown",
   "id": "fe0cb284",
   "metadata": {},
   "source": [
    "# Skewness Handling"
   ]
  },
  {
   "cell_type": "code",
   "execution_count": 44,
   "id": "ae66f67d",
   "metadata": {},
   "outputs": [
    {
     "data": {
      "text/html": [
       "<div>\n",
       "<style scoped>\n",
       "    .dataframe tbody tr th:only-of-type {\n",
       "        vertical-align: middle;\n",
       "    }\n",
       "\n",
       "    .dataframe tbody tr th {\n",
       "        vertical-align: top;\n",
       "    }\n",
       "\n",
       "    .dataframe thead th {\n",
       "        text-align: right;\n",
       "    }\n",
       "</style>\n",
       "<table border=\"1\" class=\"dataframe\">\n",
       "  <thead>\n",
       "    <tr style=\"text-align: right;\">\n",
       "      <th></th>\n",
       "      <th>AMT_INCOME_TOTAL</th>\n",
       "      <th>DAYS_BIRTH</th>\n",
       "    </tr>\n",
       "  </thead>\n",
       "  <tbody>\n",
       "    <tr>\n",
       "      <th>0</th>\n",
       "      <td>4</td>\n",
       "      <td>32.867899</td>\n",
       "    </tr>\n",
       "    <tr>\n",
       "      <th>1</th>\n",
       "      <td>4</td>\n",
       "      <td>32.867899</td>\n",
       "    </tr>\n",
       "    <tr>\n",
       "      <th>2</th>\n",
       "      <td>2</td>\n",
       "      <td>58.792608</td>\n",
       "    </tr>\n",
       "    <tr>\n",
       "      <th>3</th>\n",
       "      <td>3</td>\n",
       "      <td>52.320329</td>\n",
       "    </tr>\n",
       "    <tr>\n",
       "      <th>4</th>\n",
       "      <td>3</td>\n",
       "      <td>52.320329</td>\n",
       "    </tr>\n",
       "  </tbody>\n",
       "</table>\n",
       "</div>"
      ],
      "text/plain": [
       "   AMT_INCOME_TOTAL  DAYS_BIRTH\n",
       "0                 4   32.867899\n",
       "1                 4   32.867899\n",
       "2                 2   58.792608\n",
       "3                 3   52.320329\n",
       "4                 3   52.320329"
      ]
     },
     "execution_count": 44,
     "metadata": {},
     "output_type": "execute_result"
    }
   ],
   "source": [
    "skew_feat = ['AMT_INCOME_TOTAL','DAYS_BIRTH']\n",
    "full_data_merge_age_risk[skew_feat].head()"
   ]
  },
  {
   "cell_type": "code",
   "execution_count": 45,
   "id": "ebe47671",
   "metadata": {},
   "outputs": [],
   "source": [
    "class SkewnessHandler(BaseEstimator, TransformerMixin):\n",
    "    def __init__(self, skew_feat = ['AMT_INCOME_TOTAL','DAYS_BIRTH']):\n",
    "        self.skew_feat = skew_feat\n",
    "    def fit(self,df):\n",
    "        return(self)\n",
    "    def transform(self,df):\n",
    "        if (set(self.skew_feat).issubset(df.columns)):\n",
    "            df[self.skew_feat] = np.cbrt(df[self.skew_feat]) # handle it with cubic root transformation\n",
    "            return df\n",
    "        else:\n",
    "            print(\"One or more features are not in the dataframe\")\n",
    "            return df"
   ]
  },
  {
   "cell_type": "markdown",
   "id": "0bf8fdff",
   "metadata": {},
   "source": [
    "# Min-Max Scaling"
   ]
  },
  {
   "cell_type": "code",
   "execution_count": 46,
   "id": "69ded06d",
   "metadata": {},
   "outputs": [
    {
     "data": {
      "text/html": [
       "<div>\n",
       "<style scoped>\n",
       "    .dataframe tbody tr th:only-of-type {\n",
       "        vertical-align: middle;\n",
       "    }\n",
       "\n",
       "    .dataframe tbody tr th {\n",
       "        vertical-align: top;\n",
       "    }\n",
       "\n",
       "    .dataframe thead th {\n",
       "        text-align: right;\n",
       "    }\n",
       "</style>\n",
       "<table border=\"1\" class=\"dataframe\">\n",
       "  <thead>\n",
       "    <tr style=\"text-align: right;\">\n",
       "      <th></th>\n",
       "      <th>AMT_INCOME_TOTAL</th>\n",
       "      <th>DAYS_BIRTH</th>\n",
       "      <th>DAYS_EMPLOYED</th>\n",
       "    </tr>\n",
       "  </thead>\n",
       "  <tbody>\n",
       "    <tr>\n",
       "      <th>0</th>\n",
       "      <td>4</td>\n",
       "      <td>32.867899</td>\n",
       "      <td>12.435318</td>\n",
       "    </tr>\n",
       "    <tr>\n",
       "      <th>1</th>\n",
       "      <td>4</td>\n",
       "      <td>32.867899</td>\n",
       "      <td>12.435318</td>\n",
       "    </tr>\n",
       "    <tr>\n",
       "      <th>2</th>\n",
       "      <td>2</td>\n",
       "      <td>58.792608</td>\n",
       "      <td>3.104723</td>\n",
       "    </tr>\n",
       "    <tr>\n",
       "      <th>3</th>\n",
       "      <td>3</td>\n",
       "      <td>52.320329</td>\n",
       "      <td>8.353183</td>\n",
       "    </tr>\n",
       "    <tr>\n",
       "      <th>4</th>\n",
       "      <td>3</td>\n",
       "      <td>52.320329</td>\n",
       "      <td>8.353183</td>\n",
       "    </tr>\n",
       "  </tbody>\n",
       "</table>\n",
       "</div>"
      ],
      "text/plain": [
       "   AMT_INCOME_TOTAL  DAYS_BIRTH  DAYS_EMPLOYED\n",
       "0                 4   32.867899      12.435318\n",
       "1                 4   32.867899      12.435318\n",
       "2                 2   58.792608       3.104723\n",
       "3                 3   52.320329       8.353183\n",
       "4                 3   52.320329       8.353183"
      ]
     },
     "execution_count": 46,
     "metadata": {},
     "output_type": "execute_result"
    }
   ],
   "source": [
    "min_max_feat = ['AMT_INCOME_TOTAL','DAYS_BIRTH','DAYS_EMPLOYED']\n",
    "full_data_merge_age_risk[min_max_feat].head()"
   ]
  },
  {
   "cell_type": "code",
   "execution_count": 47,
   "id": "3265c2f4",
   "metadata": {},
   "outputs": [],
   "source": [
    "class MinMaxSc(BaseEstimator, TransformerMixin):\n",
    "    def __init__(self, min_max_feat = ['AMT_INCOME_TOTAL','DAYS_BIRTH','DAYS_EMPLOYED']):\n",
    "        self.min_max_feat = min_max_feat\n",
    "    def fit(self,df):\n",
    "        return(self)\n",
    "    def transform(self,df):\n",
    "        if (set(self.min_max_feat).issubset(df.columns)):\n",
    "            min_max_enc = MinMaxScaler()\n",
    "            df[self.min_max_feat] = min_max_enc.fit_transform(df[self.min_max_feat]) \n",
    "            return df\n",
    "        else:\n",
    "            print(\"One or more features are not in the dataframe\")\n",
    "            return df"
   ]
  },
  {
   "cell_type": "markdown",
   "id": "c119335c",
   "metadata": {},
   "source": [
    "# Over Sampling\n",
    "\n",
    "\n",
    "### As the minority class (High Risk = 1) is very small in the data then using oversampling with SMOTE "
   ]
  },
  {
   "cell_type": "code",
   "execution_count": 48,
   "id": "aadf0a95",
   "metadata": {},
   "outputs": [],
   "source": [
    "class Oversample(BaseEstimator, TransformerMixin):\n",
    "    def __init__(self):\n",
    "        pass\n",
    "    def fit(self,df):\n",
    "        return(self)\n",
    "    def transform(self,df):\n",
    "        if 'HIGH_RISK' in df.columns:\n",
    "            #use minority class to handle imbalance data\n",
    "            oversample = SMOTE(sampling_strategy='minority')\n",
    "            X_bal, y_bal = oversample.fit_resample(df.loc[:,df.columns != 'HIGH_RISK'],df['HIGH_RISK'])\n",
    "            df_bal = pd.concat([pd.DataFrame(X_bal),pd.DataFrame(y_bal)], axis = 1)\n",
    "            return df_bal\n",
    "        else:\n",
    "            print(\"Column High Risk is not in the dataframe\")\n",
    "            return df"
   ]
  },
  {
   "cell_type": "markdown",
   "id": "7dff4a2c",
   "metadata": {},
   "source": [
    "# Drop unnescessary column\n"
   ]
  },
  {
   "cell_type": "code",
   "execution_count": 49,
   "id": "360a3bd5",
   "metadata": {},
   "outputs": [
    {
     "data": {
      "text/plain": [
       "(36457, 30)"
      ]
     },
     "execution_count": 49,
     "metadata": {},
     "output_type": "execute_result"
    }
   ],
   "source": [
    "# since OCCUPATION_TYPE miss value contains 31% of the dataframe\n",
    "# I decide to drop this column\n",
    "drop_col = ['ID','OCCUPATION_TYPE','FLAG_MOBIL']\n",
    "df2 =one_hot_df.drop(columns = drop_col)\n",
    "df2.shape"
   ]
  },
  {
   "cell_type": "markdown",
   "id": "8b14b654",
   "metadata": {},
   "source": [
    "# Data Preprocessing"
   ]
  },
  {
   "cell_type": "code",
   "execution_count": 50,
   "id": "b1305cca",
   "metadata": {},
   "outputs": [],
   "source": [
    "from sklearn.pipeline import Pipeline"
   ]
  },
  {
   "cell_type": "code",
   "execution_count": 51,
   "id": "ee8c4a4e",
   "metadata": {},
   "outputs": [],
   "source": [
    "def full_pipeline(df):\n",
    "    pipeline = Pipeline([\n",
    "        ('outlier_remover', OutlierRemover()),\n",
    "        ('skewness_handler', SkewnessHandler()),\n",
    "        ('min_max_with_feat', MinMaxSc()),\n",
    "        ('oversample', Oversample())\n",
    "    ])\n",
    "    \n",
    "    df_pipe = pipeline.fit_transform(df)\n",
    "    return df_pipe"
   ]
  },
  {
   "cell_type": "code",
   "execution_count": 52,
   "id": "20d4cf2b",
   "metadata": {},
   "outputs": [
    {
     "name": "stdout",
     "output_type": "stream",
     "text": [
      "(71086, 30)\n"
     ]
    },
    {
     "data": {
      "text/html": [
       "<div>\n",
       "<style scoped>\n",
       "    .dataframe tbody tr th:only-of-type {\n",
       "        vertical-align: middle;\n",
       "    }\n",
       "\n",
       "    .dataframe tbody tr th {\n",
       "        vertical-align: top;\n",
       "    }\n",
       "\n",
       "    .dataframe thead th {\n",
       "        text-align: right;\n",
       "    }\n",
       "</style>\n",
       "<table border=\"1\" class=\"dataframe\">\n",
       "  <thead>\n",
       "    <tr style=\"text-align: right;\">\n",
       "      <th></th>\n",
       "      <th>CODE_GENDER</th>\n",
       "      <th>FLAG_OWN_CAR</th>\n",
       "      <th>FLAG_OWN_REALTY</th>\n",
       "      <th>CNT_CHILDREN</th>\n",
       "      <th>AMT_INCOME_TOTAL</th>\n",
       "      <th>NAME_EDUCATION_TYPE</th>\n",
       "      <th>DAYS_BIRTH</th>\n",
       "      <th>DAYS_EMPLOYED</th>\n",
       "      <th>FLAG_WORK_PHONE</th>\n",
       "      <th>FLAG_PHONE</th>\n",
       "      <th>...</th>\n",
       "      <th>NAME_HOUSING_TYPE_Municipal apartment</th>\n",
       "      <th>NAME_HOUSING_TYPE_Office apartment</th>\n",
       "      <th>NAME_HOUSING_TYPE_Rented apartment</th>\n",
       "      <th>NAME_HOUSING_TYPE_With parents</th>\n",
       "      <th>NAME_FAMILY_STATUS_Civil marriage</th>\n",
       "      <th>NAME_FAMILY_STATUS_Married</th>\n",
       "      <th>NAME_FAMILY_STATUS_Separated</th>\n",
       "      <th>NAME_FAMILY_STATUS_Single / not married</th>\n",
       "      <th>NAME_FAMILY_STATUS_Widow</th>\n",
       "      <th>HIGH_RISK</th>\n",
       "    </tr>\n",
       "  </thead>\n",
       "  <tbody>\n",
       "    <tr>\n",
       "      <th>0</th>\n",
       "      <td>0</td>\n",
       "      <td>1</td>\n",
       "      <td>1</td>\n",
       "      <td>0</td>\n",
       "      <td>1.000000</td>\n",
       "      <td>4</td>\n",
       "      <td>0.342358</td>\n",
       "      <td>0.400812</td>\n",
       "      <td>1</td>\n",
       "      <td>0</td>\n",
       "      <td>...</td>\n",
       "      <td>0</td>\n",
       "      <td>0</td>\n",
       "      <td>1</td>\n",
       "      <td>0</td>\n",
       "      <td>1</td>\n",
       "      <td>0</td>\n",
       "      <td>0</td>\n",
       "      <td>0</td>\n",
       "      <td>0</td>\n",
       "      <td>0</td>\n",
       "    </tr>\n",
       "    <tr>\n",
       "      <th>1</th>\n",
       "      <td>0</td>\n",
       "      <td>1</td>\n",
       "      <td>1</td>\n",
       "      <td>0</td>\n",
       "      <td>1.000000</td>\n",
       "      <td>4</td>\n",
       "      <td>0.342358</td>\n",
       "      <td>0.400812</td>\n",
       "      <td>1</td>\n",
       "      <td>0</td>\n",
       "      <td>...</td>\n",
       "      <td>0</td>\n",
       "      <td>0</td>\n",
       "      <td>1</td>\n",
       "      <td>0</td>\n",
       "      <td>1</td>\n",
       "      <td>0</td>\n",
       "      <td>0</td>\n",
       "      <td>0</td>\n",
       "      <td>0</td>\n",
       "      <td>0</td>\n",
       "    </tr>\n",
       "    <tr>\n",
       "      <th>2</th>\n",
       "      <td>0</td>\n",
       "      <td>1</td>\n",
       "      <td>1</td>\n",
       "      <td>0</td>\n",
       "      <td>0.442493</td>\n",
       "      <td>1</td>\n",
       "      <td>0.845494</td>\n",
       "      <td>0.100071</td>\n",
       "      <td>0</td>\n",
       "      <td>0</td>\n",
       "      <td>...</td>\n",
       "      <td>0</td>\n",
       "      <td>0</td>\n",
       "      <td>0</td>\n",
       "      <td>0</td>\n",
       "      <td>0</td>\n",
       "      <td>1</td>\n",
       "      <td>0</td>\n",
       "      <td>0</td>\n",
       "      <td>0</td>\n",
       "      <td>0</td>\n",
       "    </tr>\n",
       "    <tr>\n",
       "      <th>3</th>\n",
       "      <td>1</td>\n",
       "      <td>0</td>\n",
       "      <td>1</td>\n",
       "      <td>0</td>\n",
       "      <td>0.752892</td>\n",
       "      <td>1</td>\n",
       "      <td>0.736618</td>\n",
       "      <td>0.269238</td>\n",
       "      <td>0</td>\n",
       "      <td>1</td>\n",
       "      <td>...</td>\n",
       "      <td>0</td>\n",
       "      <td>0</td>\n",
       "      <td>0</td>\n",
       "      <td>0</td>\n",
       "      <td>0</td>\n",
       "      <td>0</td>\n",
       "      <td>0</td>\n",
       "      <td>1</td>\n",
       "      <td>0</td>\n",
       "      <td>0</td>\n",
       "    </tr>\n",
       "    <tr>\n",
       "      <th>4</th>\n",
       "      <td>1</td>\n",
       "      <td>0</td>\n",
       "      <td>1</td>\n",
       "      <td>0</td>\n",
       "      <td>0.752892</td>\n",
       "      <td>1</td>\n",
       "      <td>0.736618</td>\n",
       "      <td>0.269238</td>\n",
       "      <td>0</td>\n",
       "      <td>1</td>\n",
       "      <td>...</td>\n",
       "      <td>0</td>\n",
       "      <td>0</td>\n",
       "      <td>0</td>\n",
       "      <td>0</td>\n",
       "      <td>0</td>\n",
       "      <td>0</td>\n",
       "      <td>0</td>\n",
       "      <td>1</td>\n",
       "      <td>0</td>\n",
       "      <td>0</td>\n",
       "    </tr>\n",
       "  </tbody>\n",
       "</table>\n",
       "<p>5 rows × 30 columns</p>\n",
       "</div>"
      ],
      "text/plain": [
       "   CODE_GENDER  FLAG_OWN_CAR  FLAG_OWN_REALTY  CNT_CHILDREN  AMT_INCOME_TOTAL  \\\n",
       "0            0             1                1             0          1.000000   \n",
       "1            0             1                1             0          1.000000   \n",
       "2            0             1                1             0          0.442493   \n",
       "3            1             0                1             0          0.752892   \n",
       "4            1             0                1             0          0.752892   \n",
       "\n",
       "   NAME_EDUCATION_TYPE  DAYS_BIRTH  DAYS_EMPLOYED  FLAG_WORK_PHONE  \\\n",
       "0                    4    0.342358       0.400812                1   \n",
       "1                    4    0.342358       0.400812                1   \n",
       "2                    1    0.845494       0.100071                0   \n",
       "3                    1    0.736618       0.269238                0   \n",
       "4                    1    0.736618       0.269238                0   \n",
       "\n",
       "   FLAG_PHONE  ...  NAME_HOUSING_TYPE_Municipal apartment  \\\n",
       "0           0  ...                                      0   \n",
       "1           0  ...                                      0   \n",
       "2           0  ...                                      0   \n",
       "3           1  ...                                      0   \n",
       "4           1  ...                                      0   \n",
       "\n",
       "   NAME_HOUSING_TYPE_Office apartment  NAME_HOUSING_TYPE_Rented apartment  \\\n",
       "0                                   0                                   1   \n",
       "1                                   0                                   1   \n",
       "2                                   0                                   0   \n",
       "3                                   0                                   0   \n",
       "4                                   0                                   0   \n",
       "\n",
       "   NAME_HOUSING_TYPE_With parents  NAME_FAMILY_STATUS_Civil marriage  \\\n",
       "0                               0                                  1   \n",
       "1                               0                                  1   \n",
       "2                               0                                  0   \n",
       "3                               0                                  0   \n",
       "4                               0                                  0   \n",
       "\n",
       "   NAME_FAMILY_STATUS_Married  NAME_FAMILY_STATUS_Separated  \\\n",
       "0                           0                             0   \n",
       "1                           0                             0   \n",
       "2                           1                             0   \n",
       "3                           0                             0   \n",
       "4                           0                             0   \n",
       "\n",
       "   NAME_FAMILY_STATUS_Single / not married  NAME_FAMILY_STATUS_Widow  \\\n",
       "0                                        0                         0   \n",
       "1                                        0                         0   \n",
       "2                                        0                         0   \n",
       "3                                        1                         0   \n",
       "4                                        1                         0   \n",
       "\n",
       "   HIGH_RISK  \n",
       "0          0  \n",
       "1          0  \n",
       "2          0  \n",
       "3          0  \n",
       "4          0  \n",
       "\n",
       "[5 rows x 30 columns]"
      ]
     },
     "execution_count": 52,
     "metadata": {},
     "output_type": "execute_result"
    }
   ],
   "source": [
    "df2_prep = full_pipeline(df2)\n",
    "print(df2_prep.shape)\n",
    "df2_prep.head()"
   ]
  },
  {
   "cell_type": "markdown",
   "id": "d1db8c59",
   "metadata": {},
   "source": [
    "# Split train and test data"
   ]
  },
  {
   "cell_type": "code",
   "execution_count": 53,
   "id": "e52c08ea",
   "metadata": {},
   "outputs": [],
   "source": [
    "from sklearn.model_selection import train_test_split, GridSearchCV, cross_val_score, cross_val_predict, RandomizedSearchCV"
   ]
  },
  {
   "cell_type": "code",
   "execution_count": 54,
   "id": "ffcca81f",
   "metadata": {},
   "outputs": [],
   "source": [
    "X_train, X_test, y_train, y_test = train_test_split(df2_prep.iloc[:,:-1],\\\n",
    "                                                    df2_prep[['HIGH_RISK']],\\\n",
    "                                                    test_size = 0.2, random_state = 42)"
   ]
  },
  {
   "cell_type": "code",
   "execution_count": 55,
   "id": "da8b35bd",
   "metadata": {},
   "outputs": [
    {
     "name": "stdout",
     "output_type": "stream",
     "text": [
      "\u001b[94m\n",
      "************************************************************\n",
      "There are 30 columns and 56868 rows in Train set\n",
      "There are 30 columns and 14218 rows in Test set\n"
     ]
    }
   ],
   "source": [
    "train_df = pd.concat([X_train,y_train], axis = 1)\n",
    "test_df = pd.concat([X_test,y_test], axis = 1)\n",
    "train_df.to_csv('dataset/cc_train.csv', index = False)\n",
    "test_df.to_csv('dataset/cc_test.csv', index = False)\n",
    "print('\\033[94m')\n",
    "print('*'*60)\n",
    "print(f'There are {train_df.shape[1]} columns and {train_df.shape[0]} rows in Train set')\n",
    "print(f'There are {test_df.shape[1]} columns and {test_df.shape[0]} rows in Test set')"
   ]
  },
  {
   "cell_type": "markdown",
   "id": "c3996db1",
   "metadata": {},
   "source": [
    "# Start Training\n",
    "\n",
    "## model training"
   ]
  },
  {
   "cell_type": "code",
   "execution_count": 56,
   "id": "6afdc4be",
   "metadata": {},
   "outputs": [],
   "source": [
    "from sklearn.metrics import ConfusionMatrixDisplay, classification_report, roc_curve, roc_auc_score\n",
    "from sklearn.linear_model import SGDClassifier, LogisticRegression\n",
    "from sklearn.svm import SVC\n",
    "from sklearn.tree import DecisionTreeClassifier\n",
    "from sklearn.ensemble import RandomForestClassifier, GradientBoostingClassifier, BaggingClassifier, AdaBoostClassifier\n",
    "from sklearn.naive_bayes import GaussianNB\n",
    "\n",
    "from sklearn.calibration import CalibratedClassifierCV\n",
    "\n",
    "import scikitplot as skplt"
   ]
  },
  {
   "cell_type": "code",
   "execution_count": 57,
   "id": "85cb33f7",
   "metadata": {},
   "outputs": [],
   "source": [
    "classifiers = {\n",
    "    'sgd':SGDClassifier(random_state=42, loss='perceptron'),\n",
    "    'logistic_regression':LogisticRegression(random_state=42, max_iter=1000),\n",
    "    'support_vector_machine':SVC(random_state=42, probability=True),\n",
    "    'decision_tree':DecisionTreeClassifier(random_state=42),\n",
    "    'random_forest':RandomForestClassifier(random_state=42),\n",
    "    'gaussian_naive_bayes':GaussianNB(),\n",
    "    'gradient_boosting':GradientBoostingClassifier(random_state=42),\n",
    "    'bagging':BaggingClassifier(random_state=42),\n",
    "    'adaboost':AdaBoostClassifier(random_state=42),\n",
    "}"
   ]
  },
  {
   "cell_type": "markdown",
   "id": "68f79811",
   "metadata": {},
   "source": [
    "# Feature Importance"
   ]
  },
  {
   "cell_type": "code",
   "execution_count": 58,
   "id": "492a74ee",
   "metadata": {},
   "outputs": [],
   "source": [
    "from yellowbrick.model_selection import FeatureImportances"
   ]
  },
  {
   "cell_type": "code",
   "execution_count": 59,
   "id": "6cd12a8e",
   "metadata": {},
   "outputs": [],
   "source": [
    "def feat_importance_plot(model_trn,model_nm,X_train,y_train):\n",
    "    if model_nm not in ['sgd','support_vector_machine','gaussian_naive_bayes','bagging']:\n",
    "        plt.rcParams['xtick.labelsize'] = 12\n",
    "        plt.rcParams['ytick.labelsize'] = 12\n",
    "        \n",
    "        #top 10 most important features\n",
    "        top_10_feat = FeatureImportances(model_trn, relative=False,topn=10)\n",
    "        \n",
    "        \n",
    "        #bottom 10 most important features\n",
    "        bottom_10_feat = FeatureImportances(model_trn, relative=False,topn=-10)\n",
    "        \n",
    "        plt.figure(figsize=(10,4))\n",
    "        plt.xlabel('xlabel', fontsize=14)\n",
    "        top_10_feat.fit(X_train,y_train)\n",
    "        \n",
    "        top_10_feat.show()\n",
    "        print('\\n')\n",
    "        print('-'*60)\n",
    "        plt.figure(figsize=(10,4))\n",
    "        plt.xlabel('xlabel', fontsize=14)\n",
    "#         bottom_10_feat.fit(X_train,y_train)\n",
    "#         bottom_10_feat.show()\n",
    "        print('\\n')\n",
    "    else:\n",
    "        print(f'No feature importance for {model_nm}')\n",
    "        print('\\n')"
   ]
  },
  {
   "cell_type": "markdown",
   "id": "7c42ee74",
   "metadata": {},
   "source": [
    "# train model"
   ]
  },
  {
   "cell_type": "code",
   "execution_count": 60,
   "id": "adc40134",
   "metadata": {},
   "outputs": [],
   "source": [
    "def y_prediction_func(model_trn, model_nm, final_model = False):\n",
    "    if final_model == False:\n",
    "        #if doesn't exist, create one\n",
    "        y_cc_train_pred_path = Path(f'saved_models/{model_nm}/y_train_copy_pred_{model_nm}.sav')\n",
    "        try:\n",
    "            y_cc_train_pred_path.resolve(strict=True)\n",
    "        except FileNotFoundError:\n",
    "            #cross validation 10 folds\n",
    "            y_cc_train_pred = cross_val_predict(model_trn,X_train,y_train,cv=10,n_jobs=-1)\n",
    "            #save prediction\n",
    "            joblib.dump(y_cc_train_pred,y_cc_train_pred_path)\n",
    "            return y_cc_train_pred\n",
    "        else:\n",
    "            #if exists, load prediction\n",
    "            y_cc_train_pred = joblib.load(y_cc_train_pred_path)\n",
    "            return y_cc_train_pred\n",
    "    else:\n",
    "        #check if prediction exists\n",
    "        y_cc_train_pred_path_final = Path(f'saved_models_final/{model_nm}/y_train_copy_pred_{model_nm}_final.sav')\n",
    "        try:\n",
    "            y_cc_train_pred_path_final.resolve(strict=True)\n",
    "        except FileNotFoundError:\n",
    "            #cross validation 10 folds\n",
    "            y_cc_train_pred_final = cross_val_predict(model_trn,X_train,y_train,cv=10,n_jobs=-1)\n",
    "            #save prediction\n",
    "            joblib.dump(y_cc_train_pred_final,y_cc_train_pred_path_final)\n",
    "            return y_cc_train_pred_final\n",
    "        else:\n",
    "            # if exists, load prediction\n",
    "            y_cc_train_pred_final = joblib.load(y_cc_train_pred_path_final)\n",
    "            return y_cc_train_pred_final"
   ]
  },
  {
   "cell_type": "code",
   "execution_count": 61,
   "id": "29fea2cd",
   "metadata": {},
   "outputs": [],
   "source": [
    "def score_func(model_trn, model_nm, final_model = False):\n",
    "    if final_model == False:\n",
    "        class_report = classification_report(y_train, y_prediction_func(model_trn, model_nm))\n",
    "        print(class_report)\n",
    "    else:\n",
    "        class_report_final = classification_report(y_train, y_prediction_func(model_trn, model_nm, final_model=False))\n",
    "        print(class_report_final)\n"
   ]
  },
  {
   "cell_type": "code",
   "execution_count": 62,
   "id": "f2fed547",
   "metadata": {},
   "outputs": [],
   "source": [
    "def confusion_matrix_func(model_trn, model_nm, final_model = False):\n",
    "    if final_model == False:\n",
    "        fix,ax = plt.subplots(figsize= (8,8))\n",
    "        \n",
    "        conf_mat = ConfusionMatrixDisplay.from_predictions(y_train,y_prediction_func(model_trn,model_nm),ax=ax,cmap='Blues')\n",
    "        plt.grid(visible=None)\n",
    "        plt.xlabel('Predicted label', fontsize = 14)\n",
    "        plt.ylabel('True label', fontsize = 14)\n",
    "        \n",
    "        plt.title('Confusion Matrix', fontsize=14)\n",
    "        plt.show()\n",
    "        print('\\n')\n",
    "    else:\n",
    "        fix,ax = plt.subplots(figsize= (8,8))\n",
    "        \n",
    "        conf_mat_final = ConfusionMatrixDisplay.from_predictions(y_train,y_prediction_func(model_trn,model_nm,final_model=True),ax=ax,cmap='Blues')\n",
    "        plt.grid(visible=None)\n",
    "        plt.xlabel('Predicted label', fontsize = 14)\n",
    "        plt.ylabel('True label', fontsize = 14)\n",
    "        \n",
    "        plt.title('Confusion Matrix', fontsize=14)\n",
    "        plt.show()\n",
    "        print('\\n')\n",
    "        "
   ]
  },
  {
   "cell_type": "code",
   "execution_count": 63,
   "id": "46332328",
   "metadata": {},
   "outputs": [],
   "source": [
    "#plot ROC Curve\n",
    "def roc_curve_func(model_trn,model_nm, final_model=False):\n",
    "    if final_model == False:\n",
    "        #if probability file not exist, create it\n",
    "        y_prob_path = Path(f'saved_models/{model_nm}/y_cc_train_proba_{model_nm}.sav')\n",
    "        try:\n",
    "            y_prob_path.resolve(strict=True)\n",
    "        except FileNotFoundError:\n",
    "\n",
    "            y_cc_train_proba = model_trn.predict_proba(X_train)\n",
    "            joblib.dump(y_cc_train_proba,y_prob_path)\n",
    "        else:\n",
    "            #if path exists, load file\n",
    "            y_cc_train_proba = joblib.load(y_prob_path)\n",
    "        skplt.metrics.plot_roc(y_train,y_cc_train_proba, title = f'ROC Curve for {model_nm}', cmap = 'cool', figsize=(8,8))\n",
    "        plt.grid(visible=None)\n",
    "        plt.show()\n",
    "        print('\\n')\n",
    "    else:\n",
    "        y_prob_path_final = Path(f'saved_models/{model_nm}/y_cc_train_proba_{model_nm}_final.sav')\n",
    "        try:\n",
    "            y_prob_path_final.resolve(strict=True)\n",
    "        except FileNotFoundError:\n",
    "\n",
    "            y_cc_train_proba_final = model_trn.predict_proba(X_train)\n",
    "            joblib.dump(y_cc_train_proba_final,y_prob_path_final)\n",
    "        else:\n",
    "            #if path exists, load file\n",
    "            y_cc_train_proba_final = joblib.load(y_prob_path_final)\n",
    "        skplt.metrics.plot_roc(y_train,y_cc_train_proba_final, title = f'ROC Curve for {model_nm}', cmap = 'cool', figsize=(8,8))\n",
    "        plt.grid(visible=None)\n",
    "        plt.show()\n",
    "        print('\\n')"
   ]
  },
  {
   "cell_type": "code",
   "execution_count": 64,
   "id": "1a60b4f6",
   "metadata": {},
   "outputs": [],
   "source": [
    "def train_model(model, model_nm,X_train,y_train, final_model=False):\n",
    "    if final_model == False:\n",
    "        model_file_path = Path('saved_models/{}/{}_model.sav'.format(model_nm,model_nm))\n",
    "        try:\n",
    "            model_file_path.resolve(strict=True)\n",
    "        except FileNotFoundError:\n",
    "            if model_nm == 'sgd':\n",
    "                calibrated_model = CalibratedClassifierCV(model, cv=10, method = 'sigmoid')\n",
    "                model_trn = calibrated_model.fit(X_train,y_train)\n",
    "            else:\n",
    "                model_trn = model.fit(X_train,y_train)\n",
    "            joblib.dump(model_trn, model_file_path)\n",
    "            #plot the most and least features \n",
    "            return model_trn\n",
    "        else:\n",
    "            model_trn = joblib.load(model_file_path)\n",
    "            return model_trn\n",
    "            \n",
    "            \n",
    "    else:\n",
    "        # if the final model file exist and if not create, train and save\n",
    "        final_model_file_path = Path('saved_models/{}/{}_model.sav'.format(model_nm,model_nm))\n",
    "        try:\n",
    "            final_model_file_path.resolve(strict=True)\n",
    "        except FileNotFoundError:\n",
    "            model_trn = model.fit(X_train,y_train)\n",
    "            joblib.dump(model_trn, final_model_file_path)\n",
    "            \n",
    "            return model_trn\n",
    "        else:\n",
    "            model_trn = joblib.load(final_model_file_path)\n",
    "            return model_trn"
   ]
  },
  {
   "cell_type": "code",
   "execution_count": 65,
   "id": "507824ae",
   "metadata": {},
   "outputs": [],
   "source": [
    "def folder_check_model():\n",
    "    #check if the folder for saved model exist if not, create it\n",
    "    if not os.path.exists('saved_models/{}'.format(model_nm)):\n",
    "        os.makedirs('saved_models/{}'.format(model_nm))"
   ]
  },
  {
   "cell_type": "code",
   "execution_count": 66,
   "id": "d586cf06",
   "metadata": {},
   "outputs": [
    {
     "name": "stdout",
     "output_type": "stream",
     "text": [
      "\n",
      "\n",
      "---------------------   sgd   ---------------------\n",
      "\n",
      "\n",
      "              precision    recall  f1-score   support\n",
      "\n",
      "           0       0.83      0.96      0.89     28393\n",
      "           1       0.95      0.80      0.87     28475\n",
      "\n",
      "    accuracy                           0.88     56868\n",
      "   macro avg       0.89      0.88      0.88     56868\n",
      "weighted avg       0.89      0.88      0.88     56868\n",
      "\n"
     ]
    },
    {
     "data": {
      "image/png": "[encoded data removed]",
      "text/plain": [
       "<Figure size 576x576 with 2 Axes>"
      ]
     },
     "metadata": {},
     "output_type": "display_data"
    },
    {
     "name": "stdout",
     "output_type": "stream",
     "text": [
      "\n",
      "\n",
      "No feature importance for sgd\n",
      "\n",
      "\n",
      "\n",
      "\n",
      "---------------------   logistic_regression   ---------------------\n",
      "\n",
      "\n",
      "              precision    recall  f1-score   support\n",
      "\n",
      "           0       0.84      0.94      0.89     28393\n",
      "           1       0.93      0.82      0.87     28475\n",
      "\n",
      "    accuracy                           0.88     56868\n",
      "   macro avg       0.88      0.88      0.88     56868\n",
      "weighted avg       0.88      0.88      0.88     56868\n",
      "\n"
     ]
    },
    {
     "data": {
      "image/png": "[encoded data removed]",
      "text/plain": [
       "<Figure size 576x576 with 2 Axes>"
      ]
     },
     "metadata": {},
     "output_type": "display_data"
    },
    {
     "name": "stdout",
     "output_type": "stream",
     "text": [
      "\n",
      "\n"
     ]
    },
    {
     "data": {
      "image/png": "[encoded data removed]",
      "text/plain": [
       "<Figure size 720x288 with 1 Axes>"
      ]
     },
     "metadata": {},
     "output_type": "display_data"
    },
    {
     "name": "stdout",
     "output_type": "stream",
     "text": [
      "\n",
      "\n",
      "------------------------------------------------------------\n",
      "\n",
      "\n",
      "\n",
      "\n",
      "---------------------   support_vector_machine   ---------------------\n",
      "\n",
      "\n"
     ]
    },
    {
     "name": "stderr",
     "output_type": "stream",
     "text": [
      "/Users/peeti_mac/opt/anaconda3/lib/python3.9/site-packages/sklearn/utils/validation.py:993: DataConversionWarning: A column-vector y was passed when a 1d array was expected. Please change the shape of y to (n_samples, ), for example using ravel().\n",
      "  y = column_or_1d(y, warn=True)\n",
      "/Users/peeti_mac/opt/anaconda3/lib/python3.9/site-packages/sklearn/utils/validation.py:993: DataConversionWarning: A column-vector y was passed when a 1d array was expected. Please change the shape of y to (n_samples, ), for example using ravel().\n",
      "  y = column_or_1d(y, warn=True)\n",
      "/Users/peeti_mac/opt/anaconda3/lib/python3.9/site-packages/sklearn/utils/validation.py:993: DataConversionWarning: A column-vector y was passed when a 1d array was expected. Please change the shape of y to (n_samples, ), for example using ravel().\n",
      "  y = column_or_1d(y, warn=True)\n",
      "/Users/peeti_mac/opt/anaconda3/lib/python3.9/site-packages/sklearn/utils/validation.py:993: DataConversionWarning: A column-vector y was passed when a 1d array was expected. Please change the shape of y to (n_samples, ), for example using ravel().\n",
      "  y = column_or_1d(y, warn=True)\n",
      "/Users/peeti_mac/opt/anaconda3/lib/python3.9/site-packages/sklearn/utils/validation.py:993: DataConversionWarning: A column-vector y was passed when a 1d array was expected. Please change the shape of y to (n_samples, ), for example using ravel().\n",
      "  y = column_or_1d(y, warn=True)\n",
      "/Users/peeti_mac/opt/anaconda3/lib/python3.9/site-packages/sklearn/utils/validation.py:993: DataConversionWarning: A column-vector y was passed when a 1d array was expected. Please change the shape of y to (n_samples, ), for example using ravel().\n",
      "  y = column_or_1d(y, warn=True)\n",
      "/Users/peeti_mac/opt/anaconda3/lib/python3.9/site-packages/sklearn/utils/validation.py:993: DataConversionWarning: A column-vector y was passed when a 1d array was expected. Please change the shape of y to (n_samples, ), for example using ravel().\n",
      "  y = column_or_1d(y, warn=True)\n",
      "/Users/peeti_mac/opt/anaconda3/lib/python3.9/site-packages/sklearn/utils/validation.py:993: DataConversionWarning: A column-vector y was passed when a 1d array was expected. Please change the shape of y to (n_samples, ), for example using ravel().\n",
      "  y = column_or_1d(y, warn=True)\n",
      "/Users/peeti_mac/opt/anaconda3/lib/python3.9/site-packages/sklearn/utils/validation.py:993: DataConversionWarning: A column-vector y was passed when a 1d array was expected. Please change the shape of y to (n_samples, ), for example using ravel().\n",
      "  y = column_or_1d(y, warn=True)\n",
      "/Users/peeti_mac/opt/anaconda3/lib/python3.9/site-packages/sklearn/utils/validation.py:993: DataConversionWarning: A column-vector y was passed when a 1d array was expected. Please change the shape of y to (n_samples, ), for example using ravel().\n",
      "  y = column_or_1d(y, warn=True)\n"
     ]
    },
    {
     "name": "stdout",
     "output_type": "stream",
     "text": [
      "              precision    recall  f1-score   support\n",
      "\n",
      "           0       0.83      0.86      0.85     28393\n",
      "           1       0.86      0.83      0.84     28475\n",
      "\n",
      "    accuracy                           0.84     56868\n",
      "   macro avg       0.85      0.84      0.84     56868\n",
      "weighted avg       0.85      0.84      0.84     56868\n",
      "\n"
     ]
    },
    {
     "data": {
      "image/png": "[encoded data removed]",
      "text/plain": [
       "<Figure size 720x288 with 1 Axes>"
      ]
     },
     "metadata": {},
     "output_type": "display_data"
    },
    {
     "data": {
      "image/png": "[encoded data removed]",
      "text/plain": [
       "<Figure size 576x576 with 2 Axes>"
      ]
     },
     "metadata": {},
     "output_type": "display_data"
    },
    {
     "name": "stdout",
     "output_type": "stream",
     "text": [
      "\n",
      "\n",
      "No feature importance for support_vector_machine\n",
      "\n",
      "\n",
      "\n",
      "\n",
      "---------------------   decision_tree   ---------------------\n",
      "\n",
      "\n",
      "              precision    recall  f1-score   support\n",
      "\n",
      "           0       0.98      0.98      0.98     28393\n",
      "           1       0.98      0.98      0.98     28475\n",
      "\n",
      "    accuracy                           0.98     56868\n",
      "   macro avg       0.98      0.98      0.98     56868\n",
      "weighted avg       0.98      0.98      0.98     56868\n",
      "\n"
     ]
    },
    {
     "data": {
      "image/png": "[encoded data removed]",
      "text/plain": [
       "<Figure size 576x576 with 2 Axes>"
      ]
     },
     "metadata": {},
     "output_type": "display_data"
    },
    {
     "name": "stdout",
     "output_type": "stream",
     "text": [
      "\n",
      "\n"
     ]
    },
    {
     "data": {
      "image/png": "[encoded data removed]",
      "text/plain": [
       "<Figure size 720x288 with 1 Axes>"
      ]
     },
     "metadata": {},
     "output_type": "display_data"
    },
    {
     "name": "stdout",
     "output_type": "stream",
     "text": [
      "\n",
      "\n",
      "------------------------------------------------------------\n",
      "\n",
      "\n",
      "\n",
      "\n",
      "---------------------   random_forest   ---------------------\n",
      "\n",
      "\n"
     ]
    },
    {
     "name": "stderr",
     "output_type": "stream",
     "text": [
      "/Users/peeti_mac/opt/anaconda3/lib/python3.9/site-packages/sklearn/model_selection/_validation.py:1044: DataConversionWarning: A column-vector y was passed when a 1d array was expected. Please change the shape of y to (n_samples,), for example using ravel().\n",
      "  estimator.fit(X_train, y_train, **fit_params)\n",
      "/Users/peeti_mac/opt/anaconda3/lib/python3.9/site-packages/sklearn/model_selection/_validation.py:1044: DataConversionWarning: A column-vector y was passed when a 1d array was expected. Please change the shape of y to (n_samples,), for example using ravel().\n",
      "  estimator.fit(X_train, y_train, **fit_params)\n",
      "/Users/peeti_mac/opt/anaconda3/lib/python3.9/site-packages/sklearn/model_selection/_validation.py:1044: DataConversionWarning: A column-vector y was passed when a 1d array was expected. Please change the shape of y to (n_samples,), for example using ravel().\n",
      "  estimator.fit(X_train, y_train, **fit_params)\n",
      "/Users/peeti_mac/opt/anaconda3/lib/python3.9/site-packages/sklearn/model_selection/_validation.py:1044: DataConversionWarning: A column-vector y was passed when a 1d array was expected. Please change the shape of y to (n_samples,), for example using ravel().\n",
      "  estimator.fit(X_train, y_train, **fit_params)\n",
      "/Users/peeti_mac/opt/anaconda3/lib/python3.9/site-packages/sklearn/model_selection/_validation.py:1044: DataConversionWarning: A column-vector y was passed when a 1d array was expected. Please change the shape of y to (n_samples,), for example using ravel().\n",
      "  estimator.fit(X_train, y_train, **fit_params)\n",
      "/Users/peeti_mac/opt/anaconda3/lib/python3.9/site-packages/sklearn/model_selection/_validation.py:1044: DataConversionWarning: A column-vector y was passed when a 1d array was expected. Please change the shape of y to (n_samples,), for example using ravel().\n",
      "  estimator.fit(X_train, y_train, **fit_params)\n",
      "/Users/peeti_mac/opt/anaconda3/lib/python3.9/site-packages/sklearn/model_selection/_validation.py:1044: DataConversionWarning: A column-vector y was passed when a 1d array was expected. Please change the shape of y to (n_samples,), for example using ravel().\n",
      "  estimator.fit(X_train, y_train, **fit_params)\n",
      "/Users/peeti_mac/opt/anaconda3/lib/python3.9/site-packages/sklearn/model_selection/_validation.py:1044: DataConversionWarning: A column-vector y was passed when a 1d array was expected. Please change the shape of y to (n_samples,), for example using ravel().\n",
      "  estimator.fit(X_train, y_train, **fit_params)\n",
      "/Users/peeti_mac/opt/anaconda3/lib/python3.9/site-packages/sklearn/model_selection/_validation.py:1044: DataConversionWarning: A column-vector y was passed when a 1d array was expected. Please change the shape of y to (n_samples,), for example using ravel().\n",
      "  estimator.fit(X_train, y_train, **fit_params)\n",
      "/Users/peeti_mac/opt/anaconda3/lib/python3.9/site-packages/sklearn/model_selection/_validation.py:1044: DataConversionWarning: A column-vector y was passed when a 1d array was expected. Please change the shape of y to (n_samples,), for example using ravel().\n",
      "  estimator.fit(X_train, y_train, **fit_params)\n"
     ]
    },
    {
     "name": "stdout",
     "output_type": "stream",
     "text": [
      "              precision    recall  f1-score   support\n",
      "\n",
      "           0       0.99      0.99      0.99     28393\n",
      "           1       0.99      0.99      0.99     28475\n",
      "\n",
      "    accuracy                           0.99     56868\n",
      "   macro avg       0.99      0.99      0.99     56868\n",
      "weighted avg       0.99      0.99      0.99     56868\n",
      "\n"
     ]
    },
    {
     "data": {
      "image/png": "[encoded data removed]",
      "text/plain": [
       "<Figure size 720x288 with 1 Axes>"
      ]
     },
     "metadata": {},
     "output_type": "display_data"
    },
    {
     "data": {
      "image/png": "[encoded data removed]",
      "text/plain": [
       "<Figure size 576x576 with 2 Axes>"
      ]
     },
     "metadata": {},
     "output_type": "display_data"
    },
    {
     "name": "stdout",
     "output_type": "stream",
     "text": [
      "\n",
      "\n"
     ]
    },
    {
     "data": {
      "image/png": "[encoded data removed]",
      "text/plain": [
       "<Figure size 720x288 with 1 Axes>"
      ]
     },
     "metadata": {},
     "output_type": "display_data"
    },
    {
     "name": "stdout",
     "output_type": "stream",
     "text": [
      "\n",
      "\n",
      "------------------------------------------------------------\n",
      "\n",
      "\n",
      "\n",
      "\n",
      "---------------------   gaussian_naive_bayes   ---------------------\n",
      "\n",
      "\n"
     ]
    },
    {
     "name": "stderr",
     "output_type": "stream",
     "text": [
      "/Users/peeti_mac/opt/anaconda3/lib/python3.9/site-packages/sklearn/utils/validation.py:993: DataConversionWarning: A column-vector y was passed when a 1d array was expected. Please change the shape of y to (n_samples, ), for example using ravel().\n",
      "  y = column_or_1d(y, warn=True)\n",
      "/Users/peeti_mac/opt/anaconda3/lib/python3.9/site-packages/sklearn/utils/validation.py:993: DataConversionWarning: A column-vector y was passed when a 1d array was expected. Please change the shape of y to (n_samples, ), for example using ravel().\n",
      "  y = column_or_1d(y, warn=True)\n",
      "/Users/peeti_mac/opt/anaconda3/lib/python3.9/site-packages/sklearn/utils/validation.py:993: DataConversionWarning: A column-vector y was passed when a 1d array was expected. Please change the shape of y to (n_samples, ), for example using ravel().\n",
      "  y = column_or_1d(y, warn=True)\n",
      "/Users/peeti_mac/opt/anaconda3/lib/python3.9/site-packages/sklearn/utils/validation.py:993: DataConversionWarning: A column-vector y was passed when a 1d array was expected. Please change the shape of y to (n_samples, ), for example using ravel().\n",
      "  y = column_or_1d(y, warn=True)\n",
      "/Users/peeti_mac/opt/anaconda3/lib/python3.9/site-packages/sklearn/utils/validation.py:993: DataConversionWarning: A column-vector y was passed when a 1d array was expected. Please change the shape of y to (n_samples, ), for example using ravel().\n",
      "  y = column_or_1d(y, warn=True)\n",
      "/Users/peeti_mac/opt/anaconda3/lib/python3.9/site-packages/sklearn/utils/validation.py:993: DataConversionWarning: A column-vector y was passed when a 1d array was expected. Please change the shape of y to (n_samples, ), for example using ravel().\n",
      "  y = column_or_1d(y, warn=True)\n",
      "/Users/peeti_mac/opt/anaconda3/lib/python3.9/site-packages/sklearn/utils/validation.py:993: DataConversionWarning: A column-vector y was passed when a 1d array was expected. Please change the shape of y to (n_samples, ), for example using ravel().\n",
      "  y = column_or_1d(y, warn=True)\n",
      "/Users/peeti_mac/opt/anaconda3/lib/python3.9/site-packages/sklearn/utils/validation.py:993: DataConversionWarning: A column-vector y was passed when a 1d array was expected. Please change the shape of y to (n_samples, ), for example using ravel().\n",
      "  y = column_or_1d(y, warn=True)\n",
      "/Users/peeti_mac/opt/anaconda3/lib/python3.9/site-packages/sklearn/utils/validation.py:993: DataConversionWarning: A column-vector y was passed when a 1d array was expected. Please change the shape of y to (n_samples, ), for example using ravel().\n",
      "  y = column_or_1d(y, warn=True)\n",
      "/Users/peeti_mac/opt/anaconda3/lib/python3.9/site-packages/sklearn/utils/validation.py:993: DataConversionWarning: A column-vector y was passed when a 1d array was expected. Please change the shape of y to (n_samples, ), for example using ravel().\n",
      "  y = column_or_1d(y, warn=True)\n"
     ]
    },
    {
     "name": "stdout",
     "output_type": "stream",
     "text": [
      "              precision    recall  f1-score   support\n",
      "\n",
      "           0       0.84      0.35      0.50     28393\n",
      "           1       0.59      0.93      0.72     28475\n",
      "\n",
      "    accuracy                           0.64     56868\n",
      "   macro avg       0.71      0.64      0.61     56868\n",
      "weighted avg       0.71      0.64      0.61     56868\n",
      "\n"
     ]
    },
    {
     "data": {
      "image/png": "[encoded data removed]",
      "text/plain": [
       "<Figure size 720x288 with 1 Axes>"
      ]
     },
     "metadata": {},
     "output_type": "display_data"
    },
    {
     "data": {
      "image/png": "[encoded data removed]",
      "text/plain": [
       "<Figure size 576x576 with 2 Axes>"
      ]
     },
     "metadata": {},
     "output_type": "display_data"
    },
    {
     "name": "stdout",
     "output_type": "stream",
     "text": [
      "\n",
      "\n",
      "No feature importance for gaussian_naive_bayes\n",
      "\n",
      "\n",
      "\n",
      "\n",
      "---------------------   gradient_boosting   ---------------------\n",
      "\n",
      "\n"
     ]
    },
    {
     "name": "stderr",
     "output_type": "stream",
     "text": [
      "/Users/peeti_mac/opt/anaconda3/lib/python3.9/site-packages/sklearn/ensemble/_gb.py:494: DataConversionWarning: A column-vector y was passed when a 1d array was expected. Please change the shape of y to (n_samples, ), for example using ravel().\n",
      "  y = column_or_1d(y, warn=True)\n",
      "/Users/peeti_mac/opt/anaconda3/lib/python3.9/site-packages/sklearn/ensemble/_gb.py:494: DataConversionWarning: A column-vector y was passed when a 1d array was expected. Please change the shape of y to (n_samples, ), for example using ravel().\n",
      "  y = column_or_1d(y, warn=True)\n",
      "/Users/peeti_mac/opt/anaconda3/lib/python3.9/site-packages/sklearn/ensemble/_gb.py:494: DataConversionWarning: A column-vector y was passed when a 1d array was expected. Please change the shape of y to (n_samples, ), for example using ravel().\n",
      "  y = column_or_1d(y, warn=True)\n",
      "/Users/peeti_mac/opt/anaconda3/lib/python3.9/site-packages/sklearn/ensemble/_gb.py:494: DataConversionWarning: A column-vector y was passed when a 1d array was expected. Please change the shape of y to (n_samples, ), for example using ravel().\n",
      "  y = column_or_1d(y, warn=True)\n",
      "/Users/peeti_mac/opt/anaconda3/lib/python3.9/site-packages/sklearn/ensemble/_gb.py:494: DataConversionWarning: A column-vector y was passed when a 1d array was expected. Please change the shape of y to (n_samples, ), for example using ravel().\n",
      "  y = column_or_1d(y, warn=True)\n",
      "/Users/peeti_mac/opt/anaconda3/lib/python3.9/site-packages/sklearn/ensemble/_gb.py:494: DataConversionWarning: A column-vector y was passed when a 1d array was expected. Please change the shape of y to (n_samples, ), for example using ravel().\n",
      "  y = column_or_1d(y, warn=True)\n",
      "/Users/peeti_mac/opt/anaconda3/lib/python3.9/site-packages/sklearn/ensemble/_gb.py:494: DataConversionWarning: A column-vector y was passed when a 1d array was expected. Please change the shape of y to (n_samples, ), for example using ravel().\n",
      "  y = column_or_1d(y, warn=True)\n",
      "/Users/peeti_mac/opt/anaconda3/lib/python3.9/site-packages/sklearn/ensemble/_gb.py:494: DataConversionWarning: A column-vector y was passed when a 1d array was expected. Please change the shape of y to (n_samples, ), for example using ravel().\n",
      "  y = column_or_1d(y, warn=True)\n",
      "/Users/peeti_mac/opt/anaconda3/lib/python3.9/site-packages/sklearn/ensemble/_gb.py:494: DataConversionWarning: A column-vector y was passed when a 1d array was expected. Please change the shape of y to (n_samples, ), for example using ravel().\n",
      "  y = column_or_1d(y, warn=True)\n",
      "/Users/peeti_mac/opt/anaconda3/lib/python3.9/site-packages/sklearn/ensemble/_gb.py:494: DataConversionWarning: A column-vector y was passed when a 1d array was expected. Please change the shape of y to (n_samples, ), for example using ravel().\n",
      "  y = column_or_1d(y, warn=True)\n"
     ]
    },
    {
     "name": "stdout",
     "output_type": "stream",
     "text": [
      "              precision    recall  f1-score   support\n",
      "\n",
      "           0       0.91      0.97      0.94     28393\n",
      "           1       0.97      0.90      0.94     28475\n",
      "\n",
      "    accuracy                           0.94     56868\n",
      "   macro avg       0.94      0.94      0.94     56868\n",
      "weighted avg       0.94      0.94      0.94     56868\n",
      "\n"
     ]
    },
    {
     "data": {
      "image/png": "[encoded data removed]",
      "text/plain": [
       "<Figure size 576x576 with 2 Axes>"
      ]
     },
     "metadata": {},
     "output_type": "display_data"
    },
    {
     "name": "stdout",
     "output_type": "stream",
     "text": [
      "\n",
      "\n"
     ]
    },
    {
     "data": {
      "image/png": "[encoded data removed]",
      "text/plain": [
       "<Figure size 720x288 with 1 Axes>"
      ]
     },
     "metadata": {},
     "output_type": "display_data"
    },
    {
     "name": "stdout",
     "output_type": "stream",
     "text": [
      "\n",
      "\n",
      "------------------------------------------------------------\n",
      "\n",
      "\n",
      "\n",
      "\n",
      "---------------------   bagging   ---------------------\n",
      "\n",
      "\n"
     ]
    },
    {
     "name": "stderr",
     "output_type": "stream",
     "text": [
      "/Users/peeti_mac/opt/anaconda3/lib/python3.9/site-packages/sklearn/ensemble/_bagging.py:719: DataConversionWarning: A column-vector y was passed when a 1d array was expected. Please change the shape of y to (n_samples, ), for example using ravel().\n",
      "  y = column_or_1d(y, warn=True)\n",
      "/Users/peeti_mac/opt/anaconda3/lib/python3.9/site-packages/sklearn/ensemble/_bagging.py:719: DataConversionWarning: A column-vector y was passed when a 1d array was expected. Please change the shape of y to (n_samples, ), for example using ravel().\n",
      "  y = column_or_1d(y, warn=True)\n",
      "/Users/peeti_mac/opt/anaconda3/lib/python3.9/site-packages/sklearn/ensemble/_bagging.py:719: DataConversionWarning: A column-vector y was passed when a 1d array was expected. Please change the shape of y to (n_samples, ), for example using ravel().\n",
      "  y = column_or_1d(y, warn=True)\n",
      "/Users/peeti_mac/opt/anaconda3/lib/python3.9/site-packages/sklearn/ensemble/_bagging.py:719: DataConversionWarning: A column-vector y was passed when a 1d array was expected. Please change the shape of y to (n_samples, ), for example using ravel().\n",
      "  y = column_or_1d(y, warn=True)\n",
      "/Users/peeti_mac/opt/anaconda3/lib/python3.9/site-packages/sklearn/ensemble/_bagging.py:719: DataConversionWarning: A column-vector y was passed when a 1d array was expected. Please change the shape of y to (n_samples, ), for example using ravel().\n",
      "  y = column_or_1d(y, warn=True)\n",
      "/Users/peeti_mac/opt/anaconda3/lib/python3.9/site-packages/sklearn/ensemble/_bagging.py:719: DataConversionWarning: A column-vector y was passed when a 1d array was expected. Please change the shape of y to (n_samples, ), for example using ravel().\n",
      "  y = column_or_1d(y, warn=True)\n",
      "/Users/peeti_mac/opt/anaconda3/lib/python3.9/site-packages/sklearn/ensemble/_bagging.py:719: DataConversionWarning: A column-vector y was passed when a 1d array was expected. Please change the shape of y to (n_samples, ), for example using ravel().\n",
      "  y = column_or_1d(y, warn=True)\n",
      "/Users/peeti_mac/opt/anaconda3/lib/python3.9/site-packages/sklearn/ensemble/_bagging.py:719: DataConversionWarning: A column-vector y was passed when a 1d array was expected. Please change the shape of y to (n_samples, ), for example using ravel().\n",
      "  y = column_or_1d(y, warn=True)\n",
      "/Users/peeti_mac/opt/anaconda3/lib/python3.9/site-packages/sklearn/ensemble/_bagging.py:719: DataConversionWarning: A column-vector y was passed when a 1d array was expected. Please change the shape of y to (n_samples, ), for example using ravel().\n",
      "  y = column_or_1d(y, warn=True)\n",
      "/Users/peeti_mac/opt/anaconda3/lib/python3.9/site-packages/sklearn/ensemble/_bagging.py:719: DataConversionWarning: A column-vector y was passed when a 1d array was expected. Please change the shape of y to (n_samples, ), for example using ravel().\n",
      "  y = column_or_1d(y, warn=True)\n"
     ]
    },
    {
     "name": "stdout",
     "output_type": "stream",
     "text": [
      "              precision    recall  f1-score   support\n",
      "\n",
      "           0       0.98      0.99      0.99     28393\n",
      "           1       0.99      0.98      0.99     28475\n",
      "\n",
      "    accuracy                           0.99     56868\n",
      "   macro avg       0.99      0.99      0.99     56868\n",
      "weighted avg       0.99      0.99      0.99     56868\n",
      "\n"
     ]
    },
    {
     "data": {
      "image/png": "[encoded data removed]",
      "text/plain": [
       "<Figure size 720x288 with 1 Axes>"
      ]
     },
     "metadata": {},
     "output_type": "display_data"
    },
    {
     "data": {
      "image/png": "[encoded data removed]",
      "text/plain": [
       "<Figure size 576x576 with 2 Axes>"
      ]
     },
     "metadata": {},
     "output_type": "display_data"
    },
    {
     "name": "stdout",
     "output_type": "stream",
     "text": [
      "\n",
      "\n",
      "No feature importance for bagging\n",
      "\n",
      "\n",
      "\n",
      "\n",
      "---------------------   adaboost   ---------------------\n",
      "\n",
      "\n"
     ]
    },
    {
     "name": "stderr",
     "output_type": "stream",
     "text": [
      "/Users/peeti_mac/opt/anaconda3/lib/python3.9/site-packages/sklearn/utils/validation.py:993: DataConversionWarning: A column-vector y was passed when a 1d array was expected. Please change the shape of y to (n_samples, ), for example using ravel().\n",
      "  y = column_or_1d(y, warn=True)\n",
      "/Users/peeti_mac/opt/anaconda3/lib/python3.9/site-packages/sklearn/utils/validation.py:993: DataConversionWarning: A column-vector y was passed when a 1d array was expected. Please change the shape of y to (n_samples, ), for example using ravel().\n",
      "  y = column_or_1d(y, warn=True)\n",
      "/Users/peeti_mac/opt/anaconda3/lib/python3.9/site-packages/sklearn/utils/validation.py:993: DataConversionWarning: A column-vector y was passed when a 1d array was expected. Please change the shape of y to (n_samples, ), for example using ravel().\n",
      "  y = column_or_1d(y, warn=True)\n",
      "/Users/peeti_mac/opt/anaconda3/lib/python3.9/site-packages/sklearn/utils/validation.py:993: DataConversionWarning: A column-vector y was passed when a 1d array was expected. Please change the shape of y to (n_samples, ), for example using ravel().\n",
      "  y = column_or_1d(y, warn=True)\n",
      "/Users/peeti_mac/opt/anaconda3/lib/python3.9/site-packages/sklearn/utils/validation.py:993: DataConversionWarning: A column-vector y was passed when a 1d array was expected. Please change the shape of y to (n_samples, ), for example using ravel().\n",
      "  y = column_or_1d(y, warn=True)\n",
      "/Users/peeti_mac/opt/anaconda3/lib/python3.9/site-packages/sklearn/utils/validation.py:993: DataConversionWarning: A column-vector y was passed when a 1d array was expected. Please change the shape of y to (n_samples, ), for example using ravel().\n",
      "  y = column_or_1d(y, warn=True)\n",
      "/Users/peeti_mac/opt/anaconda3/lib/python3.9/site-packages/sklearn/utils/validation.py:993: DataConversionWarning: A column-vector y was passed when a 1d array was expected. Please change the shape of y to (n_samples, ), for example using ravel().\n",
      "  y = column_or_1d(y, warn=True)\n",
      "/Users/peeti_mac/opt/anaconda3/lib/python3.9/site-packages/sklearn/utils/validation.py:993: DataConversionWarning: A column-vector y was passed when a 1d array was expected. Please change the shape of y to (n_samples, ), for example using ravel().\n",
      "  y = column_or_1d(y, warn=True)\n",
      "/Users/peeti_mac/opt/anaconda3/lib/python3.9/site-packages/sklearn/utils/validation.py:993: DataConversionWarning: A column-vector y was passed when a 1d array was expected. Please change the shape of y to (n_samples, ), for example using ravel().\n",
      "  y = column_or_1d(y, warn=True)\n",
      "/Users/peeti_mac/opt/anaconda3/lib/python3.9/site-packages/sklearn/utils/validation.py:993: DataConversionWarning: A column-vector y was passed when a 1d array was expected. Please change the shape of y to (n_samples, ), for example using ravel().\n",
      "  y = column_or_1d(y, warn=True)\n"
     ]
    },
    {
     "name": "stdout",
     "output_type": "stream",
     "text": [
      "              precision    recall  f1-score   support\n",
      "\n",
      "           0       0.89      0.94      0.92     28393\n",
      "           1       0.94      0.89      0.91     28475\n",
      "\n",
      "    accuracy                           0.91     56868\n",
      "   macro avg       0.92      0.91      0.91     56868\n",
      "weighted avg       0.92      0.91      0.91     56868\n",
      "\n"
     ]
    },
    {
     "data": {
      "image/png": "[encoded data removed]",
      "text/plain": [
       "<Figure size 576x576 with 2 Axes>"
      ]
     },
     "metadata": {},
     "output_type": "display_data"
    },
    {
     "name": "stdout",
     "output_type": "stream",
     "text": [
      "\n",
      "\n"
     ]
    },
    {
     "data": {
      "image/png": "[encoded data removed]",
      "text/plain": [
       "<Figure size 720x288 with 1 Axes>"
      ]
     },
     "metadata": {},
     "output_type": "display_data"
    },
    {
     "name": "stdout",
     "output_type": "stream",
     "text": [
      "\n",
      "\n",
      "------------------------------------------------------------\n",
      "\n",
      "\n"
     ]
    },
    {
     "data": {
      "image/png": "[encoded data removed]",
      "text/plain": [
       "<Figure size 720x288 with 1 Axes>"
      ]
     },
     "metadata": {},
     "output_type": "display_data"
    }
   ],
   "source": [
    "from sklearn import metrics\n",
    "\n",
    "for model_nm,model in classifiers.items():\n",
    "    print('\\n')\n",
    "    print('   {}   '.center(50,'-').format(model_nm))\n",
    "    print('\\n')\n",
    "    folder_check_model()\n",
    "    model_trn = train_model(model, model_nm, X_train, y_train)\n",
    "    \n",
    "    \n",
    "    score_func(model_trn, model_nm)\n",
    "#     roc_curve_func(model_trn,model_nm)\n",
    "    \n",
    "    confusion_matrix_func(model_trn,model_nm)\n",
    "    \n",
    "    feat_importance_plot(model_trn, model_nm, X_train, y_train)\n",
    "    \n",
    "    warnings.filterwarnings(\"ignore\")"
   ]
  },
  {
   "cell_type": "code",
   "execution_count": null,
   "id": "0c76fe1a",
   "metadata": {},
   "outputs": [],
   "source": []
  },
  {
   "cell_type": "code",
   "execution_count": null,
   "id": "c5d14221",
   "metadata": {},
   "outputs": [],
   "source": []
  }
 ],
 "metadata": {
  "kernelspec": {
   "display_name": "Python 3 (ipykernel)",
   "language": "python",
   "name": "python3"
  },
  "language_info": {
   "codemirror_mode": {
    "name": "ipython",
    "version": 3
   },
   "file_extension": ".py",
   "mimetype": "text/x-python",
   "name": "python",
   "nbconvert_exporter": "python",
   "pygments_lexer": "ipython3",
   "version": "3.9.7"
  }
 },
 "nbformat": 4,
 "nbformat_minor": 5
}
