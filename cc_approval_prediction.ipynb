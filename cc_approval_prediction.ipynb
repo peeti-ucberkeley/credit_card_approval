{
 "cells": [
  {
   "cell_type": "code",
   "execution_count": 1,
   "id": "19903e81",
   "metadata": {},
   "outputs": [],
   "source": [
    "import numpy as np\n",
    "import pandas as pd\n",
    "import seaborn as sns\n",
    "import matplotlib.pyplot as plt\n",
    "\n",
    "%matplotlib inline"
   ]
  },
  {
   "cell_type": "markdown",
   "id": "3f363736",
   "metadata": {},
   "source": [
    "# Load Data"
   ]
  },
  {
   "cell_type": "code",
   "execution_count": 2,
   "id": "7dce33f1",
   "metadata": {},
   "outputs": [
    {
     "name": "stdout",
     "output_type": "stream",
     "text": [
      "(438557, 18)\n",
      "(1048575, 3)\n"
     ]
    }
   ],
   "source": [
    "full_data = pd.read_csv('dataset/application_record.csv')\n",
    "status_data = pd.read_csv('dataset/credit_record.csv')\n",
    "\n",
    "print(full_data.shape)\n",
    "print(status_data.shape)"
   ]
  },
  {
   "cell_type": "code",
   "execution_count": 3,
   "id": "e39ccec4",
   "metadata": {},
   "outputs": [
    {
     "data": {
      "text/html": [
       "<div>\n",
       "<style scoped>\n",
       "    .dataframe tbody tr th:only-of-type {\n",
       "        vertical-align: middle;\n",
       "    }\n",
       "\n",
       "    .dataframe tbody tr th {\n",
       "        vertical-align: top;\n",
       "    }\n",
       "\n",
       "    .dataframe thead th {\n",
       "        text-align: right;\n",
       "    }\n",
       "</style>\n",
       "<table border=\"1\" class=\"dataframe\">\n",
       "  <thead>\n",
       "    <tr style=\"text-align: right;\">\n",
       "      <th></th>\n",
       "      <th>ID</th>\n",
       "      <th>CODE_GENDER</th>\n",
       "      <th>FLAG_OWN_CAR</th>\n",
       "      <th>FLAG_OWN_REALTY</th>\n",
       "      <th>CNT_CHILDREN</th>\n",
       "      <th>AMT_INCOME_TOTAL</th>\n",
       "      <th>NAME_INCOME_TYPE</th>\n",
       "      <th>NAME_EDUCATION_TYPE</th>\n",
       "      <th>NAME_FAMILY_STATUS</th>\n",
       "      <th>NAME_HOUSING_TYPE</th>\n",
       "      <th>DAYS_BIRTH</th>\n",
       "      <th>DAYS_EMPLOYED</th>\n",
       "      <th>FLAG_MOBIL</th>\n",
       "      <th>FLAG_WORK_PHONE</th>\n",
       "      <th>FLAG_PHONE</th>\n",
       "      <th>FLAG_EMAIL</th>\n",
       "      <th>OCCUPATION_TYPE</th>\n",
       "      <th>CNT_FAM_MEMBERS</th>\n",
       "    </tr>\n",
       "  </thead>\n",
       "  <tbody>\n",
       "    <tr>\n",
       "      <th>0</th>\n",
       "      <td>5008804</td>\n",
       "      <td>M</td>\n",
       "      <td>Y</td>\n",
       "      <td>Y</td>\n",
       "      <td>0</td>\n",
       "      <td>427500.0</td>\n",
       "      <td>Working</td>\n",
       "      <td>Higher education</td>\n",
       "      <td>Civil marriage</td>\n",
       "      <td>Rented apartment</td>\n",
       "      <td>-12005</td>\n",
       "      <td>-4542</td>\n",
       "      <td>1</td>\n",
       "      <td>1</td>\n",
       "      <td>0</td>\n",
       "      <td>0</td>\n",
       "      <td>NaN</td>\n",
       "      <td>2.0</td>\n",
       "    </tr>\n",
       "    <tr>\n",
       "      <th>1</th>\n",
       "      <td>5008805</td>\n",
       "      <td>M</td>\n",
       "      <td>Y</td>\n",
       "      <td>Y</td>\n",
       "      <td>0</td>\n",
       "      <td>427500.0</td>\n",
       "      <td>Working</td>\n",
       "      <td>Higher education</td>\n",
       "      <td>Civil marriage</td>\n",
       "      <td>Rented apartment</td>\n",
       "      <td>-12005</td>\n",
       "      <td>-4542</td>\n",
       "      <td>1</td>\n",
       "      <td>1</td>\n",
       "      <td>0</td>\n",
       "      <td>0</td>\n",
       "      <td>NaN</td>\n",
       "      <td>2.0</td>\n",
       "    </tr>\n",
       "    <tr>\n",
       "      <th>2</th>\n",
       "      <td>5008806</td>\n",
       "      <td>M</td>\n",
       "      <td>Y</td>\n",
       "      <td>Y</td>\n",
       "      <td>0</td>\n",
       "      <td>112500.0</td>\n",
       "      <td>Working</td>\n",
       "      <td>Secondary / secondary special</td>\n",
       "      <td>Married</td>\n",
       "      <td>House / apartment</td>\n",
       "      <td>-21474</td>\n",
       "      <td>-1134</td>\n",
       "      <td>1</td>\n",
       "      <td>0</td>\n",
       "      <td>0</td>\n",
       "      <td>0</td>\n",
       "      <td>Security staff</td>\n",
       "      <td>2.0</td>\n",
       "    </tr>\n",
       "    <tr>\n",
       "      <th>3</th>\n",
       "      <td>5008808</td>\n",
       "      <td>F</td>\n",
       "      <td>N</td>\n",
       "      <td>Y</td>\n",
       "      <td>0</td>\n",
       "      <td>270000.0</td>\n",
       "      <td>Commercial associate</td>\n",
       "      <td>Secondary / secondary special</td>\n",
       "      <td>Single / not married</td>\n",
       "      <td>House / apartment</td>\n",
       "      <td>-19110</td>\n",
       "      <td>-3051</td>\n",
       "      <td>1</td>\n",
       "      <td>0</td>\n",
       "      <td>1</td>\n",
       "      <td>1</td>\n",
       "      <td>Sales staff</td>\n",
       "      <td>1.0</td>\n",
       "    </tr>\n",
       "    <tr>\n",
       "      <th>4</th>\n",
       "      <td>5008809</td>\n",
       "      <td>F</td>\n",
       "      <td>N</td>\n",
       "      <td>Y</td>\n",
       "      <td>0</td>\n",
       "      <td>270000.0</td>\n",
       "      <td>Commercial associate</td>\n",
       "      <td>Secondary / secondary special</td>\n",
       "      <td>Single / not married</td>\n",
       "      <td>House / apartment</td>\n",
       "      <td>-19110</td>\n",
       "      <td>-3051</td>\n",
       "      <td>1</td>\n",
       "      <td>0</td>\n",
       "      <td>1</td>\n",
       "      <td>1</td>\n",
       "      <td>Sales staff</td>\n",
       "      <td>1.0</td>\n",
       "    </tr>\n",
       "  </tbody>\n",
       "</table>\n",
       "</div>"
      ],
      "text/plain": [
       "        ID CODE_GENDER FLAG_OWN_CAR FLAG_OWN_REALTY  CNT_CHILDREN  \\\n",
       "0  5008804           M            Y               Y             0   \n",
       "1  5008805           M            Y               Y             0   \n",
       "2  5008806           M            Y               Y             0   \n",
       "3  5008808           F            N               Y             0   \n",
       "4  5008809           F            N               Y             0   \n",
       "\n",
       "   AMT_INCOME_TOTAL      NAME_INCOME_TYPE            NAME_EDUCATION_TYPE  \\\n",
       "0          427500.0               Working               Higher education   \n",
       "1          427500.0               Working               Higher education   \n",
       "2          112500.0               Working  Secondary / secondary special   \n",
       "3          270000.0  Commercial associate  Secondary / secondary special   \n",
       "4          270000.0  Commercial associate  Secondary / secondary special   \n",
       "\n",
       "     NAME_FAMILY_STATUS  NAME_HOUSING_TYPE  DAYS_BIRTH  DAYS_EMPLOYED  \\\n",
       "0        Civil marriage   Rented apartment      -12005          -4542   \n",
       "1        Civil marriage   Rented apartment      -12005          -4542   \n",
       "2               Married  House / apartment      -21474          -1134   \n",
       "3  Single / not married  House / apartment      -19110          -3051   \n",
       "4  Single / not married  House / apartment      -19110          -3051   \n",
       "\n",
       "   FLAG_MOBIL  FLAG_WORK_PHONE  FLAG_PHONE  FLAG_EMAIL OCCUPATION_TYPE  \\\n",
       "0           1                1           0           0             NaN   \n",
       "1           1                1           0           0             NaN   \n",
       "2           1                0           0           0  Security staff   \n",
       "3           1                0           1           1     Sales staff   \n",
       "4           1                0           1           1     Sales staff   \n",
       "\n",
       "   CNT_FAM_MEMBERS  \n",
       "0              2.0  \n",
       "1              2.0  \n",
       "2              2.0  \n",
       "3              1.0  \n",
       "4              1.0  "
      ]
     },
     "execution_count": 3,
     "metadata": {},
     "output_type": "execute_result"
    }
   ],
   "source": [
    "full_data.head()"
   ]
  },
  {
   "cell_type": "code",
   "execution_count": 4,
   "id": "57d1ee45",
   "metadata": {},
   "outputs": [
    {
     "data": {
      "text/html": [
       "<div>\n",
       "<style scoped>\n",
       "    .dataframe tbody tr th:only-of-type {\n",
       "        vertical-align: middle;\n",
       "    }\n",
       "\n",
       "    .dataframe tbody tr th {\n",
       "        vertical-align: top;\n",
       "    }\n",
       "\n",
       "    .dataframe thead th {\n",
       "        text-align: right;\n",
       "    }\n",
       "</style>\n",
       "<table border=\"1\" class=\"dataframe\">\n",
       "  <thead>\n",
       "    <tr style=\"text-align: right;\">\n",
       "      <th></th>\n",
       "      <th>ID</th>\n",
       "      <th>MONTHS_BALANCE</th>\n",
       "      <th>STATUS</th>\n",
       "    </tr>\n",
       "  </thead>\n",
       "  <tbody>\n",
       "    <tr>\n",
       "      <th>0</th>\n",
       "      <td>5001711</td>\n",
       "      <td>0</td>\n",
       "      <td>X</td>\n",
       "    </tr>\n",
       "    <tr>\n",
       "      <th>1</th>\n",
       "      <td>5001711</td>\n",
       "      <td>-1</td>\n",
       "      <td>0</td>\n",
       "    </tr>\n",
       "    <tr>\n",
       "      <th>2</th>\n",
       "      <td>5001711</td>\n",
       "      <td>-2</td>\n",
       "      <td>0</td>\n",
       "    </tr>\n",
       "    <tr>\n",
       "      <th>3</th>\n",
       "      <td>5001711</td>\n",
       "      <td>-3</td>\n",
       "      <td>0</td>\n",
       "    </tr>\n",
       "    <tr>\n",
       "      <th>4</th>\n",
       "      <td>5001712</td>\n",
       "      <td>0</td>\n",
       "      <td>C</td>\n",
       "    </tr>\n",
       "  </tbody>\n",
       "</table>\n",
       "</div>"
      ],
      "text/plain": [
       "        ID  MONTHS_BALANCE STATUS\n",
       "0  5001711               0      X\n",
       "1  5001711              -1      0\n",
       "2  5001711              -2      0\n",
       "3  5001711              -3      0\n",
       "4  5001712               0      C"
      ]
     },
     "execution_count": 4,
     "metadata": {},
     "output_type": "execute_result"
    }
   ],
   "source": [
    "status_data.head()"
   ]
  },
  {
   "cell_type": "markdown",
   "id": "c8eafb38",
   "metadata": {},
   "source": [
    "**MONTHS_BALANCE**\tRecord month\tThe month of the extracted data is the starting point, backwards, 0 is the current month, -1 is the previous month, and so on\n",
    "\n",
    "<br>\n",
    "\n",
    "**STATUS**\tStatus\t0: 1-29 days past due 1: 30-59 days past due 2: 60-89 days overdue 3: 90-119 days overdue 4: 120-149 days overdue 5: Overdue or bad debts, write-offs for more than 150 days C: paid off that month X: No loan for the month"
   ]
  },
  {
   "cell_type": "markdown",
   "id": "fbce4eda",
   "metadata": {},
   "source": [
    "# Create the target variable"
   ]
  },
  {
   "cell_type": "code",
   "execution_count": 5,
   "id": "4419c64b",
   "metadata": {},
   "outputs": [
    {
     "data": {
      "text/html": [
       "<div>\n",
       "<style scoped>\n",
       "    .dataframe tbody tr th:only-of-type {\n",
       "        vertical-align: middle;\n",
       "    }\n",
       "\n",
       "    .dataframe tbody tr th {\n",
       "        vertical-align: top;\n",
       "    }\n",
       "\n",
       "    .dataframe thead th {\n",
       "        text-align: right;\n",
       "    }\n",
       "</style>\n",
       "<table border=\"1\" class=\"dataframe\">\n",
       "  <thead>\n",
       "    <tr style=\"text-align: right;\">\n",
       "      <th></th>\n",
       "      <th>ID</th>\n",
       "      <th>ACCT_AGE</th>\n",
       "    </tr>\n",
       "  </thead>\n",
       "  <tbody>\n",
       "    <tr>\n",
       "      <th>0</th>\n",
       "      <td>5001711</td>\n",
       "      <td>-3</td>\n",
       "    </tr>\n",
       "    <tr>\n",
       "      <th>1</th>\n",
       "      <td>5001712</td>\n",
       "      <td>-18</td>\n",
       "    </tr>\n",
       "    <tr>\n",
       "      <th>2</th>\n",
       "      <td>5001713</td>\n",
       "      <td>-21</td>\n",
       "    </tr>\n",
       "    <tr>\n",
       "      <th>3</th>\n",
       "      <td>5001714</td>\n",
       "      <td>-14</td>\n",
       "    </tr>\n",
       "    <tr>\n",
       "      <th>4</th>\n",
       "      <td>5001715</td>\n",
       "      <td>-59</td>\n",
       "    </tr>\n",
       "  </tbody>\n",
       "</table>\n",
       "</div>"
      ],
      "text/plain": [
       "        ID  ACCT_AGE\n",
       "0  5001711        -3\n",
       "1  5001712       -18\n",
       "2  5001713       -21\n",
       "3  5001714       -14\n",
       "4  5001715       -59"
      ]
     },
     "execution_count": 5,
     "metadata": {},
     "output_type": "execute_result"
    }
   ],
   "source": [
    "month_begin = status_data.groupby(['ID'])['MONTHS_BALANCE'].min().reset_index()\n",
    "month_begin = month_begin.rename(columns={'MONTHS_BALANCE':'ACCT_AGE'})\n",
    "month_begin.head()"
   ]
  },
  {
   "cell_type": "code",
   "execution_count": 6,
   "id": "1d95972b",
   "metadata": {},
   "outputs": [
    {
     "name": "stdout",
     "output_type": "stream",
     "text": [
      "(438557, 19)\n"
     ]
    },
    {
     "data": {
      "text/html": [
       "<div>\n",
       "<style scoped>\n",
       "    .dataframe tbody tr th:only-of-type {\n",
       "        vertical-align: middle;\n",
       "    }\n",
       "\n",
       "    .dataframe tbody tr th {\n",
       "        vertical-align: top;\n",
       "    }\n",
       "\n",
       "    .dataframe thead th {\n",
       "        text-align: right;\n",
       "    }\n",
       "</style>\n",
       "<table border=\"1\" class=\"dataframe\">\n",
       "  <thead>\n",
       "    <tr style=\"text-align: right;\">\n",
       "      <th></th>\n",
       "      <th>ID</th>\n",
       "      <th>CODE_GENDER</th>\n",
       "      <th>FLAG_OWN_CAR</th>\n",
       "      <th>FLAG_OWN_REALTY</th>\n",
       "      <th>CNT_CHILDREN</th>\n",
       "      <th>AMT_INCOME_TOTAL</th>\n",
       "      <th>NAME_INCOME_TYPE</th>\n",
       "      <th>NAME_EDUCATION_TYPE</th>\n",
       "      <th>NAME_FAMILY_STATUS</th>\n",
       "      <th>NAME_HOUSING_TYPE</th>\n",
       "      <th>DAYS_BIRTH</th>\n",
       "      <th>DAYS_EMPLOYED</th>\n",
       "      <th>FLAG_MOBIL</th>\n",
       "      <th>FLAG_WORK_PHONE</th>\n",
       "      <th>FLAG_PHONE</th>\n",
       "      <th>FLAG_EMAIL</th>\n",
       "      <th>OCCUPATION_TYPE</th>\n",
       "      <th>CNT_FAM_MEMBERS</th>\n",
       "      <th>ACCT_AGE</th>\n",
       "    </tr>\n",
       "  </thead>\n",
       "  <tbody>\n",
       "    <tr>\n",
       "      <th>0</th>\n",
       "      <td>5008804</td>\n",
       "      <td>M</td>\n",
       "      <td>Y</td>\n",
       "      <td>Y</td>\n",
       "      <td>0</td>\n",
       "      <td>427500.0</td>\n",
       "      <td>Working</td>\n",
       "      <td>Higher education</td>\n",
       "      <td>Civil marriage</td>\n",
       "      <td>Rented apartment</td>\n",
       "      <td>-12005</td>\n",
       "      <td>-4542</td>\n",
       "      <td>1</td>\n",
       "      <td>1</td>\n",
       "      <td>0</td>\n",
       "      <td>0</td>\n",
       "      <td>NaN</td>\n",
       "      <td>2.0</td>\n",
       "      <td>-15.0</td>\n",
       "    </tr>\n",
       "    <tr>\n",
       "      <th>1</th>\n",
       "      <td>5008805</td>\n",
       "      <td>M</td>\n",
       "      <td>Y</td>\n",
       "      <td>Y</td>\n",
       "      <td>0</td>\n",
       "      <td>427500.0</td>\n",
       "      <td>Working</td>\n",
       "      <td>Higher education</td>\n",
       "      <td>Civil marriage</td>\n",
       "      <td>Rented apartment</td>\n",
       "      <td>-12005</td>\n",
       "      <td>-4542</td>\n",
       "      <td>1</td>\n",
       "      <td>1</td>\n",
       "      <td>0</td>\n",
       "      <td>0</td>\n",
       "      <td>NaN</td>\n",
       "      <td>2.0</td>\n",
       "      <td>-14.0</td>\n",
       "    </tr>\n",
       "    <tr>\n",
       "      <th>2</th>\n",
       "      <td>5008806</td>\n",
       "      <td>M</td>\n",
       "      <td>Y</td>\n",
       "      <td>Y</td>\n",
       "      <td>0</td>\n",
       "      <td>112500.0</td>\n",
       "      <td>Working</td>\n",
       "      <td>Secondary / secondary special</td>\n",
       "      <td>Married</td>\n",
       "      <td>House / apartment</td>\n",
       "      <td>-21474</td>\n",
       "      <td>-1134</td>\n",
       "      <td>1</td>\n",
       "      <td>0</td>\n",
       "      <td>0</td>\n",
       "      <td>0</td>\n",
       "      <td>Security staff</td>\n",
       "      <td>2.0</td>\n",
       "      <td>-29.0</td>\n",
       "    </tr>\n",
       "    <tr>\n",
       "      <th>3</th>\n",
       "      <td>5008808</td>\n",
       "      <td>F</td>\n",
       "      <td>N</td>\n",
       "      <td>Y</td>\n",
       "      <td>0</td>\n",
       "      <td>270000.0</td>\n",
       "      <td>Commercial associate</td>\n",
       "      <td>Secondary / secondary special</td>\n",
       "      <td>Single / not married</td>\n",
       "      <td>House / apartment</td>\n",
       "      <td>-19110</td>\n",
       "      <td>-3051</td>\n",
       "      <td>1</td>\n",
       "      <td>0</td>\n",
       "      <td>1</td>\n",
       "      <td>1</td>\n",
       "      <td>Sales staff</td>\n",
       "      <td>1.0</td>\n",
       "      <td>-4.0</td>\n",
       "    </tr>\n",
       "    <tr>\n",
       "      <th>4</th>\n",
       "      <td>5008809</td>\n",
       "      <td>F</td>\n",
       "      <td>N</td>\n",
       "      <td>Y</td>\n",
       "      <td>0</td>\n",
       "      <td>270000.0</td>\n",
       "      <td>Commercial associate</td>\n",
       "      <td>Secondary / secondary special</td>\n",
       "      <td>Single / not married</td>\n",
       "      <td>House / apartment</td>\n",
       "      <td>-19110</td>\n",
       "      <td>-3051</td>\n",
       "      <td>1</td>\n",
       "      <td>0</td>\n",
       "      <td>1</td>\n",
       "      <td>1</td>\n",
       "      <td>Sales staff</td>\n",
       "      <td>1.0</td>\n",
       "      <td>-26.0</td>\n",
       "    </tr>\n",
       "  </tbody>\n",
       "</table>\n",
       "</div>"
      ],
      "text/plain": [
       "        ID CODE_GENDER FLAG_OWN_CAR FLAG_OWN_REALTY  CNT_CHILDREN  \\\n",
       "0  5008804           M            Y               Y             0   \n",
       "1  5008805           M            Y               Y             0   \n",
       "2  5008806           M            Y               Y             0   \n",
       "3  5008808           F            N               Y             0   \n",
       "4  5008809           F            N               Y             0   \n",
       "\n",
       "   AMT_INCOME_TOTAL      NAME_INCOME_TYPE            NAME_EDUCATION_TYPE  \\\n",
       "0          427500.0               Working               Higher education   \n",
       "1          427500.0               Working               Higher education   \n",
       "2          112500.0               Working  Secondary / secondary special   \n",
       "3          270000.0  Commercial associate  Secondary / secondary special   \n",
       "4          270000.0  Commercial associate  Secondary / secondary special   \n",
       "\n",
       "     NAME_FAMILY_STATUS  NAME_HOUSING_TYPE  DAYS_BIRTH  DAYS_EMPLOYED  \\\n",
       "0        Civil marriage   Rented apartment      -12005          -4542   \n",
       "1        Civil marriage   Rented apartment      -12005          -4542   \n",
       "2               Married  House / apartment      -21474          -1134   \n",
       "3  Single / not married  House / apartment      -19110          -3051   \n",
       "4  Single / not married  House / apartment      -19110          -3051   \n",
       "\n",
       "   FLAG_MOBIL  FLAG_WORK_PHONE  FLAG_PHONE  FLAG_EMAIL OCCUPATION_TYPE  \\\n",
       "0           1                1           0           0             NaN   \n",
       "1           1                1           0           0             NaN   \n",
       "2           1                0           0           0  Security staff   \n",
       "3           1                0           1           1     Sales staff   \n",
       "4           1                0           1           1     Sales staff   \n",
       "\n",
       "   CNT_FAM_MEMBERS  ACCT_AGE  \n",
       "0              2.0     -15.0  \n",
       "1              2.0     -14.0  \n",
       "2              2.0     -29.0  \n",
       "3              1.0      -4.0  \n",
       "4              1.0     -26.0  "
      ]
     },
     "execution_count": 6,
     "metadata": {},
     "output_type": "execute_result"
    }
   ],
   "source": [
    "full_data_merge_age = full_data.merge(month_begin, on = 'ID', how = 'left')\n",
    "print(full_data_merge_age.shape)\n",
    "full_data_merge_age.head()"
   ]
  },
  {
   "cell_type": "code",
   "execution_count": 7,
   "id": "65d5ef06",
   "metadata": {},
   "outputs": [
    {
     "data": {
      "text/plain": [
       "array(['X', '0', 'C', '1', '2', '3', '4', '5'], dtype=object)"
      ]
     },
     "execution_count": 7,
     "metadata": {},
     "output_type": "execute_result"
    }
   ],
   "source": [
    "status_data.STATUS.unique()"
   ]
  },
  {
   "cell_type": "code",
   "execution_count": 8,
   "id": "8949c266",
   "metadata": {},
   "outputs": [
    {
     "data": {
      "text/plain": [
       "array([None, 'Y'], dtype=object)"
      ]
     },
     "execution_count": 8,
     "metadata": {},
     "output_type": "execute_result"
    }
   ],
   "source": [
    "# if status is not (X or C,0,1), it is past due\n",
    "# if x and c is not high risk else yes\n",
    "\n",
    "status_data['dep_value'] = status_data.STATUS.apply(lambda x: None if x == 'X' or x == 'C' or x == '0' or x == '1'else 'Y')\n",
    "status_data['dep_value'].unique()"
   ]
  },
  {
   "cell_type": "code",
   "execution_count": 9,
   "id": "0537c054",
   "metadata": {},
   "outputs": [
    {
     "data": {
      "text/html": [
       "<div>\n",
       "<style scoped>\n",
       "    .dataframe tbody tr th:only-of-type {\n",
       "        vertical-align: middle;\n",
       "    }\n",
       "\n",
       "    .dataframe tbody tr th {\n",
       "        vertical-align: top;\n",
       "    }\n",
       "\n",
       "    .dataframe thead th {\n",
       "        text-align: right;\n",
       "    }\n",
       "</style>\n",
       "<table border=\"1\" class=\"dataframe\">\n",
       "  <thead>\n",
       "    <tr style=\"text-align: right;\">\n",
       "      <th></th>\n",
       "      <th>ID</th>\n",
       "      <th>MONTHS_BALANCE</th>\n",
       "      <th>STATUS</th>\n",
       "      <th>HIGH_RISK</th>\n",
       "    </tr>\n",
       "  </thead>\n",
       "  <tbody>\n",
       "    <tr>\n",
       "      <th>0</th>\n",
       "      <td>5001711</td>\n",
       "      <td>4</td>\n",
       "      <td>4</td>\n",
       "      <td>0</td>\n",
       "    </tr>\n",
       "    <tr>\n",
       "      <th>1</th>\n",
       "      <td>5001712</td>\n",
       "      <td>19</td>\n",
       "      <td>19</td>\n",
       "      <td>0</td>\n",
       "    </tr>\n",
       "    <tr>\n",
       "      <th>2</th>\n",
       "      <td>5001713</td>\n",
       "      <td>22</td>\n",
       "      <td>22</td>\n",
       "      <td>0</td>\n",
       "    </tr>\n",
       "    <tr>\n",
       "      <th>3</th>\n",
       "      <td>5001714</td>\n",
       "      <td>15</td>\n",
       "      <td>15</td>\n",
       "      <td>0</td>\n",
       "    </tr>\n",
       "    <tr>\n",
       "      <th>4</th>\n",
       "      <td>5001715</td>\n",
       "      <td>60</td>\n",
       "      <td>60</td>\n",
       "      <td>0</td>\n",
       "    </tr>\n",
       "  </tbody>\n",
       "</table>\n",
       "</div>"
      ],
      "text/plain": [
       "        ID  MONTHS_BALANCE  STATUS  HIGH_RISK\n",
       "0  5001711               4       4          0\n",
       "1  5001712              19      19          0\n",
       "2  5001713              22      22          0\n",
       "3  5001714              15      15          0\n",
       "4  5001715              60      60          0"
      ]
     },
     "execution_count": 9,
     "metadata": {},
     "output_type": "execute_result"
    }
   ],
   "source": [
    "target_df = status_data.groupby(['ID']).count().reset_index()\n",
    "target_df = target_df.rename(columns = {'dep_value':'HIGH_RISK'})\n",
    "target_df['HIGH_RISK'] = target_df.HIGH_RISK.apply(lambda x: 0 if x == 0 else 1)\n",
    "target_df.head()\n"
   ]
  },
  {
   "cell_type": "code",
   "execution_count": 10,
   "id": "fd701cb8",
   "metadata": {},
   "outputs": [
    {
     "data": {
      "text/html": [
       "<div>\n",
       "<style scoped>\n",
       "    .dataframe tbody tr th:only-of-type {\n",
       "        vertical-align: middle;\n",
       "    }\n",
       "\n",
       "    .dataframe tbody tr th {\n",
       "        vertical-align: top;\n",
       "    }\n",
       "\n",
       "    .dataframe thead th {\n",
       "        text-align: right;\n",
       "    }\n",
       "</style>\n",
       "<table border=\"1\" class=\"dataframe\">\n",
       "  <thead>\n",
       "    <tr style=\"text-align: right;\">\n",
       "      <th></th>\n",
       "      <th>ID</th>\n",
       "      <th>CODE_GENDER</th>\n",
       "      <th>FLAG_OWN_CAR</th>\n",
       "      <th>FLAG_OWN_REALTY</th>\n",
       "      <th>CNT_CHILDREN</th>\n",
       "      <th>AMT_INCOME_TOTAL</th>\n",
       "      <th>NAME_INCOME_TYPE</th>\n",
       "      <th>NAME_EDUCATION_TYPE</th>\n",
       "      <th>NAME_FAMILY_STATUS</th>\n",
       "      <th>NAME_HOUSING_TYPE</th>\n",
       "      <th>DAYS_BIRTH</th>\n",
       "      <th>DAYS_EMPLOYED</th>\n",
       "      <th>FLAG_MOBIL</th>\n",
       "      <th>FLAG_WORK_PHONE</th>\n",
       "      <th>FLAG_PHONE</th>\n",
       "      <th>FLAG_EMAIL</th>\n",
       "      <th>OCCUPATION_TYPE</th>\n",
       "      <th>CNT_FAM_MEMBERS</th>\n",
       "      <th>ACCT_AGE</th>\n",
       "      <th>HIGH_RISK</th>\n",
       "    </tr>\n",
       "  </thead>\n",
       "  <tbody>\n",
       "    <tr>\n",
       "      <th>0</th>\n",
       "      <td>5008804</td>\n",
       "      <td>M</td>\n",
       "      <td>Y</td>\n",
       "      <td>Y</td>\n",
       "      <td>0</td>\n",
       "      <td>427500.0</td>\n",
       "      <td>Working</td>\n",
       "      <td>Higher education</td>\n",
       "      <td>Civil marriage</td>\n",
       "      <td>Rented apartment</td>\n",
       "      <td>-12005</td>\n",
       "      <td>-4542</td>\n",
       "      <td>1</td>\n",
       "      <td>1</td>\n",
       "      <td>0</td>\n",
       "      <td>0</td>\n",
       "      <td>NaN</td>\n",
       "      <td>2.0</td>\n",
       "      <td>-15.0</td>\n",
       "      <td>0</td>\n",
       "    </tr>\n",
       "    <tr>\n",
       "      <th>1</th>\n",
       "      <td>5008805</td>\n",
       "      <td>M</td>\n",
       "      <td>Y</td>\n",
       "      <td>Y</td>\n",
       "      <td>0</td>\n",
       "      <td>427500.0</td>\n",
       "      <td>Working</td>\n",
       "      <td>Higher education</td>\n",
       "      <td>Civil marriage</td>\n",
       "      <td>Rented apartment</td>\n",
       "      <td>-12005</td>\n",
       "      <td>-4542</td>\n",
       "      <td>1</td>\n",
       "      <td>1</td>\n",
       "      <td>0</td>\n",
       "      <td>0</td>\n",
       "      <td>NaN</td>\n",
       "      <td>2.0</td>\n",
       "      <td>-14.0</td>\n",
       "      <td>0</td>\n",
       "    </tr>\n",
       "    <tr>\n",
       "      <th>2</th>\n",
       "      <td>5008806</td>\n",
       "      <td>M</td>\n",
       "      <td>Y</td>\n",
       "      <td>Y</td>\n",
       "      <td>0</td>\n",
       "      <td>112500.0</td>\n",
       "      <td>Working</td>\n",
       "      <td>Secondary / secondary special</td>\n",
       "      <td>Married</td>\n",
       "      <td>House / apartment</td>\n",
       "      <td>-21474</td>\n",
       "      <td>-1134</td>\n",
       "      <td>1</td>\n",
       "      <td>0</td>\n",
       "      <td>0</td>\n",
       "      <td>0</td>\n",
       "      <td>Security staff</td>\n",
       "      <td>2.0</td>\n",
       "      <td>-29.0</td>\n",
       "      <td>0</td>\n",
       "    </tr>\n",
       "    <tr>\n",
       "      <th>3</th>\n",
       "      <td>5008808</td>\n",
       "      <td>F</td>\n",
       "      <td>N</td>\n",
       "      <td>Y</td>\n",
       "      <td>0</td>\n",
       "      <td>270000.0</td>\n",
       "      <td>Commercial associate</td>\n",
       "      <td>Secondary / secondary special</td>\n",
       "      <td>Single / not married</td>\n",
       "      <td>House / apartment</td>\n",
       "      <td>-19110</td>\n",
       "      <td>-3051</td>\n",
       "      <td>1</td>\n",
       "      <td>0</td>\n",
       "      <td>1</td>\n",
       "      <td>1</td>\n",
       "      <td>Sales staff</td>\n",
       "      <td>1.0</td>\n",
       "      <td>-4.0</td>\n",
       "      <td>0</td>\n",
       "    </tr>\n",
       "    <tr>\n",
       "      <th>4</th>\n",
       "      <td>5008809</td>\n",
       "      <td>F</td>\n",
       "      <td>N</td>\n",
       "      <td>Y</td>\n",
       "      <td>0</td>\n",
       "      <td>270000.0</td>\n",
       "      <td>Commercial associate</td>\n",
       "      <td>Secondary / secondary special</td>\n",
       "      <td>Single / not married</td>\n",
       "      <td>House / apartment</td>\n",
       "      <td>-19110</td>\n",
       "      <td>-3051</td>\n",
       "      <td>1</td>\n",
       "      <td>0</td>\n",
       "      <td>1</td>\n",
       "      <td>1</td>\n",
       "      <td>Sales staff</td>\n",
       "      <td>1.0</td>\n",
       "      <td>-26.0</td>\n",
       "      <td>0</td>\n",
       "    </tr>\n",
       "  </tbody>\n",
       "</table>\n",
       "</div>"
      ],
      "text/plain": [
       "        ID CODE_GENDER FLAG_OWN_CAR FLAG_OWN_REALTY  CNT_CHILDREN  \\\n",
       "0  5008804           M            Y               Y             0   \n",
       "1  5008805           M            Y               Y             0   \n",
       "2  5008806           M            Y               Y             0   \n",
       "3  5008808           F            N               Y             0   \n",
       "4  5008809           F            N               Y             0   \n",
       "\n",
       "   AMT_INCOME_TOTAL      NAME_INCOME_TYPE            NAME_EDUCATION_TYPE  \\\n",
       "0          427500.0               Working               Higher education   \n",
       "1          427500.0               Working               Higher education   \n",
       "2          112500.0               Working  Secondary / secondary special   \n",
       "3          270000.0  Commercial associate  Secondary / secondary special   \n",
       "4          270000.0  Commercial associate  Secondary / secondary special   \n",
       "\n",
       "     NAME_FAMILY_STATUS  NAME_HOUSING_TYPE  DAYS_BIRTH  DAYS_EMPLOYED  \\\n",
       "0        Civil marriage   Rented apartment      -12005          -4542   \n",
       "1        Civil marriage   Rented apartment      -12005          -4542   \n",
       "2               Married  House / apartment      -21474          -1134   \n",
       "3  Single / not married  House / apartment      -19110          -3051   \n",
       "4  Single / not married  House / apartment      -19110          -3051   \n",
       "\n",
       "   FLAG_MOBIL  FLAG_WORK_PHONE  FLAG_PHONE  FLAG_EMAIL OCCUPATION_TYPE  \\\n",
       "0           1                1           0           0             NaN   \n",
       "1           1                1           0           0             NaN   \n",
       "2           1                0           0           0  Security staff   \n",
       "3           1                0           1           1     Sales staff   \n",
       "4           1                0           1           1     Sales staff   \n",
       "\n",
       "   CNT_FAM_MEMBERS  ACCT_AGE  HIGH_RISK  \n",
       "0              2.0     -15.0          0  \n",
       "1              2.0     -14.0          0  \n",
       "2              2.0     -29.0          0  \n",
       "3              1.0      -4.0          0  \n",
       "4              1.0     -26.0          0  "
      ]
     },
     "execution_count": 10,
     "metadata": {},
     "output_type": "execute_result"
    }
   ],
   "source": [
    "full_data_merge_age_risk = full_data_merge_age.merge(target_df[['ID','HIGH_RISK']], how = 'inner', on = 'ID')\n",
    "full_data_merge_age_risk.head()"
   ]
  },
  {
   "cell_type": "markdown",
   "id": "b5c9ba8b",
   "metadata": {},
   "source": [
    "# EDA"
   ]
  },
  {
   "cell_type": "code",
   "execution_count": 11,
   "id": "8fa97409",
   "metadata": {},
   "outputs": [
    {
     "data": {
      "text/html": [
       "<div>\n",
       "<style scoped>\n",
       "    .dataframe tbody tr th:only-of-type {\n",
       "        vertical-align: middle;\n",
       "    }\n",
       "\n",
       "    .dataframe tbody tr th {\n",
       "        vertical-align: top;\n",
       "    }\n",
       "\n",
       "    .dataframe thead th {\n",
       "        text-align: right;\n",
       "    }\n",
       "</style>\n",
       "<table border=\"1\" class=\"dataframe\">\n",
       "  <thead>\n",
       "    <tr style=\"text-align: right;\">\n",
       "      <th></th>\n",
       "      <th>CNT_CHILDREN</th>\n",
       "      <th>AMT_INCOME_TOTAL</th>\n",
       "      <th>DAYS_BIRTH</th>\n",
       "      <th>DAYS_EMPLOYED</th>\n",
       "      <th>FLAG_MOBIL</th>\n",
       "      <th>FLAG_WORK_PHONE</th>\n",
       "      <th>FLAG_PHONE</th>\n",
       "      <th>FLAG_EMAIL</th>\n",
       "      <th>CNT_FAM_MEMBERS</th>\n",
       "      <th>ACCT_AGE</th>\n",
       "      <th>HIGH_RISK</th>\n",
       "    </tr>\n",
       "  </thead>\n",
       "  <tbody>\n",
       "    <tr>\n",
       "      <th>count</th>\n",
       "      <td>36457.000000</td>\n",
       "      <td>3.645700e+04</td>\n",
       "      <td>36457.000000</td>\n",
       "      <td>36457.000000</td>\n",
       "      <td>36457.0</td>\n",
       "      <td>36457.000000</td>\n",
       "      <td>36457.000000</td>\n",
       "      <td>36457.000000</td>\n",
       "      <td>36457.000000</td>\n",
       "      <td>36457.000000</td>\n",
       "      <td>36457.000000</td>\n",
       "    </tr>\n",
       "    <tr>\n",
       "      <th>mean</th>\n",
       "      <td>0.430315</td>\n",
       "      <td>1.866857e+05</td>\n",
       "      <td>-15975.173382</td>\n",
       "      <td>59262.935568</td>\n",
       "      <td>1.0</td>\n",
       "      <td>0.225526</td>\n",
       "      <td>0.294813</td>\n",
       "      <td>0.089722</td>\n",
       "      <td>2.198453</td>\n",
       "      <td>-26.164193</td>\n",
       "      <td>0.016897</td>\n",
       "    </tr>\n",
       "    <tr>\n",
       "      <th>std</th>\n",
       "      <td>0.742367</td>\n",
       "      <td>1.017892e+05</td>\n",
       "      <td>4200.549944</td>\n",
       "      <td>137651.334859</td>\n",
       "      <td>0.0</td>\n",
       "      <td>0.417934</td>\n",
       "      <td>0.455965</td>\n",
       "      <td>0.285787</td>\n",
       "      <td>0.911686</td>\n",
       "      <td>16.501854</td>\n",
       "      <td>0.128886</td>\n",
       "    </tr>\n",
       "    <tr>\n",
       "      <th>min</th>\n",
       "      <td>0.000000</td>\n",
       "      <td>2.700000e+04</td>\n",
       "      <td>-25152.000000</td>\n",
       "      <td>-15713.000000</td>\n",
       "      <td>1.0</td>\n",
       "      <td>0.000000</td>\n",
       "      <td>0.000000</td>\n",
       "      <td>0.000000</td>\n",
       "      <td>1.000000</td>\n",
       "      <td>-60.000000</td>\n",
       "      <td>0.000000</td>\n",
       "    </tr>\n",
       "    <tr>\n",
       "      <th>25%</th>\n",
       "      <td>0.000000</td>\n",
       "      <td>1.215000e+05</td>\n",
       "      <td>-19438.000000</td>\n",
       "      <td>-3153.000000</td>\n",
       "      <td>1.0</td>\n",
       "      <td>0.000000</td>\n",
       "      <td>0.000000</td>\n",
       "      <td>0.000000</td>\n",
       "      <td>2.000000</td>\n",
       "      <td>-39.000000</td>\n",
       "      <td>0.000000</td>\n",
       "    </tr>\n",
       "    <tr>\n",
       "      <th>50%</th>\n",
       "      <td>0.000000</td>\n",
       "      <td>1.575000e+05</td>\n",
       "      <td>-15563.000000</td>\n",
       "      <td>-1552.000000</td>\n",
       "      <td>1.0</td>\n",
       "      <td>0.000000</td>\n",
       "      <td>0.000000</td>\n",
       "      <td>0.000000</td>\n",
       "      <td>2.000000</td>\n",
       "      <td>-24.000000</td>\n",
       "      <td>0.000000</td>\n",
       "    </tr>\n",
       "    <tr>\n",
       "      <th>75%</th>\n",
       "      <td>1.000000</td>\n",
       "      <td>2.250000e+05</td>\n",
       "      <td>-12462.000000</td>\n",
       "      <td>-408.000000</td>\n",
       "      <td>1.0</td>\n",
       "      <td>0.000000</td>\n",
       "      <td>1.000000</td>\n",
       "      <td>0.000000</td>\n",
       "      <td>3.000000</td>\n",
       "      <td>-12.000000</td>\n",
       "      <td>0.000000</td>\n",
       "    </tr>\n",
       "    <tr>\n",
       "      <th>max</th>\n",
       "      <td>19.000000</td>\n",
       "      <td>1.575000e+06</td>\n",
       "      <td>-7489.000000</td>\n",
       "      <td>365243.000000</td>\n",
       "      <td>1.0</td>\n",
       "      <td>1.000000</td>\n",
       "      <td>1.000000</td>\n",
       "      <td>1.000000</td>\n",
       "      <td>20.000000</td>\n",
       "      <td>0.000000</td>\n",
       "      <td>1.000000</td>\n",
       "    </tr>\n",
       "  </tbody>\n",
       "</table>\n",
       "</div>"
      ],
      "text/plain": [
       "       CNT_CHILDREN  AMT_INCOME_TOTAL    DAYS_BIRTH  DAYS_EMPLOYED  \\\n",
       "count  36457.000000      3.645700e+04  36457.000000   36457.000000   \n",
       "mean       0.430315      1.866857e+05 -15975.173382   59262.935568   \n",
       "std        0.742367      1.017892e+05   4200.549944  137651.334859   \n",
       "min        0.000000      2.700000e+04 -25152.000000  -15713.000000   \n",
       "25%        0.000000      1.215000e+05 -19438.000000   -3153.000000   \n",
       "50%        0.000000      1.575000e+05 -15563.000000   -1552.000000   \n",
       "75%        1.000000      2.250000e+05 -12462.000000    -408.000000   \n",
       "max       19.000000      1.575000e+06  -7489.000000  365243.000000   \n",
       "\n",
       "       FLAG_MOBIL  FLAG_WORK_PHONE    FLAG_PHONE    FLAG_EMAIL  \\\n",
       "count     36457.0     36457.000000  36457.000000  36457.000000   \n",
       "mean          1.0         0.225526      0.294813      0.089722   \n",
       "std           0.0         0.417934      0.455965      0.285787   \n",
       "min           1.0         0.000000      0.000000      0.000000   \n",
       "25%           1.0         0.000000      0.000000      0.000000   \n",
       "50%           1.0         0.000000      0.000000      0.000000   \n",
       "75%           1.0         0.000000      1.000000      0.000000   \n",
       "max           1.0         1.000000      1.000000      1.000000   \n",
       "\n",
       "       CNT_FAM_MEMBERS      ACCT_AGE     HIGH_RISK  \n",
       "count     36457.000000  36457.000000  36457.000000  \n",
       "mean          2.198453    -26.164193      0.016897  \n",
       "std           0.911686     16.501854      0.128886  \n",
       "min           1.000000    -60.000000      0.000000  \n",
       "25%           2.000000    -39.000000      0.000000  \n",
       "50%           2.000000    -24.000000      0.000000  \n",
       "75%           3.000000    -12.000000      0.000000  \n",
       "max          20.000000      0.000000      1.000000  "
      ]
     },
     "execution_count": 11,
     "metadata": {},
     "output_type": "execute_result"
    }
   ],
   "source": [
    "full_data_merge_age_risk.iloc[:,1:].describe()"
   ]
  },
  {
   "cell_type": "markdown",
   "id": "c58fab85",
   "metadata": {},
   "source": [
    "## value counts nd frequency of each observation within a feature"
   ]
  },
  {
   "cell_type": "code",
   "execution_count": 12,
   "id": "b3258cff",
   "metadata": {},
   "outputs": [],
   "source": [
    "def value_cnt_norm(df,feature):\n",
    "    \n",
    "    fv_cnt = df[feature].value_counts()\n",
    "    fv_cnt_norm = df[feature].value_counts(normalize=True)*100\n",
    "    fv_cnt_df = pd.concat([fv_cnt,fv_cnt_norm], axis = 1)\n",
    "\n",
    "    fv_cnt_df.columns = [f'{feature}_CNT','FREQUENCY']\n",
    "    return fv_cnt_df"
   ]
  },
  {
   "cell_type": "code",
   "execution_count": 13,
   "id": "346b0320",
   "metadata": {},
   "outputs": [
    {
     "data": {
      "text/plain": [
       "[   CODE_GENDER_CNT  FREQUENCY\n",
       " F            24430  67.010451\n",
       " M            12027  32.989549,\n",
       "    FLAG_OWN_CAR_CNT  FREQUENCY\n",
       " N             22614   62.02924\n",
       " Y             13843   37.97076,\n",
       "    FLAG_OWN_REALTY_CNT  FREQUENCY\n",
       " Y                24506  67.218915\n",
       " N                11951  32.781085,\n",
       "     CNT_CHILDREN_CNT  FREQUENCY\n",
       " 0              25201  69.125271\n",
       " 1               7492  20.550237\n",
       " 2               3256   8.931069\n",
       " 3                419   1.149299\n",
       " 4                 63   0.172806\n",
       " 5                 20   0.054859\n",
       " 14                 3   0.008229\n",
       " 7                  2   0.005486\n",
       " 19                 1   0.002743,\n",
       "           AMT_INCOME_TOTAL_CNT  FREQUENCY\n",
       " 135000.0                  4309  11.819404\n",
       " 180000.0                  3097   8.494939\n",
       " 157500.0                  3089   8.472996\n",
       " 112500.0                  2956   8.108182\n",
       " 225000.0                  2926   8.025894\n",
       " ...                        ...        ...\n",
       " 177750.0                     1   0.002743\n",
       " 594000.0                     1   0.002743\n",
       " 164250.0                     1   0.002743\n",
       " 124200.0                     1   0.002743\n",
       " 179271.0                     1   0.002743\n",
       " \n",
       " [265 rows x 2 columns],\n",
       "                       NAME_INCOME_TYPE_CNT  FREQUENCY\n",
       " Working                              18819  51.619716\n",
       " Commercial associate                  8490  23.287709\n",
       " Pensioner                             6152  16.874674\n",
       " State servant                         2985   8.187728\n",
       " Student                                 11   0.030173,\n",
       "                                NAME_EDUCATION_TYPE_CNT  FREQUENCY\n",
       " Secondary / secondary special                    24777  67.962257\n",
       " Higher education                                  9864  27.056532\n",
       " Incomplete higher                                 1410   3.867570\n",
       " Lower secondary                                    374   1.025866\n",
       " Academic degree                                     32   0.087775,\n",
       "                       NAME_FAMILY_STATUS_CNT  FREQUENCY\n",
       " Married                                25048  68.705598\n",
       " Single / not married                    4829  13.245742\n",
       " Civil marriage                          2945   8.078010\n",
       " Separated                               2103   5.768440\n",
       " Widow                                   1532   4.202211,\n",
       "                      NAME_HOUSING_TYPE_CNT  FREQUENCY\n",
       " House / apartment                    32548  89.277779\n",
       " With parents                          1776   4.871492\n",
       " Municipal apartment                   1128   3.094056\n",
       " Rented apartment                       575   1.577201\n",
       " Office apartment                       262   0.718655\n",
       " Co-op apartment                        168   0.460817,\n",
       "         DAYS_BIRTH_CNT  FREQUENCY\n",
       " -12676              54   0.148120\n",
       " -15519              54   0.148120\n",
       " -16896              38   0.104232\n",
       " -14667              37   0.101489\n",
       " -15140              32   0.087775\n",
       " ...                ...        ...\n",
       " -16528               1   0.002743\n",
       " -23345               1   0.002743\n",
       " -21672               1   0.002743\n",
       " -14196               1   0.002743\n",
       " -9188                1   0.002743\n",
       " \n",
       " [7183 rows x 2 columns],\n",
       "          DAYS_EMPLOYED_CNT  FREQUENCY\n",
       "  365243               6135  16.828044\n",
       " -401                    78   0.213951\n",
       " -1539                   64   0.175549\n",
       " -200                    63   0.172806\n",
       " -1678                   61   0.167320\n",
       " ...                    ...        ...\n",
       " -4686                    1   0.002743\n",
       " -2160                    1   0.002743\n",
       " -2007                    1   0.002743\n",
       " -758                     1   0.002743\n",
       " -11272                   1   0.002743\n",
       " \n",
       " [3640 rows x 2 columns],\n",
       "    FLAG_MOBIL_CNT  FREQUENCY\n",
       " 1           36457      100.0,\n",
       "    FLAG_WORK_PHONE_CNT  FREQUENCY\n",
       " 0                28235  77.447404\n",
       " 1                 8222  22.552596,\n",
       "    FLAG_PHONE_CNT  FREQUENCY\n",
       " 0           25709  70.518693\n",
       " 1           10748  29.481307,\n",
       "    FLAG_EMAIL_CNT  FREQUENCY\n",
       " 0           33186  91.027786\n",
       " 1            3271   8.972214,\n",
       "                        OCCUPATION_TYPE_CNT  FREQUENCY\n",
       " Laborers                              6211  24.711546\n",
       " Core staff                            3591  14.287419\n",
       " Sales staff                           3485  13.865680\n",
       " Managers                              3012  11.983767\n",
       " Drivers                               2138   8.506406\n",
       " High skill tech staff                 1383   5.502507\n",
       " Accountants                           1241   4.937535\n",
       " Medicine staff                        1207   4.802260\n",
       " Cooking staff                          655   2.606032\n",
       " Security staff                         592   2.355375\n",
       " Cleaning staff                         551   2.192250\n",
       " Private service staff                  344   1.368664\n",
       " Low-skill Laborers                     175   0.696268\n",
       " Waiters/barmen staff                   174   0.692289\n",
       " Secretaries                            151   0.600780\n",
       " HR staff                                85   0.338187\n",
       " Realty agents                           79   0.314315\n",
       " IT staff                                60   0.238720,\n",
       "       CNT_FAM_MEMBERS_CNT  FREQUENCY\n",
       " 2.0                 19463  53.386181\n",
       " 1.0                  6987  19.165044\n",
       " 3.0                  6421  17.612530\n",
       " 4.0                  3106   8.519626\n",
       " 5.0                   397   1.088954\n",
       " 6.0                    58   0.159092\n",
       " 7.0                    19   0.052116\n",
       " 15.0                    3   0.008229\n",
       " 9.0                     2   0.005486\n",
       " 20.0                    1   0.002743,\n",
       "        ACCT_AGE_CNT  FREQUENCY\n",
       " -7.0            889   2.438489\n",
       " -11.0           828   2.271169\n",
       " -6.0            824   2.260197\n",
       " -8.0            820   2.249225\n",
       " -5.0            816   2.238253\n",
       " ...             ...        ...\n",
       " -58.0           333   0.913405\n",
       " -60.0           321   0.880489\n",
       "  0.0            315   0.864032\n",
       " -59.0           307   0.842088\n",
       " -57.0           304   0.833859\n",
       " \n",
       " [61 rows x 2 columns],\n",
       "    HIGH_RISK_CNT  FREQUENCY\n",
       " 0          35841  98.310338\n",
       " 1            616   1.689662]"
      ]
     },
     "execution_count": 13,
     "metadata": {},
     "output_type": "execute_result"
    }
   ],
   "source": [
    "[value_cnt_norm(full_data_merge_age_risk,i) for i in full_data_merge_age_risk.columns if i != 'ID' ]"
   ]
  },
  {
   "cell_type": "markdown",
   "id": "50cd523c",
   "metadata": {},
   "source": [
    "<h1 style=\"color:darkred\">NOTE</h1>\n",
    "\n",
    "<ul>\n",
    "    <li> DAYS_BIRTH\tBirthday\tCount backwards from current day (0), -1 means yesterday</li>\n",
    "    <li>DAYS_EMPLOYED\tStart date of employment\tCount backwards from current day(0). If positive, it means the person currently unemployed.</li>\n",
    " </ul>"
   ]
  },
  {
   "cell_type": "code",
   "execution_count": 14,
   "id": "c551d7b1",
   "metadata": {},
   "outputs": [
    {
     "data": {
      "text/plain": [
       "0    12.435318\n",
       "1    12.435318\n",
       "2     3.104723\n",
       "3     8.353183\n",
       "4     8.353183\n",
       "Name: DAYS_EMPLOYED, dtype: float64"
      ]
     },
     "execution_count": 14,
     "metadata": {},
     "output_type": "execute_result"
    }
   ],
   "source": [
    "full_data_merge_age_risk['DAYS_EMPLOYED'] = full_data_merge_age_risk['DAYS_EMPLOYED'].apply(lambda x: np.abs(x)/365.25 if x < 0 else 0)\n",
    "full_data_merge_age_risk['DAYS_EMPLOYED'].head()"
   ]
  },
  {
   "cell_type": "markdown",
   "id": "3dc0d255",
   "metadata": {},
   "source": [
    "# create an employment distribution but ignore retired and unemployed client"
   ]
  },
  {
   "cell_type": "code",
   "execution_count": 23,
   "id": "69546ebe",
   "metadata": {},
   "outputs": [
    {
     "data": {
      "text/plain": [
       "Text(0.5, 1.0, 'Days Employment Distribution')"
      ]
     },
     "execution_count": 23,
     "metadata": {},
     "output_type": "execute_result"
    },
    {
     "data": {
      "image/png": "[encoded data removed]",
      "text/plain": [
       "<Figure size 1296x720 with 1 Axes>"
      ]
     },
     "metadata": {
      "needs_background": "light"
     },
     "output_type": "display_data"
    }
   ],
   "source": [
    "fig, ax = plt.subplots(figsize=(18,10))\n",
    "sns.histplot(np.abs(full_data_merge_age_risk[full_data_merge_age_risk['DAYS_EMPLOYED'] > 0]['DAYS_EMPLOYED']),bins = 50, kde = True)\n",
    "plt.title('Days Employment Distribution')"
   ]
  },
  {
   "cell_type": "code",
   "execution_count": 30,
   "id": "030b3263",
   "metadata": {},
   "outputs": [
    {
     "data": {
      "image/png": "[encoded data removed]",
      "text/plain": [
       "<Figure size 360x576 with 1 Axes>"
      ]
     },
     "metadata": {
      "needs_background": "light"
     },
     "output_type": "display_data"
    }
   ],
   "source": [
    "fig, ax = plt.subplots(figsize=(5,8))\n",
    "sns.boxplot(y=full_data_merge_age_risk[full_data_merge_age_risk['DAYS_EMPLOYED'] > 0]['DAYS_EMPLOYED'],\\\n",
    "            x=full_data_merge_age_risk[full_data_merge_age_risk['DAYS_EMPLOYED'] > 0]['HIGH_RISK'])\n",
    "plt.xticks(ticks=[0,1], labels=['no','yes'])\n",
    "plt.title('High VS LOW risk group by Day of Employment')\n",
    "plt.show()"
   ]
  },
  {
   "cell_type": "code",
   "execution_count": 31,
   "id": "c9dd4458",
   "metadata": {},
   "outputs": [
    {
     "data": {
      "text/plain": [
       "0    32.867899\n",
       "1    32.867899\n",
       "2    58.792608\n",
       "3    52.320329\n",
       "4    52.320329\n",
       "Name: DAYS_BIRTH, dtype: float64"
      ]
     },
     "execution_count": 31,
     "metadata": {},
     "output_type": "execute_result"
    }
   ],
   "source": [
    "full_data_merge_age_risk['DAYS_BIRTH'] = full_data_merge_age_risk['DAYS_BIRTH'].apply(lambda x: np.abs(x)/365.25)\n",
    "full_data_merge_age_risk['DAYS_BIRTH'].head()"
   ]
  },
  {
   "cell_type": "markdown",
   "id": "727dfa89",
   "metadata": {},
   "source": [
    "# Age"
   ]
  },
  {
   "cell_type": "code",
   "execution_count": 33,
   "id": "d19289bb",
   "metadata": {},
   "outputs": [
    {
     "data": {
      "text/plain": [
       "Text(0.5, 1.0, 'Age Distribution')"
      ]
     },
     "execution_count": 33,
     "metadata": {},
     "output_type": "execute_result"
    },
    {
     "data": {
      "image/png": "[encoded data removed]",
      "text/plain": [
       "<Figure size 1296x720 with 1 Axes>"
      ]
     },
     "metadata": {
      "needs_background": "light"
     },
     "output_type": "display_data"
    }
   ],
   "source": [
    "fig, ax = plt.subplots(figsize=(18,10))\n",
    "sns.histplot(np.abs(full_data_merge_age_risk['DAYS_BIRTH']),bins = 50, kde = True)\n",
    "plt.title('Age Distribution')"
   ]
  },
  {
   "cell_type": "code",
   "execution_count": 35,
   "id": "e39aa2a3",
   "metadata": {},
   "outputs": [
    {
     "data": {
      "image/png": "[encoded data removed]",
      "text/plain": [
       "<Figure size 360x576 with 1 Axes>"
      ]
     },
     "metadata": {
      "needs_background": "light"
     },
     "output_type": "display_data"
    }
   ],
   "source": [
    "fig, ax = plt.subplots(figsize=(5,8))\n",
    "sns.boxplot(y=full_data_merge_age_risk['DAYS_BIRTH'],\\\n",
    "            x=full_data_merge_age_risk['HIGH_RISK'])\n",
    "plt.xticks(ticks=[0,1], labels=['no','yes'])\n",
    "plt.title('High VS LOW risk group by Age')\n",
    "plt.show()"
   ]
  },
  {
   "cell_type": "markdown",
   "id": "3198441f",
   "metadata": {},
   "source": [
    "# Income "
   ]
  },
  {
   "cell_type": "code",
   "execution_count": 38,
   "id": "f82acf84",
   "metadata": {},
   "outputs": [
    {
     "data": {
      "text/plain": [
       "Text(0.5, 1.0, 'Income Distribution')"
      ]
     },
     "execution_count": 38,
     "metadata": {},
     "output_type": "execute_result"
    },
    {
     "data": {
      "image/png": "[encoded data removed]",
      "text/plain": [
       "<Figure size 1296x720 with 1 Axes>"
      ]
     },
     "metadata": {
      "needs_background": "light"
     },
     "output_type": "display_data"
    }
   ],
   "source": [
    "import matplotlib\n",
    "fig, ax = plt.subplots(figsize=(18,10))\n",
    "sns.histplot(np.abs(full_data_merge_age_risk['AMT_INCOME_TOTAL']),bins = 50, kde = True)\n",
    "#scientific notation\n",
    "ax.get_xaxis().set_major_formatter(matplotlib.ticker.FuncFormatter(lambda x, p: format(int(x),',')))\n",
    "plt.title('Income Distribution')"
   ]
  },
  {
   "cell_type": "code",
   "execution_count": 40,
   "id": "8eb2e33b",
   "metadata": {},
   "outputs": [
    {
     "data": {
      "image/png": "[encoded data removed]",
      "text/plain": [
       "<Figure size 360x576 with 1 Axes>"
      ]
     },
     "metadata": {
      "needs_background": "light"
     },
     "output_type": "display_data"
    }
   ],
   "source": [
    "fig, ax = plt.subplots(figsize=(5,8))\n",
    "sns.boxplot(y=full_data_merge_age_risk['AMT_INCOME_TOTAL'],\\\n",
    "            x=full_data_merge_age_risk['HIGH_RISK'])\n",
    "plt.xticks(ticks=[0,1], labels=['no','yes'])\n",
    "ax.get_yaxis().set_major_formatter(matplotlib.ticker.FuncFormatter(lambda x, p: format(int(x),',')))\n",
    "\n",
    "plt.title('High VS LOW risk group by Income')\n",
    "plt.show()"
   ]
  },
  {
   "cell_type": "markdown",
   "id": "7b590611",
   "metadata": {},
   "source": [
    "# account tenture"
   ]
  },
  {
   "cell_type": "code",
   "execution_count": 43,
   "id": "3a9bb93a",
   "metadata": {},
   "outputs": [
    {
     "data": {
      "text/plain": [
       "Text(0.5, 1.0, 'Account Tenture Distribution')"
      ]
     },
     "execution_count": 43,
     "metadata": {},
     "output_type": "execute_result"
    },
    {
     "data": {
      "image/png": "[encoded data removed]",
      "text/plain": [
       "<Figure size 1296x720 with 1 Axes>"
      ]
     },
     "metadata": {
      "needs_background": "light"
     },
     "output_type": "display_data"
    }
   ],
   "source": [
    "fig, ax = plt.subplots(figsize=(18,10))\n",
    "sns.histplot(np.abs(full_data_merge_age_risk['ACCT_AGE']),bins = 30, kde = True)\n",
    "plt.title('Account Tenture Distribution')"
   ]
  },
  {
   "cell_type": "code",
   "execution_count": 45,
   "id": "9e33b542",
   "metadata": {},
   "outputs": [
    {
     "data": {
      "image/png": "[encoded data removed]",
      "text/plain": [
       "<Figure size 360x576 with 1 Axes>"
      ]
     },
     "metadata": {
      "needs_background": "light"
     },
     "output_type": "display_data"
    }
   ],
   "source": [
    "fig, ax = plt.subplots(figsize=(5,8))\n",
    "sns.boxplot(y=np.abs(full_data_merge_age_risk['ACCT_AGE']),\\\n",
    "            x=full_data_merge_age_risk['HIGH_RISK'])\n",
    "plt.xticks(ticks=[0,1], labels=['no','yes'])\n",
    "plt.title('High VS LOW risk group by Account Tenture')\n",
    "plt.show()"
   ]
  },
  {
   "cell_type": "markdown",
   "id": "060db604",
   "metadata": {},
   "source": [
    "# Correlation Analysis"
   ]
  },
  {
   "cell_type": "code",
   "execution_count": 52,
   "id": "09194338",
   "metadata": {},
   "outputs": [
    {
     "data": {
      "image/png": "[encoded data removed]",
      "text/plain": [
       "<Figure size 1296x720 with 2 Axes>"
      ]
     },
     "metadata": {
      "needs_background": "light"
     },
     "output_type": "display_data"
    }
   ],
   "source": [
    "#get only lower triangle of the correlation matrix\n",
    "#generate a mask for upper triangle\n",
    "mask = np.zeros_like(full_data_merge_age_risk.drop(['FLAG_MOBIL'],axis =1).corr(), dtype='bool')\n",
    "mask[np.triu_indices_from(mask)] = True\n",
    "\n",
    "fig, ax = plt.subplots(figsize=(18,10))\n",
    "sns.heatmap(full_data_merge_age_risk.drop(['FLAG_MOBIL'],axis =1).corr(), annot = True, cmap='flare',\\\n",
    "           mask=mask, linewidths = .5)\n",
    "plt.show()"
   ]
  },
  {
   "cell_type": "code",
   "execution_count": null,
   "id": "0e3737e7",
   "metadata": {},
   "outputs": [],
   "source": []
  },
  {
   "cell_type": "markdown",
   "id": "b84dd9ca",
   "metadata": {},
   "source": [
    "# Bracket AMT income\n"
   ]
  },
  {
   "cell_type": "code",
   "execution_count": null,
   "id": "ac7398b0",
   "metadata": {},
   "outputs": [],
   "source": [
    "print('\\033[93m')\n",
    "print('The lowest income: ${}\\nThe median income: ${}\\nThe highest income: ${}'\\\n",
    "      .format(full_data_merge_age_risk['AMT_INCOME_TOTAL'].min(),\\\n",
    "             full_data_merge_age_risk['AMT_INCOME_TOTAL'].mean(),\\\n",
    "             full_data_merge_age_risk['AMT_INCOME_TOTAL'].max()))"
   ]
  },
  {
   "cell_type": "code",
   "execution_count": null,
   "id": "3040ffac",
   "metadata": {},
   "outputs": [],
   "source": [
    "print('\\033[92m')\n",
    "\n",
    "print('''I decide to bracket the amt income into 4 brackets:\\033[93m \\n\\033[1m1st bracket:\\033[0m \\033[93m{} records which is the group of customer who earned income from ${} to $100,000\\n\\033[1m2nd bracket:\\033[0m \\033[93m{} records which is the group of customer who earned income from $100,000 to $200,000\\n\\033[1m3rd bracket:\\033[0m \\033[93m{} records which is the group of customer who earned income from $200,000 to $400,000\\n\\033[1m4th bracket:\\033[0m \\033[93m{} records which is the group of customer who earned income more than $400,000'''\\\n",
    "      .format(full_data_merge_age_risk[full_data_merge_age_risk['AMT_INCOME_TOTAL'] < 100000].shape[0],\n",
    "              full_data_merge_age_risk['AMT_INCOME_TOTAL'].min(),\n",
    "              full_data_merge_age_risk.query('AMT_INCOME_TOTAL >= 100000 & AMT_INCOME_TOTAL < 200000').shape[0],\n",
    "              full_data_merge_age_risk.query('AMT_INCOME_TOTAL >= 200000 & AMT_INCOME_TOTAL < 400000').shape[0],\n",
    "              full_data_merge_age_risk.query('AMT_INCOME_TOTAL >= 400000').shape[0]))"
   ]
  },
  {
   "cell_type": "code",
   "execution_count": null,
   "id": "194c56b7",
   "metadata": {},
   "outputs": [],
   "source": [
    "full_data_merge_age_risk['AMT_INCOME_TOTAL'] = np.where(full_data_merge_age_risk['AMT_INCOME_TOTAL'] < 100000,1,\\\n",
    "         np.where((full_data_merge_age_risk['AMT_INCOME_TOTAL'] >= 100000)& \\\n",
    "                  (full_data_merge_age_risk['AMT_INCOME_TOTAL'] < 200000),2,\\\n",
    "                  np.where((full_data_merge_age_risk['AMT_INCOME_TOTAL'] >= 200000)& \\\n",
    "                  (full_data_merge_age_risk['AMT_INCOME_TOTAL'] < 400000),3,4)))"
   ]
  },
  {
   "cell_type": "code",
   "execution_count": null,
   "id": "5934c665",
   "metadata": {},
   "outputs": [],
   "source": [
    "full_data_merge_age_risk['AMT_INCOME_TOTAL'].value_counts()"
   ]
  },
  {
   "cell_type": "code",
   "execution_count": null,
   "id": "ef32efab",
   "metadata": {},
   "outputs": [],
   "source": [
    "value_cnt_norm(full_data_merge_age_risk,'AMT_INCOME_TOTAL')"
   ]
  },
  {
   "cell_type": "code",
   "execution_count": null,
   "id": "87c796c5",
   "metadata": {},
   "outputs": [],
   "source": [
    "#Birthdate"
   ]
  },
  {
   "cell_type": "code",
   "execution_count": null,
   "id": "e1e8fabd",
   "metadata": {},
   "outputs": [],
   "source": [
    "# day employ"
   ]
  },
  {
   "cell_type": "markdown",
   "id": "708f84f7",
   "metadata": {},
   "source": [
    "# convert value of these columns to categorical \n",
    "\n",
    "\n",
    "CODE_GENDER_CNT  FREQUENCY\n",
    " F            24430  67.010451\n",
    " M            12027  32.989549,\n",
    "    FLAG_OWN_CAR_CNT  FREQUENCY\n",
    " N             22614   62.02924\n",
    " Y             13843   37.97076,\n",
    "    FLAG_OWN_REALTY_CNT  FREQUENCY\n",
    " Y                24506  67.218915\n",
    " N                11951  32.7"
   ]
  },
  {
   "cell_type": "code",
   "execution_count": null,
   "id": "6a12ee1a",
   "metadata": {},
   "outputs": [],
   "source": [
    "full_data_merge_age_risk['CODE_GENDER'] = full_data_merge_age_risk['CODE_GENDER'].apply(lambda x: 1 if x == 'F' else 0)\n",
    "full_data_merge_age_risk['FLAG_OWN_CAR'] = full_data_merge_age_risk['FLAG_OWN_CAR'].apply(lambda x: 1 if x == 'Y' else 0)\n",
    "\n",
    "full_data_merge_age_risk['FLAG_OWN_REALTY'] = full_data_merge_age_risk['FLAG_OWN_REALTY'].apply(lambda x: 1 if x == 'Y' else 0)\n"
   ]
  },
  {
   "cell_type": "markdown",
   "id": "3cb8e8cd",
   "metadata": {},
   "source": [
    "### Change NAME_EDUCATION_TYPE\tobject\tto ordinal\n"
   ]
  },
  {
   "cell_type": "code",
   "execution_count": null,
   "id": "f8057997",
   "metadata": {},
   "outputs": [],
   "source": [
    "print(full_data_merge_age_risk['NAME_EDUCATION_TYPE'].value_counts())"
   ]
  },
  {
   "cell_type": "code",
   "execution_count": null,
   "id": "47b80767",
   "metadata": {},
   "outputs": [],
   "source": [
    "full_data_merge_age_risk['NAME_EDUCATION_TYPE'] = np.where(full_data_merge_age_risk['NAME_EDUCATION_TYPE'] == \"Lower secondary\",0,\\\n",
    "        np.where(full_data_merge_age_risk['NAME_EDUCATION_TYPE'] == \"Secondary / secondary special\",1,\\\n",
    "                np.where(full_data_merge_age_risk['NAME_EDUCATION_TYPE'] == \"Incomplete higher\",2,4)))\n",
    "\n",
    "print(full_data_merge_age_risk['NAME_EDUCATION_TYPE'].value_counts())"
   ]
  },
  {
   "cell_type": "markdown",
   "id": "435be855",
   "metadata": {},
   "source": [
    "NAME_INCOME_TYPE\tobject\t36457\t5\t0\t0.00\n"
   ]
  },
  {
   "cell_type": "code",
   "execution_count": null,
   "id": "25f7bb20",
   "metadata": {},
   "outputs": [],
   "source": [
    "print(full_data_merge_age_risk['NAME_INCOME_TYPE'].value_counts())"
   ]
  },
  {
   "cell_type": "markdown",
   "id": "3f92b9d4",
   "metadata": {},
   "source": [
    "8\tNAME_FAMILY_STATUS\tobject\t36457\t5\t0\t0.00\n"
   ]
  },
  {
   "cell_type": "code",
   "execution_count": null,
   "id": "398947ff",
   "metadata": {},
   "outputs": [],
   "source": [
    "print(full_data_merge_age_risk['NAME_FAMILY_STATUS'].value_counts())"
   ]
  },
  {
   "cell_type": "markdown",
   "id": "eaf677e5",
   "metadata": {},
   "source": [
    "9\tNAME_HOUSING_TYPE"
   ]
  },
  {
   "cell_type": "code",
   "execution_count": null,
   "id": "cf9e6f3b",
   "metadata": {},
   "outputs": [],
   "source": [
    "print(full_data_merge_age_risk['NAME_HOUSING_TYPE'].value_counts())"
   ]
  },
  {
   "cell_type": "markdown",
   "id": "a3dcd3df",
   "metadata": {},
   "source": [
    "## convert these cols to categorical \n",
    "\n",
    "['NAME_INCOME_TYPE','NAME_HOUSING_TYPE','NAME_FAMILY_STATUS']"
   ]
  },
  {
   "cell_type": "code",
   "execution_count": null,
   "id": "c8ef752f",
   "metadata": {},
   "outputs": [],
   "source": [
    "oh_col = ['NAME_INCOME_TYPE','NAME_HOUSING_TYPE','NAME_FAMILY_STATUS']\n",
    "\n",
    "one_hot_df = pd.get_dummies(full_data_merge_age_risk, columns = oh_col)\n",
    "one_hot_df.head()"
   ]
  },
  {
   "cell_type": "markdown",
   "id": "b56fa772",
   "metadata": {},
   "source": [
    "\n",
    "# check if there are any missing values"
   ]
  },
  {
   "cell_type": "code",
   "execution_count": null,
   "id": "460860de",
   "metadata": {},
   "outputs": [],
   "source": [
    "def show_missing(df):\n",
    "    \"\"\"Return a Pandas dataframe describing the contents of a source dataframe including missing values.\"\"\"\n",
    "    \n",
    "    variables = []\n",
    "    dtypes = []\n",
    "    count = []\n",
    "    unique = []\n",
    "    missing = []\n",
    "    pc_missing = []\n",
    "    \n",
    "    for item in df.columns:\n",
    "        variables.append(item)\n",
    "        dtypes.append(df[item].dtype)\n",
    "        count.append(len(df[item]))\n",
    "        unique.append(len(df[item].unique()))\n",
    "        missing.append(df[item].isna().sum())\n",
    "        pc_missing.append(round((df[item].isna().sum() / len(df[item])) * 100, 2))\n",
    "\n",
    "    output = pd.DataFrame({\n",
    "        'variable': variables, \n",
    "        'dtype': dtypes,\n",
    "        'count': count,\n",
    "        'unique': unique,\n",
    "        'missing': missing, \n",
    "        'pc_missing': pc_missing\n",
    "    })    \n",
    "        \n",
    "    return output\n",
    "\n",
    "show_missing(full_data_merge_age_risk)"
   ]
  },
  {
   "cell_type": "code",
   "execution_count": null,
   "id": "47a828db",
   "metadata": {},
   "outputs": [],
   "source": [
    "full_data_merge_age_risk.OCCUPATION_TYPE.value_counts()\n"
   ]
  },
  {
   "cell_type": "code",
   "execution_count": null,
   "id": "95e29aeb",
   "metadata": {},
   "outputs": [],
   "source": [
    "# since OCCUPATION_TYPE miss value contains 31% of the dataframe\n",
    "# I decide to drop this column\n",
    "drop_col = ['OCCUPATION_TYPE','FLAG_MOBIL']\n",
    "df2 =one_hot_df.drop(columns = drop_col)\n",
    "df2.shape"
   ]
  },
  {
   "cell_type": "markdown",
   "id": "b866d952",
   "metadata": {},
   "source": [
    "# Split train and test data"
   ]
  },
  {
   "cell_type": "code",
   "execution_count": null,
   "id": "fa307098",
   "metadata": {},
   "outputs": [],
   "source": [
    "from sklearn.model_selection import train_test_split"
   ]
  },
  {
   "cell_type": "code",
   "execution_count": null,
   "id": "af17596f",
   "metadata": {},
   "outputs": [],
   "source": [
    "X_train, X_test, y_train, y_test = train_test_split(df2.iloc[:,:-1],\\\n",
    "                                                    df2[['HIGH_RISK']],\\\n",
    "                                                    test_size = 0.2, random_state = 42)"
   ]
  },
  {
   "cell_type": "code",
   "execution_count": null,
   "id": "29800a3b",
   "metadata": {},
   "outputs": [],
   "source": [
    "train_df = pd.concat([X_train,y_train], axis = 1)\n",
    "test_df = pd.concat([X_test,y_test], axis = 1)\n",
    "train_df.to_csv('dataset/cc_train.csv', index = False)\n",
    "test_df.to_csv('dataset/cc_test.csv', index = False)\n",
    "print('\\033[94m')\n",
    "print('*'*60)\n",
    "print(f'There are {train_df.shape[1]} columns and {train_df.shape[0]} rows in Train set')\n",
    "print(f'There are {test_df.shape[1]} columns and {test_df.shape[0]} rows in Test set')"
   ]
  },
  {
   "cell_type": "code",
   "execution_count": null,
   "id": "2e571d5a",
   "metadata": {},
   "outputs": [],
   "source": []
  }
 ],
 "metadata": {
  "kernelspec": {
   "display_name": "Python 3 (ipykernel)",
   "language": "python",
   "name": "python3"
  },
  "language_info": {
   "codemirror_mode": {
    "name": "ipython",
    "version": 3
   },
   "file_extension": ".py",
   "mimetype": "text/x-python",
   "name": "python",
   "nbconvert_exporter": "python",
   "pygments_lexer": "ipython3",
   "version": "3.9.7"
  }
 },
 "nbformat": 4,
 "nbformat_minor": 5
}
